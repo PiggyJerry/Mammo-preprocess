{
 "cells": [
  {
   "cell_type": "markdown",
   "metadata": {},
   "source": [
    "image-classification"
   ]
  },
  {
   "cell_type": "code",
   "execution_count": 1,
   "metadata": {},
   "outputs": [
    {
     "name": "stdout",
     "output_type": "stream",
     "text": [
      "Processed mdb001 for Train set\n",
      "Processed mdb002 for Train set\n",
      "Processed mdb003 for Train set\n",
      "Processed mdb006 for Train set\n",
      "Processed mdb010 for Train set\n",
      "Processed mdb011 for Train set\n",
      "Processed mdb012 for Train set\n",
      "Processed mdb013 for Train set\n",
      "Processed mdb014 for Train set\n",
      "Processed mdb015 for Train set\n",
      "Processed mdb016 for Train set\n",
      "Processed mdb017 for Train set\n",
      "Processed mdb018 for Train set\n",
      "Processed mdb019 for Train set\n",
      "Processed mdb020 for Train set\n",
      "Processed mdb021 for Train set\n",
      "Processed mdb022 for Train set\n",
      "Processed mdb023 for Train set\n",
      "Processed mdb024 for Train set\n",
      "Processed mdb026 for Train set\n",
      "Processed mdb027 for Train set\n",
      "Processed mdb028 for Train set\n",
      "Processed mdb029 for Train set\n",
      "Processed mdb030 for Train set\n",
      "Processed mdb031 for Train set\n",
      "Processed mdb032 for Train set\n",
      "Processed mdb034 for Train set\n",
      "Processed mdb036 for Train set\n",
      "Processed mdb037 for Train set\n",
      "Processed mdb038 for Train set\n",
      "Processed mdb040 for Train set\n",
      "Processed mdb041 for Train set\n",
      "Processed mdb042 for Train set\n",
      "Processed mdb044 for Train set\n",
      "Processed mdb045 for Train set\n",
      "Processed mdb046 for Train set\n",
      "Processed mdb047 for Train set\n",
      "Processed mdb048 for Train set\n",
      "Processed mdb050 for Train set\n",
      "Processed mdb051 for Train set\n",
      "Processed mdb052 for Train set\n",
      "Processed mdb054 for Train set\n",
      "Processed mdb057 for Train set\n",
      "Processed mdb058 for Train set\n",
      "Processed mdb059 for Train set\n",
      "Processed mdb060 for Train set\n",
      "Processed mdb061 for Train set\n",
      "Processed mdb062 for Train set\n",
      "Processed mdb063 for Train set\n",
      "Processed mdb064 for Train set\n",
      "Processed mdb065 for Train set\n",
      "Processed mdb068 for Train set\n",
      "Processed mdb069 for Train set\n",
      "Processed mdb070 for Train set\n",
      "Processed mdb071 for Train set\n",
      "Processed mdb072 for Train set\n",
      "Processed mdb073 for Train set\n",
      "Processed mdb074 for Train set\n",
      "Processed mdb076 for Train set\n",
      "Processed mdb078 for Train set\n",
      "Processed mdb079 for Train set\n",
      "Processed mdb080 for Train set\n",
      "Processed mdb082 for Train set\n",
      "Processed mdb083 for Train set\n",
      "Processed mdb084 for Train set\n",
      "Processed mdb085 for Train set\n",
      "Processed mdb086 for Train set\n",
      "Processed mdb087 for Train set\n",
      "Processed mdb088 for Train set\n",
      "Processed mdb089 for Train set\n",
      "Processed mdb090 for Train set\n",
      "Processed mdb092 for Train set\n",
      "Processed mdb095 for Train set\n",
      "Processed mdb096 for Train set\n",
      "Processed mdb097 for Train set\n",
      "Processed mdb098 for Train set\n",
      "Processed mdb099 for Train set\n",
      "Processed mdb100 for Train set\n",
      "Processed mdb103 for Train set\n",
      "Processed mdb104 for Train set\n",
      "Processed mdb105 for Train set\n",
      "Processed mdb106 for Train set\n",
      "Processed mdb107 for Train set\n",
      "Processed mdb109 for Train set\n",
      "Processed mdb110 for Train set\n",
      "Processed mdb111 for Train set\n",
      "Processed mdb112 for Train set\n",
      "Processed mdb113 for Train set\n",
      "Processed mdb114 for Train set\n",
      "Processed mdb115 for Train set\n",
      "Processed mdb116 for Train set\n",
      "Processed mdb117 for Train set\n",
      "Processed mdb118 for Train set\n",
      "Processed mdb120 for Train set\n",
      "Processed mdb121 for Train set\n",
      "Processed mdb122 for Train set\n",
      "Processed mdb123 for Train set\n",
      "Processed mdb124 for Train set\n",
      "Processed mdb125 for Train set\n",
      "Processed mdb126 for Train set\n",
      "Processed mdb128 for Train set\n",
      "Processed mdb129 for Train set\n",
      "Processed mdb130 for Train set\n",
      "Processed mdb132 for Train set\n",
      "Processed mdb132 for Train set\n",
      "Processed mdb134 for Train set\n",
      "Processed mdb135 for Train set\n",
      "Processed mdb136 for Train set\n",
      "Processed mdb137 for Train set\n",
      "Processed mdb138 for Train set\n",
      "Processed mdb139 for Train set\n",
      "Processed mdb140 for Train set\n",
      "Processed mdb141 for Train set\n",
      "Processed mdb142 for Train set\n",
      "Processed mdb143 for Train set\n",
      "Processed mdb145 for Train set\n",
      "Processed mdb146 for Train set\n",
      "Processed mdb148 for Train set\n",
      "Processed mdb149 for Train set\n",
      "Processed mdb150 for Train set\n",
      "Processed mdb151 for Train set\n",
      "Processed mdb153 for Train set\n",
      "Processed mdb156 for Train set\n",
      "Processed mdb157 for Train set\n",
      "Processed mdb158 for Train set\n",
      "Processed mdb159 for Train set\n",
      "Processed mdb160 for Train set\n",
      "Processed mdb161 for Train set\n",
      "Processed mdb162 for Train set\n",
      "Processed mdb163 for Train set\n",
      "Processed mdb164 for Train set\n",
      "Processed mdb165 for Train set\n",
      "Processed mdb166 for Train set\n",
      "Processed mdb167 for Train set\n",
      "Processed mdb168 for Train set\n",
      "Processed mdb169 for Train set\n",
      "Processed mdb170 for Train set\n",
      "Processed mdb171 for Train set\n",
      "Processed mdb172 for Train set\n",
      "Processed mdb173 for Train set\n",
      "Processed mdb175 for Train set\n",
      "Processed mdb176 for Train set\n",
      "Processed mdb178 for Train set\n",
      "Processed mdb179 for Train set\n",
      "Processed mdb182 for Train set\n",
      "Processed mdb183 for Train set\n",
      "Processed mdb185 for Train set\n",
      "Processed mdb186 for Train set\n",
      "Processed mdb188 for Train set\n",
      "Processed mdb189 for Train set\n",
      "Processed mdb190 for Train set\n",
      "Processed mdb191 for Train set\n",
      "Processed mdb192 for Train set\n",
      "Processed mdb195 for Train set\n",
      "Processed mdb196 for Train set\n",
      "Processed mdb197 for Train set\n",
      "Processed mdb198 for Train set\n",
      "Processed mdb199 for Train set\n",
      "Processed mdb200 for Train set\n",
      "Processed mdb202 for Train set\n",
      "Processed mdb203 for Train set\n",
      "Processed mdb204 for Train set\n",
      "Processed mdb205 for Train set\n",
      "Processed mdb206 for Train set\n",
      "Processed mdb207 for Train set\n",
      "Processed mdb209 for Train set\n",
      "Processed mdb210 for Train set\n",
      "Processed mdb211 for Train set\n",
      "Processed mdb213 for Train set\n",
      "Processed mdb214 for Train set\n",
      "Processed mdb215 for Train set\n",
      "Processed mdb216 for Train set\n",
      "Processed mdb217 for Train set\n",
      "Processed mdb218 for Train set\n",
      "Processed mdb220 for Train set\n",
      "Processed mdb221 for Train set\n",
      "Processed mdb223 for Train set\n",
      "Processed mdb223 for Train set\n",
      "Processed mdb224 for Train set\n",
      "Processed mdb225 for Train set\n",
      "Processed mdb226 for Train set\n",
      "Processed mdb226 for Train set\n",
      "Processed mdb226 for Train set\n",
      "Processed mdb227 for Train set\n",
      "Processed mdb229 for Train set\n",
      "Processed mdb231 for Train set\n",
      "Processed mdb232 for Train set\n",
      "Processed mdb234 for Train set\n",
      "Processed mdb235 for Train set\n",
      "Processed mdb236 for Train set\n",
      "Processed mdb237 for Train set\n",
      "Processed mdb238 for Train set\n",
      "Processed mdb239 for Train set\n",
      "Processed mdb239 for Train set\n",
      "Processed mdb240 for Train set\n",
      "Processed mdb241 for Train set\n",
      "Processed mdb242 for Train set\n",
      "Processed mdb243 for Train set\n",
      "Processed mdb244 for Train set\n",
      "Processed mdb245 for Train set\n",
      "Processed mdb246 for Train set\n",
      "Processed mdb247 for Train set\n",
      "Processed mdb248 for Train set\n",
      "Processed mdb250 for Train set\n",
      "Processed mdb251 for Train set\n",
      "Processed mdb253 for Train set\n",
      "Processed mdb254 for Train set\n",
      "Processed mdb256 for Train set\n",
      "Processed mdb257 for Train set\n",
      "Processed mdb258 for Train set\n",
      "Processed mdb259 for Train set\n",
      "Processed mdb260 for Train set\n",
      "Processed mdb262 for Train set\n",
      "Processed mdb263 for Train set\n",
      "Processed mdb264 for Train set\n",
      "Processed mdb265 for Train set\n",
      "Processed mdb266 for Train set\n",
      "Processed mdb267 for Train set\n",
      "Processed mdb268 for Train set\n",
      "Processed mdb269 for Train set\n",
      "Processed mdb272 for Train set\n",
      "Processed mdb273 for Train set\n",
      "Processed mdb275 for Train set\n",
      "Processed mdb276 for Train set\n",
      "Processed mdb278 for Train set\n",
      "Processed mdb279 for Train set\n",
      "Processed mdb280 for Train set\n",
      "Processed mdb281 for Train set\n",
      "Processed mdb282 for Train set\n",
      "Processed mdb283 for Train set\n",
      "Processed mdb284 for Train set\n",
      "Processed mdb286 for Train set\n",
      "Processed mdb287 for Train set\n",
      "Processed mdb288 for Train set\n",
      "Processed mdb290 for Train set\n",
      "Processed mdb291 for Train set\n",
      "Processed mdb293 for Train set\n",
      "Processed mdb294 for Train set\n",
      "Processed mdb295 for Train set\n",
      "Processed mdb296 for Train set\n",
      "Processed mdb298 for Train set\n",
      "Processed mdb299 for Train set\n",
      "Processed mdb300 for Train set\n",
      "Processed mdb301 for Train set\n",
      "Processed mdb302 for Train set\n",
      "Processed mdb303 for Train set\n",
      "Processed mdb304 for Train set\n",
      "Processed mdb305 for Train set\n",
      "Processed mdb306 for Train set\n",
      "Processed mdb307 for Train set\n",
      "Processed mdb308 for Train set\n",
      "Processed mdb310 for Train set\n",
      "Processed mdb311 for Train set\n",
      "Processed mdb312 for Train set\n",
      "Processed mdb313 for Train set\n",
      "Processed mdb315 for Train set\n",
      "Processed mdb316 for Train set\n",
      "Processed mdb318 for Train set\n",
      "Processed mdb319 for Train set\n",
      "Processed mdb320 for Train set\n",
      "Processed mdb321 for Train set\n",
      "Processed mdb322 for Train set\n",
      "Processed mdb004 for Test set\n",
      "Processed mdb005 for Test set\n",
      "Processed mdb005 for Test set\n",
      "Processed mdb007 for Test set\n",
      "Processed mdb008 for Test set\n",
      "Processed mdb009 for Test set\n",
      "Processed mdb025 for Test set\n",
      "Processed mdb033 for Test set\n",
      "Processed mdb035 for Test set\n",
      "Processed mdb039 for Test set\n",
      "Processed mdb043 for Test set\n",
      "Processed mdb049 for Test set\n",
      "Processed mdb053 for Test set\n",
      "Processed mdb055 for Test set\n",
      "Processed mdb056 for Test set\n",
      "Processed mdb066 for Test set\n",
      "Processed mdb067 for Test set\n",
      "Processed mdb075 for Test set\n",
      "Processed mdb077 for Test set\n",
      "Processed mdb081 for Test set\n",
      "Processed mdb091 for Test set\n",
      "Processed mdb093 for Test set\n",
      "Processed mdb094 for Test set\n",
      "Processed mdb101 for Test set\n",
      "Processed mdb102 for Test set\n",
      "Processed mdb108 for Test set\n",
      "Processed mdb119 for Test set\n",
      "Processed mdb127 for Test set\n",
      "Processed mdb131 for Test set\n",
      "Processed mdb133 for Test set\n",
      "Processed mdb144 for Test set\n",
      "Processed mdb144 for Test set\n",
      "Processed mdb147 for Test set\n",
      "Processed mdb152 for Test set\n",
      "Processed mdb154 for Test set\n",
      "Processed mdb155 for Test set\n",
      "Processed mdb174 for Test set\n",
      "Processed mdb177 for Test set\n",
      "Processed mdb180 for Test set\n",
      "Processed mdb181 for Test set\n",
      "Processed mdb184 for Test set\n",
      "Processed mdb187 for Test set\n",
      "Processed mdb193 for Test set\n",
      "Processed mdb194 for Test set\n",
      "Processed mdb201 for Test set\n",
      "Processed mdb208 for Test set\n",
      "Processed mdb212 for Test set\n",
      "Processed mdb219 for Test set\n",
      "Processed mdb222 for Test set\n",
      "Processed mdb228 for Test set\n",
      "Processed mdb230 for Test set\n",
      "Processed mdb233 for Test set\n",
      "Processed mdb249 for Test set\n",
      "Processed mdb249 for Test set\n",
      "Processed mdb252 for Test set\n",
      "Processed mdb255 for Test set\n",
      "Processed mdb261 for Test set\n",
      "Processed mdb270 for Test set\n",
      "Processed mdb271 for Test set\n",
      "Processed mdb274 for Test set\n",
      "Processed mdb277 for Test set\n",
      "Processed mdb285 for Test set\n",
      "Processed mdb289 for Test set\n",
      "Processed mdb292 for Test set\n",
      "Processed mdb297 for Test set\n",
      "Processed mdb309 for Test set\n",
      "Processed mdb314 for Test set\n",
      "Processed mdb317 for Test set\n"
     ]
    }
   ],
   "source": [
    "import os\n",
    "import cv2\n",
    "import numpy as np\n",
    "from sklearn.model_selection import train_test_split\n",
    "\n",
    "def np_CountUpContinuingOnes(b_arr):\n",
    "    # indice continuing zeros from left side.\n",
    "    # ex: [0,1,1,0,1,0,0,1,1,1,0] -> [0,0,0,3,3,5,6,6,6,6,10]\n",
    "    left = np.arange(len(b_arr))\n",
    "    left[b_arr > 0] = 0\n",
    "    left = np.maximum.accumulate(left)\n",
    "\n",
    "    # from right side.\n",
    "    # ex: [0,1,1,0,1,0,0,1,1,1,0] -> [0,3,3,3,5,5,6,10,10,10,10]\n",
    "    rev_arr = b_arr[::-1]\n",
    "    right = np.arange(len(rev_arr))\n",
    "    right[rev_arr > 0] = 0\n",
    "    right = np.maximum.accumulate(right)\n",
    "    right = len(rev_arr) - 1 - right[::-1]\n",
    "\n",
    "    return right - left - 1\n",
    "\n",
    "\n",
    "def ExtractBreast(img):\n",
    "    img_copy = img.copy()\n",
    "    img = np.where(img <= 20, 0, img)  # To detect backgrounds easily\n",
    "    height, _ = img.shape\n",
    "\n",
    "    # whether each col is non-constant or not\n",
    "    y_a = height // 2 + int(height * 0.4)\n",
    "    y_b = height // 2 - int(height * 0.4)\n",
    "    b_arr = img[y_b:y_a].std(axis=0) != 0\n",
    "    continuing_ones = np_CountUpContinuingOnes(b_arr)\n",
    "    # longest should be the breast\n",
    "    col_ind = np.where(continuing_ones == continuing_ones.max())[0]\n",
    "    img = img[:, col_ind]\n",
    "\n",
    "    # whether each row is non-constant or not\n",
    "    _, width = img.shape\n",
    "    x_a = width // 2 + int(width * 0.4)\n",
    "    x_b = width // 2 - int(width * 0.4)\n",
    "    b_arr = img[:, x_b:x_a].std(axis=1) != 0\n",
    "    continuing_ones = np_CountUpContinuingOnes(b_arr)\n",
    "    # longest should be the breast\n",
    "    row_ind = np.where(continuing_ones == continuing_ones.max())[0]\n",
    "\n",
    "    return img_copy[row_ind][:, col_ind]\n",
    "\n",
    "# 定义路径\n",
    "TXT_PATH = '/Volumes/图图/MIAS/archive/Info.txt'\n",
    "PGM_PATH = '/Volumes/图图/MIAS/archive/all-mias'\n",
    "OUTPUT_BASE_PATH = '/Volumes/图图/MIAS/archive/image-classification'\n",
    "\n",
    "# 读取TXT文件\n",
    "with open(TXT_PATH, 'r') as file:\n",
    "    lines = file.readlines()\n",
    "\n",
    "# 跳过标题行\n",
    "lines = lines[1:]\n",
    "\n",
    "refnums = [line.split()[0] for line in lines]\n",
    "unique_refnums = list(set(refnums))\n",
    "\n",
    "# 将去重后的 refnum 按8:2分为训练集和测试集\n",
    "train_refnums, test_refnums = train_test_split(unique_refnums, test_size=0.2, random_state=42)\n",
    "\n",
    "# 根据去重后的 refnum 划分原始数据集\n",
    "train_lines = [line for line in lines if line.split()[0] in train_refnums]\n",
    "test_lines = [line for line in lines if line.split()[0] in test_refnums]\n",
    "\n",
    "def process_and_save(lines, set_type):\n",
    "    for line in lines:\n",
    "        parts = line.split()\n",
    "        refnum = parts[0]\n",
    "        bg = str(parts[1]).replace(' ','')\n",
    "        # cls = parts[2]\n",
    "        # severity = parts[3] if len(parts) > 3 else 'N'\n",
    "\n",
    "        # 读取PGM文件\n",
    "        pgm_file = os.path.join(PGM_PATH, refnum + '.pgm')\n",
    "        if os.path.exists(pgm_file):\n",
    "            img = cv2.imread(pgm_file, cv2.IMREAD_GRAYSCALE)\n",
    "            img = ExtractBreast(img)\n",
    "            img = cv2.normalize(img, None, 0, 255, cv2.NORM_MINMAX).astype(np.uint8)\n",
    "\n",
    "            # 创建输出目录\n",
    "            output_dir = os.path.join(OUTPUT_BASE_PATH, set_type, refnum)\n",
    "            if not os.path.exists(output_dir):\n",
    "                os.makedirs(output_dir)\n",
    "\n",
    "            # 保存预处理后的图像为JPEG格式\n",
    "            jpg_output_path = os.path.join(output_dir, 'img.jpg')\n",
    "            cv2.imwrite(jpg_output_path, img)\n",
    "\n",
    "            # 保存标签为NumPy文件字典\n",
    "            info = {\n",
    "                'background': bg\n",
    "                # 'class': cls,\n",
    "                # 'severity': severity\n",
    "            }\n",
    "            npy_path = os.path.join(output_dir, 'info_dict.npy')\n",
    "            np.save(npy_path, info)\n",
    "\n",
    "            print(f\"Processed {refnum} for {set_type} set\")\n",
    "        else:\n",
    "            print(f\"PGM file for {refnum} not found.\")\n",
    "\n",
    "# 处理并保存训练集和测试集\n",
    "process_and_save(train_lines, 'Train')\n",
    "process_and_save(test_lines, 'Test')\n"
   ]
  },
  {
   "cell_type": "markdown",
   "metadata": {},
   "source": [
    "cropped-classification"
   ]
  },
  {
   "cell_type": "code",
   "execution_count": 3,
   "metadata": {},
   "outputs": [
    {
     "name": "stdout",
     "output_type": "stream",
     "text": [
      "Processed mdb130 for Train set\n",
      "Processed mdb025 for Train set\n",
      "Processed mdb032 for Train set\n",
      "Processed mdb188 for Train set\n",
      "Processed mdb256 for Train set\n",
      "Processed mdb090 for Train set\n",
      "Processed mdb179 for Train set\n",
      "Processed mdb081 for Train set\n",
      "Processed mdb115 for Train set\n",
      "Processed mdb152 for Train set\n",
      "Processed mdb209 for Train set\n",
      "Processed mdb102 for Train set\n",
      "Processed mdb170 for Train set\n",
      "Processed mdb191 for Train set\n",
      "Processed mdb019 for Train set\n",
      "Processed mdb107 for Train set\n",
      "Processed mdb274 for Train set\n",
      "Processed mdb184 for Train set\n",
      "Processed mdb097 for Train set\n",
      "Processed mdb134 for Train set\n",
      "Processed mdb213 for Train set\n",
      "Processed mdb012 for Train set\n",
      "Processed mdb202 for Train set\n",
      "Processed mdb181 for Train set\n",
      "Processed mdb121 for Train set\n",
      "Processed mdb142 for Train set\n",
      "Processed mdb111 for Train set\n",
      "Processed mdb058 for Train set\n",
      "Processed mdb178 for Train set\n",
      "Processed mdb110 for Train set\n",
      "Processed mdb214 for Train set\n",
      "Processed mdb015 for Train set\n",
      "Processed mdb127 for Train set\n",
      "Processed mdb271 for Train set\n",
      "Processed mdb204 for Train set\n",
      "Processed mdb095 for Train set\n",
      "Processed mdb072 for Train set\n",
      "Processed mdb227 for Train set\n",
      "Processed mdb249 for Train set\n",
      "Processed mdb091 for Train set\n",
      "Processed mdb017 for Train set\n",
      "Processed mdb028 for Train set\n",
      "Processed mdb212 for Train set\n",
      "Processed mdb005 for Train set\n",
      "Processed mdb063 for Train set\n",
      "Processed mdb120 for Train set\n",
      "Processed mdb226 for Train set\n",
      "Processed mdb013 for Train set\n",
      "Processed mdb199 for Train set\n",
      "Processed mdb241 for Train set\n",
      "Processed mdb226 for Train set\n",
      "Processed mdb150 for Train set\n",
      "Processed mdb144 for Train set\n",
      "Processed mdb264 for Train set\n",
      "Processed mdb132 for Train set\n",
      "Processed mdb207 for Train set\n",
      "Processed mdb167 for Train set\n",
      "Processed mdb290 for Train set\n",
      "Processed mdb206 for Train set\n",
      "Processed mdb312 for Train set\n",
      "Processed mdb125 for Train set\n",
      "Processed mdb160 for Train set\n",
      "Processed mdb141 for Train set\n",
      "Processed mdb240 for Train set\n",
      "Processed mdb158 for Train set\n",
      "Processed mdb198 for Train set\n",
      "Processed mdb105 for Train set\n",
      "Processed mdb267 for Train set\n",
      "Processed mdb163 for Train set\n",
      "Processed mdb171 for Train set\n",
      "Processed mdb239 for Train set\n",
      "Processed mdb117 for Train set\n",
      "Processed mdb099 for Train set\n",
      "Processed mdb249 for Train set\n",
      "Processed mdb002 for Train set\n",
      "Processed mdb145 for Train set\n",
      "Processed mdb080 for Train set\n",
      "Processed mdb005 for Train set\n",
      "Processed mdb083 for Train set\n",
      "Processed mdb248 for Train set\n",
      "Processed mdb239 for Train set\n",
      "Processed mdb219 for Train set\n",
      "Processed mdb253 for Train set\n",
      "Processed mdb195 for Train set\n",
      "Processed mdb218 for Train set\n",
      "Processed mdb211 for Train set\n",
      "Processed mdb315 for Train set\n",
      "Processed mdb075 for Train set\n",
      "Processed mdb165 for Train set\n",
      "Processed mdb190 for Train set\n",
      "Processed mdb252 for Train set\n",
      "Processed mdb030 for Train set\n",
      "Processed mdb226 for Train set\n",
      "Processed mdb144 for Train set\n",
      "Processed mdb244 for Train set\n",
      "Processed mdb155 for Test set\n",
      "Processed mdb223 for Test set\n",
      "Processed mdb010 for Test set\n",
      "Processed mdb132 for Test set\n",
      "Processed mdb092 for Test set\n",
      "Processed mdb314 for Test set\n",
      "Processed mdb186 for Test set\n",
      "Processed mdb021 for Test set\n",
      "Processed mdb223 for Test set\n",
      "Processed mdb193 for Test set\n",
      "Processed mdb069 for Test set\n",
      "Processed mdb270 for Test set\n",
      "Processed mdb023 for Test set\n",
      "Processed mdb236 for Test set\n",
      "Processed mdb126 for Test set\n",
      "Processed mdb104 for Test set\n",
      "Processed mdb222 for Test set\n",
      "Processed mdb001 for Test set\n",
      "Processed mdb238 for Test set\n",
      "Processed mdb265 for Test set\n",
      "Processed mdb175 for Test set\n",
      "Processed mdb124 for Test set\n",
      "Processed mdb231 for Test set\n",
      "Processed mdb148 for Test set\n"
     ]
    }
   ],
   "source": [
    "import os\n",
    "import cv2\n",
    "import numpy as np\n",
    "from sklearn.model_selection import train_test_split\n",
    "\n",
    "def crop_and_save(img, x, y, radius, output_path):\n",
    "    h,w=img.shape\n",
    "    # 确保裁剪区域不超出图像边界\n",
    "    x = int(x)\n",
    "    y = w-int(y)\n",
    "    radius = int(radius)\n",
    "    x1 = max(x - radius, 0)\n",
    "    y1 = max(y - radius, 0)\n",
    "    x2 = min(x + radius, img.shape[1])\n",
    "    y2 = min(y + radius, img.shape[0])\n",
    "\n",
    "    # 裁剪图像\n",
    "    cropped_img = img[y1:y2, x1:x2]\n",
    "    cropped_img = cv2.normalize(cropped_img, None, 0, 255, cv2.NORM_MINMAX).astype(np.uint8)\n",
    "    \n",
    "    # 保存裁剪后的图像\n",
    "    cv2.imwrite(output_path, cropped_img)\n",
    "\n",
    "\n",
    "# 定义路径\n",
    "TXT_PATH = '/Volumes/图图/MIAS/archive/Info.txt'\n",
    "PGM_PATH = '/Volumes/图图/MIAS/archive/all-mias'\n",
    "OUTPUT_BASE_PATH = '/Volumes/图图/MIAS/archive/cropped-classification'\n",
    "\n",
    "# 读取TXT文件\n",
    "with open(TXT_PATH, 'r') as file:\n",
    "    lines = file.readlines()\n",
    "\n",
    "# 跳过标题行\n",
    "lines = lines[1:]\n",
    "lines = [line for line in lines if len(line.split()) > 4]\n",
    "\n",
    "train_lines, test_lines = train_test_split(lines, test_size=0.2, random_state=42)\n",
    "\n",
    "def process_and_save(lines, set_type):\n",
    "    refnum_counter = {}\n",
    "    for line in lines:\n",
    "        # print(line)\n",
    "        parts = line.split()\n",
    "        refnum = parts[0]\n",
    "        # bg = parts[1]\n",
    "        cls = str(parts[2]).replace(' ','')\n",
    "        severity = str(parts[3]).replace(' ','')\n",
    "        x = parts[4]\n",
    "        y = parts[5]\n",
    "        radius = parts[6]\n",
    "        \n",
    "        if refnum in refnum_counter:\n",
    "            refnum_counter[refnum] += 1\n",
    "        else:\n",
    "            refnum_counter[refnum] = 1\n",
    "        refnum_with_suffix = f\"{refnum}_{refnum_counter[refnum]}\"\n",
    "\n",
    "        # 读取PGM文件\n",
    "        pgm_file = os.path.join(PGM_PATH, refnum + '.pgm')\n",
    "        if os.path.exists(pgm_file):\n",
    "            img = cv2.imread(pgm_file, cv2.IMREAD_GRAYSCALE)\n",
    "            # img = preprocess(img)\n",
    "            # img = cv2.normalize(img, None, 0, 255, cv2.NORM_MINMAX).astype(np.uint8)\n",
    "\n",
    "            # 创建输出目录\n",
    "            output_dir = os.path.join(OUTPUT_BASE_PATH, set_type, refnum_with_suffix)\n",
    "            if not os.path.exists(output_dir):\n",
    "                os.makedirs(output_dir)\n",
    "\n",
    "            jpg_output_path = os.path.join(output_dir, 'img.jpg')\n",
    "            crop_and_save(img, x, y, radius, jpg_output_path)\n",
    "\n",
    "            # 保存标签为NumPy文件字典\n",
    "            info = {\n",
    "                # 'background': bg\n",
    "                'class': cls,\n",
    "                'severity': severity\n",
    "            }\n",
    "            npy_path = os.path.join(output_dir, 'info_dict.npy')\n",
    "            np.save(npy_path, info)\n",
    "\n",
    "            print(f\"Processed {refnum} for {set_type} set\")\n",
    "        else:\n",
    "            print(f\"PGM file for {refnum} not found.\")\n",
    "\n",
    "# 处理并保存训练集和测试集\n",
    "process_and_save(train_lines, 'Train')\n",
    "process_and_save(test_lines, 'Test')\n"
   ]
  },
  {
   "cell_type": "markdown",
   "metadata": {},
   "source": [
    "detection"
   ]
  },
  {
   "cell_type": "code",
   "execution_count": 4,
   "metadata": {},
   "outputs": [
    {
     "name": "stderr",
     "output_type": "stream",
     "text": [
      "  1%|          | 1/95 [00:02<03:53,  2.49s/it]"
     ]
    },
    {
     "name": "stdout",
     "output_type": "stream",
     "text": [
      "Saved mdb130 data to /Volumes/图图/MIAS/archive/det/Train/mdb130\n"
     ]
    },
    {
     "name": "stderr",
     "output_type": "stream",
     "text": [
      "  2%|▏         | 2/95 [00:05<04:41,  3.03s/it]"
     ]
    },
    {
     "name": "stdout",
     "output_type": "stream",
     "text": [
      "Saved mdb025 data to /Volumes/图图/MIAS/archive/det/Train/mdb025\n"
     ]
    },
    {
     "name": "stderr",
     "output_type": "stream",
     "text": [
      "  3%|▎         | 3/95 [00:06<03:04,  2.00s/it]"
     ]
    },
    {
     "name": "stdout",
     "output_type": "stream",
     "text": [
      "Saved mdb032 data to /Volumes/图图/MIAS/archive/det/Train/mdb032\n"
     ]
    },
    {
     "name": "stderr",
     "output_type": "stream",
     "text": [
      "  4%|▍         | 4/95 [00:09<03:30,  2.32s/it]"
     ]
    },
    {
     "name": "stdout",
     "output_type": "stream",
     "text": [
      "Saved mdb188 data to /Volumes/图图/MIAS/archive/det/Train/mdb188\n"
     ]
    },
    {
     "name": "stderr",
     "output_type": "stream",
     "text": [
      "  5%|▌         | 5/95 [00:14<04:49,  3.22s/it]"
     ]
    },
    {
     "name": "stdout",
     "output_type": "stream",
     "text": [
      "Saved mdb256 data to /Volumes/图图/MIAS/archive/det/Train/mdb256\n"
     ]
    },
    {
     "name": "stderr",
     "output_type": "stream",
     "text": [
      "  6%|▋         | 6/95 [00:16<04:28,  3.01s/it]"
     ]
    },
    {
     "name": "stdout",
     "output_type": "stream",
     "text": [
      "Saved mdb090 data to /Volumes/图图/MIAS/archive/det/Train/mdb090\n"
     ]
    },
    {
     "name": "stderr",
     "output_type": "stream",
     "text": [
      "  7%|▋         | 7/95 [00:20<04:32,  3.10s/it]"
     ]
    },
    {
     "name": "stdout",
     "output_type": "stream",
     "text": [
      "Saved mdb179 data to /Volumes/图图/MIAS/archive/det/Train/mdb179\n"
     ]
    },
    {
     "name": "stderr",
     "output_type": "stream",
     "text": [
      "  8%|▊         | 8/95 [00:23<04:26,  3.06s/it]"
     ]
    },
    {
     "name": "stdout",
     "output_type": "stream",
     "text": [
      "Saved mdb081 data to /Volumes/图图/MIAS/archive/det/Train/mdb081\n"
     ]
    },
    {
     "name": "stderr",
     "output_type": "stream",
     "text": [
      "  9%|▉         | 9/95 [00:25<04:02,  2.82s/it]"
     ]
    },
    {
     "name": "stdout",
     "output_type": "stream",
     "text": [
      "Saved mdb115 data to /Volumes/图图/MIAS/archive/det/Train/mdb115\n"
     ]
    },
    {
     "name": "stderr",
     "output_type": "stream",
     "text": [
      " 11%|█         | 10/95 [00:27<03:32,  2.50s/it]"
     ]
    },
    {
     "name": "stdout",
     "output_type": "stream",
     "text": [
      "Saved mdb152 data to /Volumes/图图/MIAS/archive/det/Train/mdb152\n"
     ]
    },
    {
     "name": "stderr",
     "output_type": "stream",
     "text": [
      " 12%|█▏        | 11/95 [00:31<04:15,  3.04s/it]"
     ]
    },
    {
     "name": "stdout",
     "output_type": "stream",
     "text": [
      "Saved mdb209 data to /Volumes/图图/MIAS/archive/det/Train/mdb209\n"
     ]
    },
    {
     "name": "stderr",
     "output_type": "stream",
     "text": [
      " 13%|█▎        | 12/95 [00:35<04:29,  3.25s/it]"
     ]
    },
    {
     "name": "stdout",
     "output_type": "stream",
     "text": [
      "Saved mdb102 data to /Volumes/图图/MIAS/archive/det/Train/mdb102\n"
     ]
    },
    {
     "name": "stderr",
     "output_type": "stream",
     "text": [
      " 14%|█▎        | 13/95 [00:35<03:14,  2.38s/it]"
     ]
    },
    {
     "name": "stdout",
     "output_type": "stream",
     "text": [
      "Saved mdb170 data to /Volumes/图图/MIAS/archive/det/Train/mdb170\n"
     ]
    },
    {
     "name": "stderr",
     "output_type": "stream",
     "text": [
      " 15%|█▍        | 14/95 [00:38<03:26,  2.55s/it]"
     ]
    },
    {
     "name": "stdout",
     "output_type": "stream",
     "text": [
      "Saved mdb191 data to /Volumes/图图/MIAS/archive/det/Train/mdb191\n"
     ]
    },
    {
     "name": "stderr",
     "output_type": "stream",
     "text": [
      " 16%|█▌        | 15/95 [00:42<03:46,  2.83s/it]"
     ]
    },
    {
     "name": "stdout",
     "output_type": "stream",
     "text": [
      "Saved mdb019 data to /Volumes/图图/MIAS/archive/det/Train/mdb019\n"
     ]
    },
    {
     "name": "stderr",
     "output_type": "stream",
     "text": [
      " 17%|█▋        | 16/95 [00:45<03:51,  2.93s/it]"
     ]
    },
    {
     "name": "stdout",
     "output_type": "stream",
     "text": [
      "Saved mdb107 data to /Volumes/图图/MIAS/archive/det/Train/mdb107\n"
     ]
    },
    {
     "name": "stderr",
     "output_type": "stream",
     "text": [
      " 18%|█▊        | 17/95 [00:49<04:29,  3.46s/it]"
     ]
    },
    {
     "name": "stdout",
     "output_type": "stream",
     "text": [
      "Saved mdb274 data to /Volumes/图图/MIAS/archive/det/Train/mdb274\n"
     ]
    },
    {
     "name": "stderr",
     "output_type": "stream",
     "text": [
      " 19%|█▉        | 18/95 [00:51<03:40,  2.86s/it]"
     ]
    },
    {
     "name": "stdout",
     "output_type": "stream",
     "text": [
      "Saved mdb184 data to /Volumes/图图/MIAS/archive/det/Train/mdb184\n"
     ]
    },
    {
     "name": "stderr",
     "output_type": "stream",
     "text": [
      " 20%|██        | 19/95 [00:52<02:55,  2.31s/it]"
     ]
    },
    {
     "name": "stdout",
     "output_type": "stream",
     "text": [
      "Saved mdb097 data to /Volumes/图图/MIAS/archive/det/Train/mdb097\n"
     ]
    },
    {
     "name": "stderr",
     "output_type": "stream",
     "text": [
      " 21%|██        | 20/95 [00:54<02:56,  2.35s/it]"
     ]
    },
    {
     "name": "stdout",
     "output_type": "stream",
     "text": [
      "Saved mdb134 data to /Volumes/图图/MIAS/archive/det/Train/mdb134\n"
     ]
    },
    {
     "name": "stderr",
     "output_type": "stream",
     "text": [
      " 22%|██▏       | 21/95 [00:55<02:12,  1.79s/it]"
     ]
    },
    {
     "name": "stdout",
     "output_type": "stream",
     "text": [
      "Saved mdb213 data to /Volumes/图图/MIAS/archive/det/Train/mdb213\n"
     ]
    },
    {
     "name": "stderr",
     "output_type": "stream",
     "text": [
      " 23%|██▎       | 22/95 [00:58<02:31,  2.08s/it]"
     ]
    },
    {
     "name": "stdout",
     "output_type": "stream",
     "text": [
      "Saved mdb012 data to /Volumes/图图/MIAS/archive/det/Train/mdb012\n"
     ]
    },
    {
     "name": "stderr",
     "output_type": "stream",
     "text": [
      " 24%|██▍       | 23/95 [00:58<01:58,  1.65s/it]"
     ]
    },
    {
     "name": "stdout",
     "output_type": "stream",
     "text": [
      "Saved mdb202 data to /Volumes/图图/MIAS/archive/det/Train/mdb202\n"
     ]
    },
    {
     "name": "stderr",
     "output_type": "stream",
     "text": [
      " 25%|██▌       | 24/95 [00:59<01:43,  1.45s/it]"
     ]
    },
    {
     "name": "stdout",
     "output_type": "stream",
     "text": [
      "Saved mdb181 data to /Volumes/图图/MIAS/archive/det/Train/mdb181\n"
     ]
    },
    {
     "name": "stderr",
     "output_type": "stream",
     "text": [
      " 26%|██▋       | 25/95 [01:02<02:03,  1.76s/it]"
     ]
    },
    {
     "name": "stdout",
     "output_type": "stream",
     "text": [
      "Saved mdb121 data to /Volumes/图图/MIAS/archive/det/Train/mdb121\n"
     ]
    },
    {
     "name": "stderr",
     "output_type": "stream",
     "text": [
      " 27%|██▋       | 26/95 [01:03<01:44,  1.52s/it]"
     ]
    },
    {
     "name": "stdout",
     "output_type": "stream",
     "text": [
      "Saved mdb142 data to /Volumes/图图/MIAS/archive/det/Train/mdb142\n"
     ]
    },
    {
     "name": "stderr",
     "output_type": "stream",
     "text": [
      " 28%|██▊       | 27/95 [01:05<02:00,  1.77s/it]"
     ]
    },
    {
     "name": "stdout",
     "output_type": "stream",
     "text": [
      "Saved mdb111 data to /Volumes/图图/MIAS/archive/det/Train/mdb111\n"
     ]
    },
    {
     "name": "stderr",
     "output_type": "stream",
     "text": [
      " 29%|██▉       | 28/95 [01:06<01:38,  1.47s/it]"
     ]
    },
    {
     "name": "stdout",
     "output_type": "stream",
     "text": [
      "Saved mdb058 data to /Volumes/图图/MIAS/archive/det/Train/mdb058\n"
     ]
    },
    {
     "name": "stderr",
     "output_type": "stream",
     "text": [
      " 31%|███       | 29/95 [01:06<01:20,  1.22s/it]"
     ]
    },
    {
     "name": "stdout",
     "output_type": "stream",
     "text": [
      "Saved mdb178 data to /Volumes/图图/MIAS/archive/det/Train/mdb178\n"
     ]
    },
    {
     "name": "stderr",
     "output_type": "stream",
     "text": [
      " 32%|███▏      | 30/95 [01:07<01:13,  1.12s/it]"
     ]
    },
    {
     "name": "stdout",
     "output_type": "stream",
     "text": [
      "Saved mdb110 data to /Volumes/图图/MIAS/archive/det/Train/mdb110\n"
     ]
    },
    {
     "name": "stderr",
     "output_type": "stream",
     "text": [
      " 33%|███▎      | 31/95 [01:08<01:12,  1.13s/it]"
     ]
    },
    {
     "name": "stdout",
     "output_type": "stream",
     "text": [
      "Saved mdb214 data to /Volumes/图图/MIAS/archive/det/Train/mdb214\n"
     ]
    },
    {
     "name": "stderr",
     "output_type": "stream",
     "text": [
      " 34%|███▎      | 32/95 [01:09<01:06,  1.06s/it]"
     ]
    },
    {
     "name": "stdout",
     "output_type": "stream",
     "text": [
      "Saved mdb015 data to /Volumes/图图/MIAS/archive/det/Train/mdb015\n"
     ]
    },
    {
     "name": "stderr",
     "output_type": "stream",
     "text": [
      " 35%|███▍      | 33/95 [01:11<01:14,  1.20s/it]"
     ]
    },
    {
     "name": "stdout",
     "output_type": "stream",
     "text": [
      "Saved mdb127 data to /Volumes/图图/MIAS/archive/det/Train/mdb127\n"
     ]
    },
    {
     "name": "stderr",
     "output_type": "stream",
     "text": [
      " 36%|███▌      | 34/95 [01:13<01:30,  1.48s/it]"
     ]
    },
    {
     "name": "stdout",
     "output_type": "stream",
     "text": [
      "Saved mdb271 data to /Volumes/图图/MIAS/archive/det/Train/mdb271\n"
     ]
    },
    {
     "name": "stderr",
     "output_type": "stream",
     "text": [
      " 37%|███▋      | 35/95 [01:14<01:28,  1.48s/it]"
     ]
    },
    {
     "name": "stdout",
     "output_type": "stream",
     "text": [
      "Saved mdb204 data to /Volumes/图图/MIAS/archive/det/Train/mdb204\n"
     ]
    },
    {
     "name": "stderr",
     "output_type": "stream",
     "text": [
      " 38%|███▊      | 36/95 [01:15<01:15,  1.29s/it]"
     ]
    },
    {
     "name": "stdout",
     "output_type": "stream",
     "text": [
      "Saved mdb095 data to /Volumes/图图/MIAS/archive/det/Train/mdb095\n"
     ]
    },
    {
     "name": "stderr",
     "output_type": "stream",
     "text": [
      " 39%|███▉      | 37/95 [01:18<01:31,  1.57s/it]"
     ]
    },
    {
     "name": "stdout",
     "output_type": "stream",
     "text": [
      "Saved mdb072 data to /Volumes/图图/MIAS/archive/det/Train/mdb072\n"
     ]
    },
    {
     "name": "stderr",
     "output_type": "stream",
     "text": [
      " 40%|████      | 38/95 [01:18<01:12,  1.27s/it]"
     ]
    },
    {
     "name": "stdout",
     "output_type": "stream",
     "text": [
      "Saved mdb227 data to /Volumes/图图/MIAS/archive/det/Train/mdb227\n"
     ]
    },
    {
     "name": "stderr",
     "output_type": "stream",
     "text": [
      " 41%|████      | 39/95 [01:20<01:29,  1.60s/it]"
     ]
    },
    {
     "name": "stdout",
     "output_type": "stream",
     "text": [
      "Saved mdb249 data to /Volumes/图图/MIAS/archive/det/Train/mdb249\n"
     ]
    },
    {
     "name": "stderr",
     "output_type": "stream",
     "text": [
      " 42%|████▏     | 40/95 [01:21<01:15,  1.37s/it]"
     ]
    },
    {
     "name": "stdout",
     "output_type": "stream",
     "text": [
      "Saved mdb091 data to /Volumes/图图/MIAS/archive/det/Train/mdb091\n"
     ]
    },
    {
     "name": "stderr",
     "output_type": "stream",
     "text": [
      " 43%|████▎     | 41/95 [01:22<01:00,  1.12s/it]"
     ]
    },
    {
     "name": "stdout",
     "output_type": "stream",
     "text": [
      "Saved mdb017 data to /Volumes/图图/MIAS/archive/det/Train/mdb017\n"
     ]
    },
    {
     "name": "stderr",
     "output_type": "stream",
     "text": [
      " 44%|████▍     | 42/95 [01:23<01:00,  1.13s/it]"
     ]
    },
    {
     "name": "stdout",
     "output_type": "stream",
     "text": [
      "Saved mdb028 data to /Volumes/图图/MIAS/archive/det/Train/mdb028\n"
     ]
    },
    {
     "name": "stderr",
     "output_type": "stream",
     "text": [
      " 45%|████▌     | 43/95 [01:25<01:14,  1.43s/it]"
     ]
    },
    {
     "name": "stdout",
     "output_type": "stream",
     "text": [
      "Saved mdb212 data to /Volumes/图图/MIAS/archive/det/Train/mdb212\n"
     ]
    },
    {
     "name": "stderr",
     "output_type": "stream",
     "text": [
      " 46%|████▋     | 44/95 [01:26<01:11,  1.39s/it]"
     ]
    },
    {
     "name": "stdout",
     "output_type": "stream",
     "text": [
      "Saved mdb005 data to /Volumes/图图/MIAS/archive/det/Train/mdb005\n"
     ]
    },
    {
     "name": "stderr",
     "output_type": "stream",
     "text": [
      " 47%|████▋     | 45/95 [01:27<00:58,  1.17s/it]"
     ]
    },
    {
     "name": "stdout",
     "output_type": "stream",
     "text": [
      "Saved mdb063 data to /Volumes/图图/MIAS/archive/det/Train/mdb063\n"
     ]
    },
    {
     "name": "stderr",
     "output_type": "stream",
     "text": [
      " 48%|████▊     | 46/95 [01:29<01:13,  1.51s/it]"
     ]
    },
    {
     "name": "stdout",
     "output_type": "stream",
     "text": [
      "Saved mdb120 data to /Volumes/图图/MIAS/archive/det/Train/mdb120\n"
     ]
    },
    {
     "name": "stderr",
     "output_type": "stream",
     "text": [
      " 49%|████▉     | 47/95 [01:30<00:59,  1.23s/it]"
     ]
    },
    {
     "name": "stdout",
     "output_type": "stream",
     "text": [
      "Saved mdb226 data to /Volumes/图图/MIAS/archive/det/Train/mdb226\n"
     ]
    },
    {
     "name": "stderr",
     "output_type": "stream",
     "text": [
      " 51%|█████     | 48/95 [01:32<01:05,  1.40s/it]"
     ]
    },
    {
     "name": "stdout",
     "output_type": "stream",
     "text": [
      "Saved mdb013 data to /Volumes/图图/MIAS/archive/det/Train/mdb013\n"
     ]
    },
    {
     "name": "stderr",
     "output_type": "stream",
     "text": [
      " 52%|█████▏    | 49/95 [01:33<01:00,  1.32s/it]"
     ]
    },
    {
     "name": "stdout",
     "output_type": "stream",
     "text": [
      "Saved mdb199 data to /Volumes/图图/MIAS/archive/det/Train/mdb199\n"
     ]
    },
    {
     "name": "stderr",
     "output_type": "stream",
     "text": [
      " 53%|█████▎    | 50/95 [01:34<00:58,  1.29s/it]"
     ]
    },
    {
     "name": "stdout",
     "output_type": "stream",
     "text": [
      "Saved mdb241 data to /Volumes/图图/MIAS/archive/det/Train/mdb241\n"
     ]
    },
    {
     "name": "stderr",
     "output_type": "stream",
     "text": [
      " 54%|█████▎    | 51/95 [01:35<00:50,  1.15s/it]"
     ]
    },
    {
     "name": "stdout",
     "output_type": "stream",
     "text": [
      "Saved mdb226 data to /Volumes/图图/MIAS/archive/det/Train/mdb226\n"
     ]
    },
    {
     "name": "stderr",
     "output_type": "stream",
     "text": [
      " 55%|█████▍    | 52/95 [01:37<01:02,  1.47s/it]"
     ]
    },
    {
     "name": "stdout",
     "output_type": "stream",
     "text": [
      "Saved mdb150 data to /Volumes/图图/MIAS/archive/det/Train/mdb150\n"
     ]
    },
    {
     "name": "stderr",
     "output_type": "stream",
     "text": [
      " 56%|█████▌    | 53/95 [01:38<00:52,  1.25s/it]"
     ]
    },
    {
     "name": "stdout",
     "output_type": "stream",
     "text": [
      "Saved mdb144 data to /Volumes/图图/MIAS/archive/det/Train/mdb144\n"
     ]
    },
    {
     "name": "stderr",
     "output_type": "stream",
     "text": [
      " 57%|█████▋    | 54/95 [01:39<00:45,  1.10s/it]"
     ]
    },
    {
     "name": "stdout",
     "output_type": "stream",
     "text": [
      "Saved mdb264 data to /Volumes/图图/MIAS/archive/det/Train/mdb264\n"
     ]
    },
    {
     "name": "stderr",
     "output_type": "stream",
     "text": [
      " 58%|█████▊    | 55/95 [01:41<00:56,  1.40s/it]"
     ]
    },
    {
     "name": "stdout",
     "output_type": "stream",
     "text": [
      "Saved mdb132 data to /Volumes/图图/MIAS/archive/det/Train/mdb132\n"
     ]
    },
    {
     "name": "stderr",
     "output_type": "stream",
     "text": [
      " 59%|█████▉    | 56/95 [01:41<00:45,  1.16s/it]"
     ]
    },
    {
     "name": "stdout",
     "output_type": "stream",
     "text": [
      "Saved mdb207 data to /Volumes/图图/MIAS/archive/det/Train/mdb207\n"
     ]
    },
    {
     "name": "stderr",
     "output_type": "stream",
     "text": [
      " 60%|██████    | 57/95 [01:44<00:56,  1.49s/it]"
     ]
    },
    {
     "name": "stdout",
     "output_type": "stream",
     "text": [
      "Saved mdb167 data to /Volumes/图图/MIAS/archive/det/Train/mdb167\n"
     ]
    },
    {
     "name": "stderr",
     "output_type": "stream",
     "text": [
      " 61%|██████    | 58/95 [01:45<00:49,  1.34s/it]"
     ]
    },
    {
     "name": "stdout",
     "output_type": "stream",
     "text": [
      "Saved mdb290 data to /Volumes/图图/MIAS/archive/det/Train/mdb290\n"
     ]
    },
    {
     "name": "stderr",
     "output_type": "stream",
     "text": [
      " 62%|██████▏   | 59/95 [01:47<00:54,  1.52s/it]"
     ]
    },
    {
     "name": "stdout",
     "output_type": "stream",
     "text": [
      "Saved mdb206 data to /Volumes/图图/MIAS/archive/det/Train/mdb206\n"
     ]
    },
    {
     "name": "stderr",
     "output_type": "stream",
     "text": [
      " 63%|██████▎   | 60/95 [01:48<00:48,  1.39s/it]"
     ]
    },
    {
     "name": "stdout",
     "output_type": "stream",
     "text": [
      "Saved mdb312 data to /Volumes/图图/MIAS/archive/det/Train/mdb312\n"
     ]
    },
    {
     "name": "stderr",
     "output_type": "stream",
     "text": [
      " 64%|██████▍   | 61/95 [01:49<00:50,  1.48s/it]"
     ]
    },
    {
     "name": "stdout",
     "output_type": "stream",
     "text": [
      "Saved mdb125 data to /Volumes/图图/MIAS/archive/det/Train/mdb125\n"
     ]
    },
    {
     "name": "stderr",
     "output_type": "stream",
     "text": [
      " 65%|██████▌   | 62/95 [01:50<00:43,  1.32s/it]"
     ]
    },
    {
     "name": "stdout",
     "output_type": "stream",
     "text": [
      "Saved mdb160 data to /Volumes/图图/MIAS/archive/det/Train/mdb160\n"
     ]
    },
    {
     "name": "stderr",
     "output_type": "stream",
     "text": [
      " 66%|██████▋   | 63/95 [01:51<00:34,  1.07s/it]"
     ]
    },
    {
     "name": "stdout",
     "output_type": "stream",
     "text": [
      "Saved mdb141 data to /Volumes/图图/MIAS/archive/det/Train/mdb141\n"
     ]
    },
    {
     "name": "stderr",
     "output_type": "stream",
     "text": [
      " 67%|██████▋   | 64/95 [01:52<00:37,  1.22s/it]"
     ]
    },
    {
     "name": "stdout",
     "output_type": "stream",
     "text": [
      "Saved mdb240 data to /Volumes/图图/MIAS/archive/det/Train/mdb240\n"
     ]
    },
    {
     "name": "stderr",
     "output_type": "stream",
     "text": [
      " 68%|██████▊   | 65/95 [01:54<00:37,  1.26s/it]"
     ]
    },
    {
     "name": "stdout",
     "output_type": "stream",
     "text": [
      "Saved mdb158 data to /Volumes/图图/MIAS/archive/det/Train/mdb158\n"
     ]
    },
    {
     "name": "stderr",
     "output_type": "stream",
     "text": [
      " 69%|██████▉   | 66/95 [01:56<00:42,  1.45s/it]"
     ]
    },
    {
     "name": "stdout",
     "output_type": "stream",
     "text": [
      "Saved mdb198 data to /Volumes/图图/MIAS/archive/det/Train/mdb198\n"
     ]
    },
    {
     "name": "stderr",
     "output_type": "stream",
     "text": [
      " 71%|███████   | 67/95 [01:57<00:36,  1.30s/it]"
     ]
    },
    {
     "name": "stdout",
     "output_type": "stream",
     "text": [
      "Saved mdb105 data to /Volumes/图图/MIAS/archive/det/Train/mdb105\n"
     ]
    },
    {
     "name": "stderr",
     "output_type": "stream",
     "text": [
      " 72%|███████▏  | 68/95 [01:59<00:40,  1.52s/it]"
     ]
    },
    {
     "name": "stdout",
     "output_type": "stream",
     "text": [
      "Saved mdb267 data to /Volumes/图图/MIAS/archive/det/Train/mdb267\n"
     ]
    },
    {
     "name": "stderr",
     "output_type": "stream",
     "text": [
      " 73%|███████▎  | 69/95 [02:01<00:45,  1.76s/it]"
     ]
    },
    {
     "name": "stdout",
     "output_type": "stream",
     "text": [
      "Saved mdb163 data to /Volumes/图图/MIAS/archive/det/Train/mdb163\n"
     ]
    },
    {
     "name": "stderr",
     "output_type": "stream",
     "text": [
      " 74%|███████▎  | 70/95 [02:02<00:37,  1.51s/it]"
     ]
    },
    {
     "name": "stdout",
     "output_type": "stream",
     "text": [
      "Saved mdb171 data to /Volumes/图图/MIAS/archive/det/Train/mdb171\n"
     ]
    },
    {
     "name": "stderr",
     "output_type": "stream",
     "text": [
      " 75%|███████▍  | 71/95 [02:02<00:28,  1.18s/it]"
     ]
    },
    {
     "name": "stdout",
     "output_type": "stream",
     "text": [
      "Saved mdb239 data to /Volumes/图图/MIAS/archive/det/Train/mdb239\n"
     ]
    },
    {
     "name": "stderr",
     "output_type": "stream",
     "text": [
      " 76%|███████▌  | 72/95 [02:03<00:27,  1.21s/it]"
     ]
    },
    {
     "name": "stdout",
     "output_type": "stream",
     "text": [
      "Saved mdb117 data to /Volumes/图图/MIAS/archive/det/Train/mdb117\n"
     ]
    },
    {
     "name": "stderr",
     "output_type": "stream",
     "text": [
      " 77%|███████▋  | 73/95 [02:05<00:30,  1.37s/it]"
     ]
    },
    {
     "name": "stdout",
     "output_type": "stream",
     "text": [
      "Saved mdb099 data to /Volumes/图图/MIAS/archive/det/Train/mdb099\n"
     ]
    },
    {
     "name": "stderr",
     "output_type": "stream",
     "text": [
      " 78%|███████▊  | 74/95 [02:07<00:31,  1.52s/it]"
     ]
    },
    {
     "name": "stdout",
     "output_type": "stream",
     "text": [
      "Saved mdb249 data to /Volumes/图图/MIAS/archive/det/Train/mdb249\n"
     ]
    },
    {
     "name": "stderr",
     "output_type": "stream",
     "text": [
      " 79%|███████▉  | 75/95 [02:08<00:29,  1.48s/it]"
     ]
    },
    {
     "name": "stdout",
     "output_type": "stream",
     "text": [
      "Saved mdb002 data to /Volumes/图图/MIAS/archive/det/Train/mdb002\n"
     ]
    },
    {
     "name": "stderr",
     "output_type": "stream",
     "text": [
      " 80%|████████  | 76/95 [02:11<00:33,  1.78s/it]"
     ]
    },
    {
     "name": "stdout",
     "output_type": "stream",
     "text": [
      "Saved mdb145 data to /Volumes/图图/MIAS/archive/det/Train/mdb145\n"
     ]
    },
    {
     "name": "stderr",
     "output_type": "stream",
     "text": [
      " 81%|████████  | 77/95 [02:12<00:26,  1.45s/it]"
     ]
    },
    {
     "name": "stdout",
     "output_type": "stream",
     "text": [
      "Saved mdb080 data to /Volumes/图图/MIAS/archive/det/Train/mdb080\n"
     ]
    },
    {
     "name": "stderr",
     "output_type": "stream",
     "text": [
      " 82%|████████▏ | 78/95 [02:12<00:20,  1.22s/it]"
     ]
    },
    {
     "name": "stdout",
     "output_type": "stream",
     "text": [
      "Saved mdb005 data to /Volumes/图图/MIAS/archive/det/Train/mdb005\n"
     ]
    },
    {
     "name": "stderr",
     "output_type": "stream",
     "text": [
      " 83%|████████▎ | 79/95 [02:15<00:24,  1.51s/it]"
     ]
    },
    {
     "name": "stdout",
     "output_type": "stream",
     "text": [
      "Saved mdb083 data to /Volumes/图图/MIAS/archive/det/Train/mdb083\n"
     ]
    },
    {
     "name": "stderr",
     "output_type": "stream",
     "text": [
      " 84%|████████▍ | 80/95 [02:15<00:19,  1.29s/it]"
     ]
    },
    {
     "name": "stdout",
     "output_type": "stream",
     "text": [
      "Saved mdb248 data to /Volumes/图图/MIAS/archive/det/Train/mdb248\n"
     ]
    },
    {
     "name": "stderr",
     "output_type": "stream",
     "text": [
      " 85%|████████▌ | 81/95 [02:16<00:15,  1.11s/it]"
     ]
    },
    {
     "name": "stdout",
     "output_type": "stream",
     "text": [
      "Saved mdb239 data to /Volumes/图图/MIAS/archive/det/Train/mdb239\n"
     ]
    },
    {
     "name": "stderr",
     "output_type": "stream",
     "text": [
      " 86%|████████▋ | 82/95 [02:17<00:15,  1.23s/it]"
     ]
    },
    {
     "name": "stdout",
     "output_type": "stream",
     "text": [
      "Saved mdb219 data to /Volumes/图图/MIAS/archive/det/Train/mdb219\n"
     ]
    },
    {
     "name": "stderr",
     "output_type": "stream",
     "text": [
      " 87%|████████▋ | 83/95 [02:19<00:14,  1.21s/it]"
     ]
    },
    {
     "name": "stdout",
     "output_type": "stream",
     "text": [
      "Saved mdb253 data to /Volumes/图图/MIAS/archive/det/Train/mdb253\n"
     ]
    },
    {
     "name": "stderr",
     "output_type": "stream",
     "text": [
      " 88%|████████▊ | 84/95 [02:21<00:16,  1.47s/it]"
     ]
    },
    {
     "name": "stdout",
     "output_type": "stream",
     "text": [
      "Saved mdb195 data to /Volumes/图图/MIAS/archive/det/Train/mdb195\n"
     ]
    },
    {
     "name": "stderr",
     "output_type": "stream",
     "text": [
      " 89%|████████▉ | 85/95 [02:22<00:14,  1.40s/it]"
     ]
    },
    {
     "name": "stdout",
     "output_type": "stream",
     "text": [
      "Saved mdb218 data to /Volumes/图图/MIAS/archive/det/Train/mdb218\n"
     ]
    },
    {
     "name": "stderr",
     "output_type": "stream",
     "text": [
      " 91%|█████████ | 86/95 [02:23<00:10,  1.21s/it]"
     ]
    },
    {
     "name": "stdout",
     "output_type": "stream",
     "text": [
      "Saved mdb211 data to /Volumes/图图/MIAS/archive/det/Train/mdb211\n"
     ]
    },
    {
     "name": "stderr",
     "output_type": "stream",
     "text": [
      " 92%|█████████▏| 87/95 [02:25<00:11,  1.49s/it]"
     ]
    },
    {
     "name": "stdout",
     "output_type": "stream",
     "text": [
      "Saved mdb315 data to /Volumes/图图/MIAS/archive/det/Train/mdb315\n"
     ]
    },
    {
     "name": "stderr",
     "output_type": "stream",
     "text": [
      " 93%|█████████▎| 88/95 [02:26<00:09,  1.32s/it]"
     ]
    },
    {
     "name": "stdout",
     "output_type": "stream",
     "text": [
      "Saved mdb075 data to /Volumes/图图/MIAS/archive/det/Train/mdb075\n"
     ]
    },
    {
     "name": "stderr",
     "output_type": "stream",
     "text": [
      " 94%|█████████▎| 89/95 [02:27<00:07,  1.27s/it]"
     ]
    },
    {
     "name": "stdout",
     "output_type": "stream",
     "text": [
      "Saved mdb165 data to /Volumes/图图/MIAS/archive/det/Train/mdb165\n"
     ]
    },
    {
     "name": "stderr",
     "output_type": "stream",
     "text": [
      " 95%|█████████▍| 90/95 [02:29<00:07,  1.48s/it]"
     ]
    },
    {
     "name": "stdout",
     "output_type": "stream",
     "text": [
      "Saved mdb190 data to /Volumes/图图/MIAS/archive/det/Train/mdb190\n"
     ]
    },
    {
     "name": "stderr",
     "output_type": "stream",
     "text": [
      " 96%|█████████▌| 91/95 [02:30<00:04,  1.25s/it]"
     ]
    },
    {
     "name": "stdout",
     "output_type": "stream",
     "text": [
      "Saved mdb252 data to /Volumes/图图/MIAS/archive/det/Train/mdb252\n"
     ]
    },
    {
     "name": "stderr",
     "output_type": "stream",
     "text": [
      " 97%|█████████▋| 92/95 [02:30<00:03,  1.12s/it]"
     ]
    },
    {
     "name": "stdout",
     "output_type": "stream",
     "text": [
      "Saved mdb030 data to /Volumes/图图/MIAS/archive/det/Train/mdb030\n"
     ]
    },
    {
     "name": "stderr",
     "output_type": "stream",
     "text": [
      " 98%|█████████▊| 93/95 [02:31<00:01,  1.03it/s]"
     ]
    },
    {
     "name": "stdout",
     "output_type": "stream",
     "text": [
      "Saved mdb226 data to /Volumes/图图/MIAS/archive/det/Train/mdb226\n"
     ]
    },
    {
     "name": "stderr",
     "output_type": "stream",
     "text": [
      " 99%|█████████▉| 94/95 [02:32<00:01,  1.00s/it]"
     ]
    },
    {
     "name": "stdout",
     "output_type": "stream",
     "text": [
      "Saved mdb144 data to /Volumes/图图/MIAS/archive/det/Train/mdb144\n"
     ]
    },
    {
     "name": "stderr",
     "output_type": "stream",
     "text": [
      "100%|██████████| 95/95 [02:33<00:00,  1.62s/it]\n"
     ]
    },
    {
     "name": "stdout",
     "output_type": "stream",
     "text": [
      "Saved mdb244 data to /Volumes/图图/MIAS/archive/det/Train/mdb244\n"
     ]
    },
    {
     "name": "stderr",
     "output_type": "stream",
     "text": [
      "  4%|▍         | 1/24 [00:01<00:30,  1.32s/it]"
     ]
    },
    {
     "name": "stdout",
     "output_type": "stream",
     "text": [
      "Saved mdb155 data to /Volumes/图图/MIAS/archive/det/Test/mdb155\n"
     ]
    },
    {
     "name": "stderr",
     "output_type": "stream",
     "text": [
      "  8%|▊         | 2/24 [00:03<00:38,  1.75s/it]"
     ]
    },
    {
     "name": "stdout",
     "output_type": "stream",
     "text": [
      "Saved mdb223 data to /Volumes/图图/MIAS/archive/det/Test/mdb223\n"
     ]
    },
    {
     "name": "stderr",
     "output_type": "stream",
     "text": [
      " 12%|█▎        | 3/24 [00:04<00:29,  1.38s/it]"
     ]
    },
    {
     "name": "stdout",
     "output_type": "stream",
     "text": [
      "Saved mdb010 data to /Volumes/图图/MIAS/archive/det/Test/mdb010\n"
     ]
    },
    {
     "name": "stderr",
     "output_type": "stream",
     "text": [
      " 17%|█▋        | 4/24 [00:05<00:22,  1.13s/it]"
     ]
    },
    {
     "name": "stdout",
     "output_type": "stream",
     "text": [
      "Saved mdb132 data to /Volumes/图图/MIAS/archive/det/Test/mdb132\n"
     ]
    },
    {
     "name": "stderr",
     "output_type": "stream",
     "text": [
      " 21%|██        | 5/24 [00:05<00:20,  1.06s/it]"
     ]
    },
    {
     "name": "stdout",
     "output_type": "stream",
     "text": [
      "Saved mdb092 data to /Volumes/图图/MIAS/archive/det/Test/mdb092\n"
     ]
    },
    {
     "name": "stderr",
     "output_type": "stream",
     "text": [
      " 25%|██▌       | 6/24 [00:06<00:18,  1.03s/it]"
     ]
    },
    {
     "name": "stdout",
     "output_type": "stream",
     "text": [
      "Saved mdb314 data to /Volumes/图图/MIAS/archive/det/Test/mdb314\n"
     ]
    },
    {
     "name": "stderr",
     "output_type": "stream",
     "text": [
      " 29%|██▉       | 7/24 [00:08<00:22,  1.30s/it]"
     ]
    },
    {
     "name": "stdout",
     "output_type": "stream",
     "text": [
      "Saved mdb186 data to /Volumes/图图/MIAS/archive/det/Test/mdb186\n"
     ]
    },
    {
     "name": "stderr",
     "output_type": "stream",
     "text": [
      " 33%|███▎      | 8/24 [00:10<00:20,  1.28s/it]"
     ]
    },
    {
     "name": "stdout",
     "output_type": "stream",
     "text": [
      "Saved mdb021 data to /Volumes/图图/MIAS/archive/det/Test/mdb021\n"
     ]
    },
    {
     "name": "stderr",
     "output_type": "stream",
     "text": [
      " 38%|███▊      | 9/24 [00:10<00:15,  1.03s/it]"
     ]
    },
    {
     "name": "stdout",
     "output_type": "stream",
     "text": [
      "Saved mdb223 data to /Volumes/图图/MIAS/archive/det/Test/mdb223\n"
     ]
    },
    {
     "name": "stderr",
     "output_type": "stream",
     "text": [
      " 42%|████▏     | 10/24 [00:11<00:14,  1.04s/it]"
     ]
    },
    {
     "name": "stdout",
     "output_type": "stream",
     "text": [
      "Saved mdb193 data to /Volumes/图图/MIAS/archive/det/Test/mdb193\n"
     ]
    },
    {
     "name": "stderr",
     "output_type": "stream",
     "text": [
      " 46%|████▌     | 11/24 [00:12<00:12,  1.02it/s]"
     ]
    },
    {
     "name": "stdout",
     "output_type": "stream",
     "text": [
      "Saved mdb069 data to /Volumes/图图/MIAS/archive/det/Test/mdb069\n"
     ]
    },
    {
     "name": "stderr",
     "output_type": "stream",
     "text": [
      " 50%|█████     | 12/24 [00:13<00:11,  1.08it/s]"
     ]
    },
    {
     "name": "stdout",
     "output_type": "stream",
     "text": [
      "Saved mdb270 data to /Volumes/图图/MIAS/archive/det/Test/mdb270\n"
     ]
    },
    {
     "name": "stderr",
     "output_type": "stream",
     "text": [
      " 58%|█████▊    | 14/24 [00:14<00:07,  1.37it/s]"
     ]
    },
    {
     "name": "stdout",
     "output_type": "stream",
     "text": [
      "Saved mdb023 data to /Volumes/图图/MIAS/archive/det/Test/mdb023\n",
      "Saved mdb236 data to /Volumes/图图/MIAS/archive/det/Test/mdb236\n"
     ]
    },
    {
     "name": "stderr",
     "output_type": "stream",
     "text": [
      " 62%|██████▎   | 15/24 [00:16<00:09,  1.10s/it]"
     ]
    },
    {
     "name": "stdout",
     "output_type": "stream",
     "text": [
      "Saved mdb126 data to /Volumes/图图/MIAS/archive/det/Test/mdb126\n"
     ]
    },
    {
     "name": "stderr",
     "output_type": "stream",
     "text": [
      " 67%|██████▋   | 16/24 [00:16<00:07,  1.10it/s]"
     ]
    },
    {
     "name": "stdout",
     "output_type": "stream",
     "text": [
      "Saved mdb104 data to /Volumes/图图/MIAS/archive/det/Test/mdb104\n"
     ]
    },
    {
     "name": "stderr",
     "output_type": "stream",
     "text": [
      " 71%|███████   | 17/24 [00:19<00:08,  1.28s/it]"
     ]
    },
    {
     "name": "stdout",
     "output_type": "stream",
     "text": [
      "Saved mdb222 data to /Volumes/图图/MIAS/archive/det/Test/mdb222\n"
     ]
    },
    {
     "name": "stderr",
     "output_type": "stream",
     "text": [
      " 75%|███████▌  | 18/24 [00:20<00:07,  1.22s/it]"
     ]
    },
    {
     "name": "stdout",
     "output_type": "stream",
     "text": [
      "Saved mdb001 data to /Volumes/图图/MIAS/archive/det/Test/mdb001\n"
     ]
    },
    {
     "name": "stderr",
     "output_type": "stream",
     "text": [
      " 79%|███████▉  | 19/24 [00:20<00:05,  1.07s/it]"
     ]
    },
    {
     "name": "stdout",
     "output_type": "stream",
     "text": [
      "Saved mdb238 data to /Volumes/图图/MIAS/archive/det/Test/mdb238\n"
     ]
    },
    {
     "name": "stderr",
     "output_type": "stream",
     "text": [
      " 83%|████████▎ | 20/24 [00:22<00:04,  1.10s/it]"
     ]
    },
    {
     "name": "stdout",
     "output_type": "stream",
     "text": [
      "Saved mdb265 data to /Volumes/图图/MIAS/archive/det/Test/mdb265\n"
     ]
    },
    {
     "name": "stderr",
     "output_type": "stream",
     "text": [
      " 88%|████████▊ | 21/24 [00:22<00:03,  1.05s/it]"
     ]
    },
    {
     "name": "stdout",
     "output_type": "stream",
     "text": [
      "Saved mdb175 data to /Volumes/图图/MIAS/archive/det/Test/mdb175\n"
     ]
    },
    {
     "name": "stderr",
     "output_type": "stream",
     "text": [
      " 92%|█████████▏| 22/24 [00:23<00:01,  1.03it/s]"
     ]
    },
    {
     "name": "stdout",
     "output_type": "stream",
     "text": [
      "Saved mdb124 data to /Volumes/图图/MIAS/archive/det/Test/mdb124\n"
     ]
    },
    {
     "name": "stderr",
     "output_type": "stream",
     "text": [
      " 96%|█████████▌| 23/24 [00:25<00:01,  1.16s/it]"
     ]
    },
    {
     "name": "stdout",
     "output_type": "stream",
     "text": [
      "Saved mdb231 data to /Volumes/图图/MIAS/archive/det/Test/mdb231\n"
     ]
    },
    {
     "name": "stderr",
     "output_type": "stream",
     "text": [
      "100%|██████████| 24/24 [00:26<00:00,  1.09s/it]"
     ]
    },
    {
     "name": "stdout",
     "output_type": "stream",
     "text": [
      "Saved mdb148 data to /Volumes/图图/MIAS/archive/det/Test/mdb148\n"
     ]
    },
    {
     "name": "stderr",
     "output_type": "stream",
     "text": [
      "\n"
     ]
    }
   ],
   "source": [
    "import os\n",
    "import numpy as np\n",
    "import cv2\n",
    "from tqdm import tqdm\n",
    "from sklearn.model_selection import train_test_split\n",
    "\n",
    "def find_cropped_image_position(full_image, cropped_image):\n",
    "    res = cv2.matchTemplate(full_image, cropped_image, cv2.TM_CCOEFF_NORMED)\n",
    "    min_val, max_val, min_loc, max_loc = cv2.minMaxLoc(res)\n",
    "    top_left = max_loc\n",
    "    bottom_right = (top_left[0] + cropped_image.shape[1], top_left[1] + cropped_image.shape[0])\n",
    "    return [top_left[0], top_left[1], bottom_right[0], bottom_right[1]]\n",
    "\n",
    "def preprocess_image(img):\n",
    "    # 去除全为0的行和列\n",
    "    rows_to_keep = np.any(img != 0, axis=1)\n",
    "    cols_to_keep = np.any(img != 0, axis=0)\n",
    "    img = img[rows_to_keep][:, cols_to_keep]\n",
    "    return img\n",
    "\n",
    "# 读取txt文件\n",
    "txt_path = '/Volumes/图图/MIAS/archive/Info.txt'  # 修改为实际的路径\n",
    "with open(txt_path, 'r') as file:\n",
    "    lines = file.readlines()\n",
    "\n",
    "# 跳过标题行\n",
    "lines = lines[1:]\n",
    "lines = [line for line in lines if len(line.split()) > 4]\n",
    "\n",
    "# 分割训练集和测试集\n",
    "train_lines, test_lines = train_test_split(lines, test_size=0.2, random_state=42)\n",
    "\n",
    "def process_and_save(lines, set_type, output_base_path):\n",
    "    data_path = '/Volumes/图图/MIAS/archive/all-mias'  # 图像文件路径\n",
    "    for line in tqdm(lines):\n",
    "        parts = line.split()\n",
    "        img_id = parts[0].strip()\n",
    "        cls = str(parts[2]).replace(' ', '')\n",
    "        severity = str(parts[3]).replace(' ', '')\n",
    "        x = int(parts[4])\n",
    "        y = int(parts[5])\n",
    "        radius = int(parts[6])\n",
    "        \n",
    "        # 读取图像\n",
    "        img_path = os.path.join(data_path, f'{img_id}.pgm')\n",
    "        img = cv2.imread(img_path, cv2.IMREAD_GRAYSCALE)\n",
    "        if img is None:\n",
    "            print(f\"Image {img_id} not found, skipping.\")\n",
    "            continue\n",
    "        \n",
    "        # Crop the region based on x, y, and radius\n",
    "        try:\n",
    "            cropped_image = img[y-radius:y+radius, x-radius:x+radius]\n",
    "        except:\n",
    "            print(f\"Cropping failed for {img_id}, skipping.\")\n",
    "            continue\n",
    "        \n",
    "        # 预处理原图像（去除全为0的行和列）\n",
    "        preprocessed_img = preprocess_image(img)\n",
    "        \n",
    "        # 保存数据\n",
    "        output_dir = os.path.join(output_base_path, set_type, img_id)\n",
    "        os.makedirs(output_dir, exist_ok=True)\n",
    "        \n",
    "        jpg_path = os.path.join(output_dir, 'img.jpg')\n",
    "        cv2.imwrite(jpg_path, cv2.normalize(preprocessed_img, None, 0, 255, cv2.NORM_MINMAX).astype(np.uint8))\n",
    "        \n",
    "        # 在预处理后的图像上找到cropped_image的位置\n",
    "        bbox = find_cropped_image_position(preprocessed_img, cropped_image)\n",
    "        \n",
    "        # 准备bbox和label\n",
    "        bbox_list = {\n",
    "            \"boxes\": [bbox],\n",
    "            \"labels\": [cls]\n",
    "        }\n",
    "        \n",
    "        # 检查bboxes.npy文件是否存在\n",
    "        bbox_output_path = os.path.join(output_dir, 'bboxes.npy')\n",
    "        if os.path.exists(bbox_output_path):\n",
    "            existing_data = np.load(bbox_output_path, allow_pickle=True).item()\n",
    "            existing_data[\"boxes\"].append(bbox)\n",
    "            existing_data[\"labels\"].append(cls)\n",
    "            bbox_list = existing_data\n",
    "        \n",
    "        # 保存或更新bboxes.npy文件\n",
    "        np.save(bbox_output_path, bbox_list)\n",
    "        \n",
    "        print(f'Saved {img_id} data to {output_dir}')\n",
    "\n",
    "# 定义保存路径\n",
    "target_dir = \"/Volumes/图图/MIAS/archive/det\"\n",
    "\n",
    "# 处理并保存训练集\n",
    "process_and_save(train_lines, \"Train\", target_dir)\n",
    "\n",
    "# 处理并保存测试集\n",
    "process_and_save(test_lines, \"Test\", target_dir)\n"
   ]
  },
  {
   "cell_type": "code",
   "execution_count": null,
   "metadata": {},
   "outputs": [],
   "source": []
  }
 ],
 "metadata": {
  "kernelspec": {
   "display_name": "base",
   "language": "python",
   "name": "python3"
  },
  "language_info": {
   "codemirror_mode": {
    "name": "ipython",
    "version": 3
   },
   "file_extension": ".py",
   "mimetype": "text/x-python",
   "name": "python",
   "nbconvert_exporter": "python",
   "pygments_lexer": "ipython3",
   "version": "3.8.18"
  }
 },
 "nbformat": 4,
 "nbformat_minor": 2
}
