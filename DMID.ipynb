{
 "cells": [
  {
   "cell_type": "markdown",
   "metadata": {},
   "source": [
    "image classification"
   ]
  },
  {
   "cell_type": "code",
   "execution_count": 1,
   "metadata": {},
   "outputs": [
    {
     "name": "stdout",
     "output_type": "stream",
     "text": [
      "Processed IMG002 for Train set\n",
      "Processed IMG004 for Train set\n",
      "Processed IMG005 for Train set\n",
      "Processed IMG006 for Train set\n",
      "Processed IMG007 for Train set\n",
      "Processed IMG008 for Train set\n",
      "Processed IMG009 for Train set\n",
      "Processed IMG011 for Train set\n",
      "Processed IMG011 for Train set\n",
      "Processed IMG013 for Train set\n",
      "Processed IMG014 for Train set\n",
      "Processed IMG015 for Train set\n",
      "Processed IMG016 for Train set\n",
      "Processed IMG017 for Train set\n",
      "Processed IMG018 for Train set\n",
      "Processed IMG020 for Train set\n",
      "Processed IMG021 for Train set\n",
      "Processed IMG022 for Train set\n",
      "Processed IMG024 for Train set\n",
      "Processed IMG024 for Train set\n",
      "Processed IMG025 for Train set\n",
      "Processed IMG025 for Train set\n",
      "Processed IMG026 for Train set\n",
      "Processed IMG027 for Train set\n",
      "Processed IMG028 for Train set\n",
      "Processed IMG028 for Train set\n",
      "Processed IMG029 for Train set\n",
      "Processed IMG029 for Train set\n",
      "Processed IMG029 for Train set\n",
      "Processed IMG030 for Train set\n",
      "Processed IMG030 for Train set\n",
      "Processed IMG032 for Train set\n",
      "Processed IMG033 for Train set\n",
      "Processed IMG035 for Train set\n",
      "Processed IMG036 for Train set\n",
      "Processed IMG037 for Train set\n",
      "Processed IMG038 for Train set\n",
      "Processed IMG039 for Train set\n",
      "Processed IMG041 for Train set\n",
      "Processed IMG042 for Train set\n",
      "Processed IMG043 for Train set\n",
      "Processed IMG044 for Train set\n",
      "Processed IMG045 for Train set\n",
      "Processed IMG046 for Train set\n",
      "Processed IMG046 for Train set\n",
      "Processed IMG048 for Train set\n",
      "Processed IMG048 for Train set\n",
      "Processed IMG049 for Train set\n",
      "Processed IMG050 for Train set\n",
      "Processed IMG051 for Train set\n",
      "Processed IMG052 for Train set\n",
      "Processed IMG053 for Train set\n",
      "Processed IMG054 for Train set\n",
      "Processed IMG055 for Train set\n",
      "Processed IMG057 for Train set\n",
      "Processed IMG058 for Train set\n",
      "Processed IMG059 for Train set\n",
      "Processed IMG059 for Train set\n",
      "Processed IMG059 for Train set\n",
      "Processed IMG060 for Train set\n",
      "Processed IMG060 for Train set\n",
      "Processed IMG060 for Train set\n",
      "Processed IMG061 for Train set\n",
      "Processed IMG061 for Train set\n",
      "Processed IMG062 for Train set\n",
      "Processed IMG063 for Train set\n",
      "Processed IMG065 for Train set\n",
      "Processed IMG065 for Train set\n",
      "Processed IMG065 for Train set\n",
      "Processed IMG066 for Train set\n",
      "Processed IMG067 for Train set\n",
      "Processed IMG067 for Train set\n",
      "Processed IMG068 for Train set\n",
      "Processed IMG068 for Train set\n",
      "Processed IMG072 for Train set\n",
      "Processed IMG075 for Train set\n",
      "Processed IMG076 for Train set\n",
      "Processed IMG081 for Train set\n",
      "Processed IMG082 for Train set\n",
      "Processed IMG084 for Train set\n",
      "Processed IMG086 for Train set\n",
      "Processed IMG087 for Train set\n",
      "Processed IMG088 for Train set\n",
      "Processed IMG089 for Train set\n",
      "Processed IMG090 for Train set\n",
      "Processed IMG092 for Train set\n",
      "Processed IMG093 for Train set\n",
      "Processed IMG095 for Train set\n",
      "Processed IMG096 for Train set\n",
      "Processed IMG097 for Train set\n",
      "Processed IMG098 for Train set\n",
      "Processed IMG099 for Train set\n",
      "Processed IMG100 for Train set\n",
      "Processed IMG101 for Train set\n",
      "Processed IMG103 for Train set\n",
      "Processed IMG104 for Train set\n",
      "Processed IMG106 for Train set\n",
      "Processed IMG107 for Train set\n",
      "Processed IMG108 for Train set\n",
      "Processed IMG109 for Train set\n",
      "Processed IMG110 for Train set\n",
      "Processed IMG111 for Train set\n",
      "Processed IMG112 for Train set\n",
      "Processed IMG113 for Train set\n",
      "Processed IMG114 for Train set\n",
      "Processed IMG114 for Train set\n",
      "Processed IMG114 for Train set\n",
      "Processed IMG115 for Train set\n",
      "Processed IMG116 for Train set\n",
      "Processed IMG116 for Train set\n",
      "Processed IMG116 for Train set\n",
      "Processed IMG116 for Train set\n",
      "Processed IMG117 for Train set\n",
      "Processed IMG119 for Train set\n",
      "Processed IMG120 for Train set\n",
      "Processed IMG121 for Train set\n",
      "Processed IMG122 for Train set\n",
      "Processed IMG123 for Train set\n",
      "Processed IMG124 for Train set\n",
      "Processed IMG126 for Train set\n",
      "Processed IMG127 for Train set\n",
      "Processed IMG128 for Train set\n",
      "Processed IMG129 for Train set\n",
      "Processed IMG130 for Train set\n",
      "Processed IMG131 for Train set\n",
      "Processed IMG134 for Train set\n",
      "Processed IMG135 for Train set\n",
      "Processed IMG136 for Train set\n",
      "Processed IMG137 for Train set\n",
      "Processed IMG138 for Train set\n",
      "Processed IMG139 for Train set\n",
      "Processed IMG139 for Train set\n",
      "Processed IMG139 for Train set\n",
      "Processed IMG140 for Train set\n",
      "Processed IMG140 for Train set\n",
      "Processed IMG141 for Train set\n",
      "Processed IMG141 for Train set\n",
      "Processed IMG142 for Train set\n",
      "Processed IMG142 for Train set\n",
      "Processed IMG143 for Train set\n",
      "Processed IMG143 for Train set\n",
      "Processed IMG144 for Train set\n",
      "Processed IMG144 for Train set\n",
      "Processed IMG145 for Train set\n",
      "Processed IMG146 for Train set\n",
      "Processed IMG146 for Train set\n",
      "Processed IMG147 for Train set\n",
      "Processed IMG148 for Train set\n",
      "Processed IMG150 for Train set\n",
      "Processed IMG151 for Train set\n",
      "Processed IMG152 for Train set\n",
      "Processed IMG153 for Train set\n",
      "Processed IMG154 for Train set\n",
      "Processed IMG157 for Train set\n",
      "Processed IMG158 for Train set\n",
      "Processed IMG159 for Train set\n",
      "Processed IMG159 for Train set\n",
      "Processed IMG160 for Train set\n",
      "Processed IMG161 for Train set\n",
      "Processed IMG161 for Train set\n",
      "Processed IMG162 for Train set\n",
      "Processed IMG163 for Train set\n",
      "Processed IMG164 for Train set\n",
      "Processed IMG165 for Train set\n",
      "Processed IMG166 for Train set\n",
      "Processed IMG167 for Train set\n",
      "Processed IMG169 for Train set\n",
      "Processed IMG170 for Train set\n",
      "Processed IMG171 for Train set\n",
      "Processed IMG172 for Train set\n",
      "Processed IMG175 for Train set\n",
      "Processed IMG176 for Train set\n",
      "Processed IMG178 for Train set\n",
      "Processed IMG179 for Train set\n",
      "Processed IMG180 for Train set\n",
      "Processed IMG184 for Train set\n",
      "Processed IMG184 for Train set\n",
      "Processed IMG184 for Train set\n",
      "Processed IMG184 for Train set\n",
      "Processed IMG184 for Train set\n",
      "Processed IMG185 for Train set\n",
      "Processed IMG186 for Train set\n",
      "Processed IMG186 for Train set\n",
      "Processed IMG186 for Train set\n",
      "Processed IMG186 for Train set\n",
      "Processed IMG187 for Train set\n",
      "Processed IMG188 for Train set\n",
      "Processed IMG189 for Train set\n",
      "Processed IMG190 for Train set\n",
      "Processed IMG191 for Train set\n",
      "Processed IMG192 for Train set\n",
      "Processed IMG193 for Train set\n",
      "Processed IMG194 for Train set\n",
      "Processed IMG195 for Train set\n",
      "Processed IMG197 for Train set\n",
      "Processed IMG198 for Train set\n",
      "Processed IMG199 for Train set\n",
      "Processed IMG199 for Train set\n",
      "Processed IMG200 for Train set\n",
      "Processed IMG201 for Train set\n",
      "Processed IMG201 for Train set\n",
      "Processed IMG202 for Train set\n",
      "Processed IMG203 for Train set\n",
      "Processed IMG204 for Train set\n",
      "Processed IMG204 for Train set\n",
      "Processed IMG205 for Train set\n",
      "Processed IMG206 for Train set\n",
      "Processed IMG206 for Train set\n",
      "Processed IMG207 for Train set\n",
      "Processed IMG208 for Train set\n",
      "Processed IMG209 for Train set\n",
      "Processed IMG212 for Train set\n",
      "Processed IMG213 for Train set\n",
      "Processed IMG214 for Train set\n",
      "Processed IMG215 for Train set\n",
      "Processed IMG216 for Train set\n",
      "Processed IMG217 for Train set\n",
      "Processed IMG218 for Train set\n",
      "Processed IMG220 for Train set\n",
      "Processed IMG222 for Train set\n",
      "Processed IMG223 for Train set\n",
      "Processed IMG224 for Train set\n",
      "Processed IMG225 for Train set\n",
      "Processed IMG227 for Train set\n",
      "Processed IMG228 for Train set\n",
      "Processed IMG229 for Train set\n",
      "Processed IMG231 for Train set\n",
      "Processed IMG232 for Train set\n",
      "Processed IMG233 for Train set\n",
      "Processed IMG233 for Train set\n",
      "Processed IMG234 for Train set\n",
      "Processed IMG235 for Train set\n",
      "Processed IMG236 for Train set\n",
      "Processed IMG237 for Train set\n",
      "Processed IMG238 for Train set\n",
      "Processed IMG239 for Train set\n",
      "Processed IMG240 for Train set\n",
      "Processed IMG241 for Train set\n",
      "Processed IMG242 for Train set\n",
      "Processed IMG243 for Train set\n",
      "Processed IMG244 for Train set\n",
      "Processed IMG246 for Train set\n",
      "Processed IMG247 for Train set\n",
      "Processed IMG252 for Train set\n",
      "Processed IMG252 for Train set\n",
      "Processed IMG253 for Train set\n",
      "Processed IMG254 for Train set\n",
      "Processed IMG254 for Train set\n",
      "Processed IMG255 for Train set\n",
      "Processed IMG256 for Train set\n",
      "Processed IMG257 for Train set\n",
      "Processed IMG258 for Train set\n",
      "Processed IMG259 for Train set\n",
      "Processed IMG260 for Train set\n",
      "Processed IMG261 for Train set\n",
      "Processed IMG262 for Train set\n",
      "Processed IMG263 for Train set\n",
      "Processed IMG264 for Train set\n",
      "Processed IMG265 for Train set\n",
      "Processed IMG266 for Train set\n",
      "Processed IMG267 for Train set\n",
      "Processed IMG268 for Train set\n",
      "Processed IMG269 for Train set\n",
      "Processed IMG270 for Train set\n",
      "Processed IMG271 for Train set\n",
      "Processed IMG272 for Train set\n",
      "Processed IMG273 for Train set\n",
      "Processed IMG274 for Train set\n",
      "Processed IMG274 for Train set\n",
      "Processed IMG275 for Train set\n",
      "Processed IMG277 for Train set\n",
      "Processed IMG277 for Train set\n",
      "Processed IMG278 for Train set\n",
      "Processed IMG278 for Train set\n",
      "Processed IMG278 for Train set\n",
      "Processed IMG278 for Train set\n",
      "Processed IMG279 for Train set\n",
      "Processed IMG279 for Train set\n",
      "Processed IMG279 for Train set\n",
      "Processed IMG280 for Train set\n",
      "Processed IMG283 for Train set\n",
      "Processed IMG283 for Train set\n",
      "Processed IMG284 for Train set\n",
      "Processed IMG284 for Train set\n",
      "Processed IMG286 for Train set\n",
      "Processed IMG286 for Train set\n",
      "Processed IMG286 for Train set\n",
      "Processed IMG286 for Train set\n",
      "Processed IMG286 for Train set\n",
      "Processed IMG286 for Train set\n",
      "Processed IMG287 for Train set\n",
      "Processed IMG288 for Train set\n",
      "Processed IMG288 for Train set\n",
      "Processed IMG288 for Train set\n",
      "Processed IMG288 for Train set\n",
      "Processed IMG288 for Train set\n",
      "Processed IMG288 for Train set\n",
      "Processed IMG289 for Train set\n",
      "Processed IMG290 for Train set\n",
      "Processed IMG291 for Train set\n",
      "Processed IMG292 for Train set\n",
      "Processed IMG293 for Train set\n",
      "Processed IMG294 for Train set\n",
      "Processed IMG295 for Train set\n",
      "Processed IMG296 for Train set\n",
      "Processed IMG296 for Train set\n",
      "Processed IMG296 for Train set\n",
      "Processed IMG298 for Train set\n",
      "Processed IMG300 for Train set\n",
      "Processed IMG301 for Train set\n",
      "Processed IMG304 for Train set\n",
      "Processed IMG305 for Train set\n",
      "Processed IMG306 for Train set\n",
      "Processed IMG307 for Train set\n",
      "Processed IMG308 for Train set\n",
      "Processed IMG309 for Train set\n",
      "Processed IMG310 for Train set\n",
      "Processed IMG311 for Train set\n",
      "Processed IMG311 for Train set\n",
      "Processed IMG312 for Train set\n",
      "Processed IMG313 for Train set\n",
      "Processed IMG314 for Train set\n",
      "Processed IMG315 for Train set\n",
      "Processed IMG316 for Train set\n",
      "Processed IMG317 for Train set\n",
      "Processed IMG318 for Train set\n",
      "Processed IMG319 for Train set\n",
      "Processed IMG320 for Train set\n",
      "Processed IMG321 for Train set\n",
      "Processed IMG322 for Train set\n",
      "Processed IMG322 for Train set\n",
      "Processed IMG322 for Train set\n",
      "Processed IMG325 for Train set\n",
      "Processed IMG327 for Train set\n",
      "Processed IMG328 for Train set\n",
      "Processed IMG329 for Train set\n",
      "Processed IMG331 for Train set\n",
      "Processed IMG331 for Train set\n",
      "Processed IMG332 for Train set\n",
      "Processed IMG333 for Train set\n",
      "Processed IMG333 for Train set\n",
      "Processed IMG334 for Train set\n",
      "Processed IMG335 for Train set\n",
      "Processed IMG337 for Train set\n",
      "Processed IMG338 for Train set\n",
      "Processed IMG339 for Train set\n",
      "Processed IMG340 for Train set\n",
      "Processed IMG344 for Train set\n",
      "Processed IMG345 for Train set\n",
      "Processed IMG346 for Train set\n",
      "Processed IMG347 for Train set\n",
      "Processed IMG349 for Train set\n",
      "Processed IMG350 for Train set\n",
      "Processed IMG351 for Train set\n",
      "Processed IMG352 for Train set\n",
      "Processed IMG353 for Train set\n",
      "Processed IMG354 for Train set\n",
      "Processed IMG355 for Train set\n",
      "Processed IMG355 for Train set\n",
      "Processed IMG355 for Train set\n",
      "Processed IMG355 for Train set\n",
      "Processed IMG356 for Train set\n",
      "Processed IMG356 for Train set\n",
      "Processed IMG356 for Train set\n",
      "Processed IMG357 for Train set\n",
      "Processed IMG357 for Train set\n",
      "Processed IMG357 for Train set\n",
      "Processed IMG357 for Train set\n",
      "Processed IMG357 for Train set\n",
      "Processed IMG358 for Train set\n",
      "Processed IMG358 for Train set\n",
      "Processed IMG358 for Train set\n",
      "Processed IMG358 for Train set\n",
      "Processed IMG360 for Train set\n",
      "Processed IMG361 for Train set\n",
      "Processed IMG362 for Train set\n",
      "Processed IMG363 for Train set\n",
      "Processed IMG364 for Train set\n",
      "Processed IMG366 for Train set\n",
      "Processed IMG367 for Train set\n",
      "Processed IMG367 for Train set\n",
      "Processed IMG367 for Train set\n",
      "Processed IMG367 for Train set\n",
      "Processed IMG368 for Train set\n",
      "Processed IMG371 for Train set\n",
      "Processed IMG372 for Train set\n",
      "Processed IMG373 for Train set\n",
      "Processed IMG374 for Train set\n",
      "Processed IMG376 for Train set\n",
      "Processed IMG377 for Train set\n",
      "Processed IMG378 for Train set\n",
      "Processed IMG379 for Train set\n",
      "Processed IMG380 for Train set\n",
      "Processed IMG381 for Train set\n",
      "Processed IMG383 for Train set\n",
      "Processed IMG383 for Train set\n",
      "Processed IMG384 for Train set\n",
      "Processed IMG385 for Train set\n",
      "Processed IMG386 for Train set\n",
      "Processed IMG387 for Train set\n",
      "Processed IMG388 for Train set\n",
      "Processed IMG389 for Train set\n",
      "Processed IMG390 for Train set\n",
      "Processed IMG391 for Train set\n",
      "Processed IMG392 for Train set\n",
      "Processed IMG393 for Train set\n",
      "Processed IMG394 for Train set\n",
      "Processed IMG395 for Train set\n",
      "Processed IMG396 for Train set\n",
      "Processed IMG397 for Train set\n",
      "Processed IMG398 for Train set\n",
      "Processed IMG399 for Train set\n",
      "Processed IMG401 for Train set\n",
      "Processed IMG402 for Train set\n",
      "Processed IMG403 for Train set\n",
      "Processed IMG404 for Train set\n",
      "Processed IMG405 for Train set\n",
      "Processed IMG406 for Train set\n",
      "Processed IMG407 for Train set\n",
      "Processed IMG407 for Train set\n",
      "Processed IMG407 for Train set\n",
      "Processed IMG408 for Train set\n",
      "Processed IMG408 for Train set\n",
      "Processed IMG408 for Train set\n",
      "Processed IMG410 for Train set\n",
      "Processed IMG410 for Train set\n",
      "Processed IMG410 for Train set\n",
      "Processed IMG410 for Train set\n",
      "Processed IMG411 for Train set\n",
      "Processed IMG411 for Train set\n",
      "Processed IMG412 for Train set\n",
      "Processed IMG412 for Train set\n",
      "Processed IMG412 for Train set\n",
      "Processed IMG414 for Train set\n",
      "Processed IMG414 for Train set\n",
      "Processed IMG415 for Train set\n",
      "Processed IMG415 for Train set\n",
      "Processed IMG417 for Train set\n",
      "Processed IMG417 for Train set\n",
      "Processed IMG419 for Train set\n",
      "Processed IMG419 for Train set\n",
      "Processed IMG419 for Train set\n",
      "Processed IMG420 for Train set\n",
      "Processed IMG421 for Train set\n",
      "Processed IMG421 for Train set\n",
      "Processed IMG422 for Train set\n",
      "Processed IMG423 for Train set\n",
      "Processed IMG425 for Train set\n",
      "Processed IMG427 for Train set\n",
      "Processed IMG428 for Train set\n",
      "Processed IMG429 for Train set\n",
      "Processed IMG429 for Train set\n",
      "Processed IMG430 for Train set\n",
      "Processed IMG431 for Train set\n",
      "Processed IMG432 for Train set\n",
      "Processed IMG433 for Train set\n",
      "Processed IMG433 for Train set\n",
      "Processed IMG434 for Train set\n",
      "Processed IMG436 for Train set\n",
      "Processed IMG436 for Train set\n",
      "Processed IMG437 for Train set\n",
      "Processed IMG439 for Train set\n",
      "Processed IMG440 for Train set\n",
      "Processed IMG441 for Train set\n",
      "Processed IMG441 for Train set\n",
      "Processed IMG444 for Train set\n",
      "Processed IMG445 for Train set\n",
      "Processed IMG445 for Train set\n",
      "Processed IMG446 for Train set\n",
      "Processed IMG446 for Train set\n",
      "Processed IMG446 for Train set\n",
      "Processed IMG448 for Train set\n",
      "Processed IMG451 for Train set\n",
      "Processed IMG454 for Train set\n",
      "Processed IMG455 for Train set\n",
      "Processed IMG456 for Train set\n",
      "Processed IMG457 for Train set\n",
      "Processed IMG458 for Train set\n",
      "Processed IMG459 for Train set\n",
      "Processed IMG460 for Train set\n",
      "Processed IMG462 for Train set\n",
      "Processed IMG463 for Train set\n",
      "Processed IMG464 for Train set\n",
      "Processed IMG465 for Train set\n",
      "Processed IMG466 for Train set\n",
      "Processed IMG467 for Train set\n",
      "Processed IMG468 for Train set\n",
      "Processed IMG469 for Train set\n",
      "Processed IMG469 for Train set\n",
      "Processed IMG469 for Train set\n",
      "Processed IMG470 for Train set\n",
      "Processed IMG470 for Train set\n",
      "Processed IMG470 for Train set\n",
      "Processed IMG470 for Train set\n",
      "Processed IMG471 for Train set\n",
      "Processed IMG473 for Train set\n",
      "Processed IMG474 for Train set\n",
      "Processed IMG477 for Train set\n",
      "Processed IMG478 for Train set\n",
      "Processed IMG478 for Train set\n",
      "Processed IMG479 for Train set\n",
      "Processed IMG480 for Train set\n",
      "Processed IMG482 for Train set\n",
      "Processed IMG483 for Train set\n",
      "Processed IMG484 for Train set\n",
      "Processed IMG485 for Train set\n",
      "Processed IMG486 for Train set\n",
      "Processed IMG487 for Train set\n",
      "Processed IMG488 for Train set\n",
      "Processed IMG489 for Train set\n",
      "Processed IMG490 for Train set\n",
      "Processed IMG491 for Train set\n",
      "Processed IMG492 for Train set\n",
      "Processed IMG493 for Train set\n",
      "Processed IMG495 for Train set\n",
      "Processed IMG497 for Train set\n",
      "Processed IMG497 for Train set\n",
      "Processed IMG498 for Train set\n",
      "Processed IMG498 for Train set\n",
      "Processed IMG499 for Train set\n",
      "Processed IMG500 for Train set\n",
      "Processed IMG501 for Train set\n",
      "Processed IMG503 for Train set\n",
      "Processed IMG504 for Train set\n",
      "Processed IMG507 for Train set\n",
      "Processed IMG508 for Train set\n",
      "Processed IMG509 for Train set\n",
      "Processed IMG510 for Train set\n",
      "Processed IMG001 for Test set\n",
      "Processed IMG001 for Test set\n",
      "Processed IMG003 for Test set\n",
      "Processed IMG010 for Test set\n",
      "Processed IMG012 for Test set\n",
      "Processed IMG012 for Test set\n",
      "Processed IMG019 for Test set\n",
      "Processed IMG023 for Test set\n",
      "Processed IMG031 for Test set\n",
      "Processed IMG034 for Test set\n",
      "Processed IMG040 for Test set\n",
      "Processed IMG047 for Test set\n",
      "Processed IMG056 for Test set\n",
      "Processed IMG064 for Test set\n",
      "Processed IMG069 for Test set\n",
      "Processed IMG070 for Test set\n",
      "Processed IMG071 for Test set\n",
      "Processed IMG073 for Test set\n",
      "Processed IMG074 for Test set\n",
      "Processed IMG077 for Test set\n",
      "Processed IMG078 for Test set\n",
      "Processed IMG079 for Test set\n",
      "Processed IMG080 for Test set\n",
      "Processed IMG083 for Test set\n",
      "Processed IMG085 for Test set\n",
      "Processed IMG091 for Test set\n",
      "Processed IMG094 for Test set\n",
      "Processed IMG102 for Test set\n",
      "Processed IMG105 for Test set\n",
      "Processed IMG118 for Test set\n",
      "Processed IMG125 for Test set\n",
      "Processed IMG125 for Test set\n",
      "Processed IMG125 for Test set\n",
      "Processed IMG132 for Test set\n",
      "Processed IMG133 for Test set\n",
      "Processed IMG149 for Test set\n",
      "Processed IMG155 for Test set\n",
      "Processed IMG156 for Test set\n",
      "Processed IMG168 for Test set\n",
      "Processed IMG173 for Test set\n",
      "Processed IMG174 for Test set\n",
      "Processed IMG177 for Test set\n",
      "Processed IMG181 for Test set\n",
      "Processed IMG182 for Test set\n",
      "Processed IMG183 for Test set\n",
      "Processed IMG196 for Test set\n",
      "Processed IMG210 for Test set\n",
      "Processed IMG211 for Test set\n",
      "Processed IMG219 for Test set\n",
      "Processed IMG221 for Test set\n",
      "Processed IMG226 for Test set\n",
      "Processed IMG230 for Test set\n",
      "Processed IMG245 for Test set\n",
      "Processed IMG248 for Test set\n",
      "Processed IMG249 for Test set\n",
      "Processed IMG250 for Test set\n",
      "Processed IMG251 for Test set\n",
      "Processed IMG276 for Test set\n",
      "Processed IMG281 for Test set\n",
      "Processed IMG282 for Test set\n",
      "Processed IMG285 for Test set\n",
      "Processed IMG297 for Test set\n",
      "Processed IMG297 for Test set\n",
      "Processed IMG299 for Test set\n",
      "Processed IMG302 for Test set\n",
      "Processed IMG303 for Test set\n",
      "Processed IMG323 for Test set\n",
      "Processed IMG324 for Test set\n",
      "Processed IMG324 for Test set\n",
      "Processed IMG324 for Test set\n",
      "Processed IMG326 for Test set\n",
      "Processed IMG326 for Test set\n",
      "Processed IMG330 for Test set\n",
      "Processed IMG336 for Test set\n",
      "Processed IMG341 for Test set\n",
      "Processed IMG342 for Test set\n",
      "Processed IMG343 for Test set\n",
      "Processed IMG348 for Test set\n",
      "Processed IMG359 for Test set\n",
      "Processed IMG365 for Test set\n",
      "Processed IMG369 for Test set\n",
      "Processed IMG369 for Test set\n",
      "Processed IMG369 for Test set\n",
      "Processed IMG370 for Test set\n",
      "Processed IMG375 for Test set\n",
      "Processed IMG382 for Test set\n",
      "Processed IMG400 for Test set\n",
      "Processed IMG409 for Test set\n",
      "Processed IMG409 for Test set\n",
      "Processed IMG409 for Test set\n",
      "Processed IMG409 for Test set\n",
      "Processed IMG413 for Test set\n",
      "Processed IMG413 for Test set\n",
      "Processed IMG416 for Test set\n",
      "Processed IMG416 for Test set\n",
      "Processed IMG418 for Test set\n",
      "Processed IMG424 for Test set\n",
      "Processed IMG426 for Test set\n",
      "Processed IMG435 for Test set\n",
      "Processed IMG438 for Test set\n",
      "Processed IMG442 for Test set\n",
      "Processed IMG442 for Test set\n",
      "Processed IMG443 for Test set\n",
      "Processed IMG447 for Test set\n",
      "Processed IMG449 for Test set\n",
      "Processed IMG450 for Test set\n",
      "Processed IMG452 for Test set\n",
      "Processed IMG453 for Test set\n",
      "Processed IMG461 for Test set\n",
      "Processed IMG472 for Test set\n",
      "Processed IMG475 for Test set\n",
      "Processed IMG475 for Test set\n",
      "Processed IMG476 for Test set\n",
      "Processed IMG481 for Test set\n",
      "Processed IMG494 for Test set\n",
      "Processed IMG496 for Test set\n",
      "Processed IMG502 for Test set\n",
      "Processed IMG505 for Test set\n",
      "Processed IMG506 for Test set\n"
     ]
    }
   ],
   "source": [
    "import os\n",
    "import numpy as np\n",
    "import pandas as pd\n",
    "import pydicom as pdcm\n",
    "import cv2\n",
    "from sklearn.model_selection import train_test_split\n",
    "\n",
    "def np_CountUpContinuingOnes(b_arr):\n",
    "    # indice continuing zeros from left side.\n",
    "    # ex: [0,1,1,0,1,0,0,1,1,1,0] -> [0,0,0,3,3,5,6,6,6,6,10]\n",
    "    left = np.arange(len(b_arr))\n",
    "    left[b_arr > 0] = 0\n",
    "    left = np.maximum.accumulate(left)\n",
    "\n",
    "    # from right side.\n",
    "    # ex: [0,1,1,0,1,0,0,1,1,1,0] -> [0,3,3,3,5,5,6,10,10,10,10]\n",
    "    rev_arr = b_arr[::-1]\n",
    "    right = np.arange(len(rev_arr))\n",
    "    right[rev_arr > 0] = 0\n",
    "    right = np.maximum.accumulate(right)\n",
    "    right = len(rev_arr) - 1 - right[::-1]\n",
    "\n",
    "    return right - left - 1\n",
    "\n",
    "\n",
    "def ExtractBreast(img):\n",
    "    img_copy = img.copy()\n",
    "    img = np.where(img <= 20, 0, img)  # To detect backgrounds easily\n",
    "    height, _ = img.shape\n",
    "\n",
    "    # whether each col is non-constant or not\n",
    "    y_a = height // 2 + int(height * 0.4)\n",
    "    y_b = height // 2 - int(height * 0.4)\n",
    "    b_arr = img[y_b:y_a].std(axis=0) != 0\n",
    "    continuing_ones = np_CountUpContinuingOnes(b_arr)\n",
    "    # longest should be the breast\n",
    "    col_ind = np.where(continuing_ones == continuing_ones.max())[0]\n",
    "    img = img[:, col_ind]\n",
    "\n",
    "    # whether each row is non-constant or not\n",
    "    _, width = img.shape\n",
    "    x_a = width // 2 + int(width * 0.4)\n",
    "    x_b = width // 2 - int(width * 0.4)\n",
    "    b_arr = img[:, x_b:x_a].std(axis=1) != 0\n",
    "    continuing_ones = np_CountUpContinuingOnes(b_arr)\n",
    "    # longest should be the breast\n",
    "    row_ind = np.where(continuing_ones == continuing_ones.max())[0]\n",
    "\n",
    "    return img_copy[row_ind][:, col_ind]\n",
    "\n",
    "# 读取XLSX文件\n",
    "xlsx_path = '/Volumes/图图/DMID-kaggle/archive/Metadata.xlsx'\n",
    "df = pd.read_excel(xlsx_path)\n",
    "# df['pathology'] = df['pathology'].fillna('N')\n",
    "\n",
    "# 排序并按8:2比例分成训练集和测试集\n",
    "unique_ids = df['ID'].drop_duplicates()\n",
    "train_ids, test_ids = train_test_split(unique_ids, test_size=0.2, random_state=42)\n",
    "\n",
    "# 根据去重后的ID划分数据集\n",
    "train_df = df[df['ID'].isin(train_ids)]\n",
    "test_df = df[df['ID'].isin(test_ids)]\n",
    "\n",
    "# 定义输入和输出路径\n",
    "DCM_PATH = \"/Volumes/图图/DMID-kaggle/archive/DICOM Images/DICOM Images\"\n",
    "OUTPUT_BASE_PATH = \"/Volumes/图图/DMID-kaggle/archive/image-classification\"\n",
    "\n",
    "def process_and_save(df, set_type):\n",
    "    for index, row in df.iterrows():\n",
    "        file_id = row['ID'].strip()\n",
    "        view_dir=str(row['view']).replace(' ','')\n",
    "        if view_dir.startswith('MLO'):\n",
    "            view='MLO'\n",
    "        elif view_dir.startswith('CC'):\n",
    "            view='CC'\n",
    "        if view_dir.endswith('LT'):\n",
    "            left_or_right='Left'\n",
    "        elif view_dir.endswith('RT'):\n",
    "            left_or_right='Right'\n",
    "        background_tissue = str(row['background tissue']).replace(' ','')\n",
    "        # abnormality = row['abnormality']\n",
    "        # pathology = row['pathology']\n",
    "        meta_data = {\n",
    "            'view':view,\n",
    "            'left_or_right':left_or_right,\n",
    "            'background_tissue': background_tissue\n",
    "            # 'abnormality': abnormality,\n",
    "            # 'pathology': pathology\n",
    "        }\n",
    "        \n",
    "        dcm_file = os.path.join(DCM_PATH, f\"{file_id}.dcm\")\n",
    "        if os.path.exists(dcm_file):\n",
    "            dcm = pdcm.dcmread(dcm_file)\n",
    "            img = dcm.pixel_array\n",
    "            if len(img.shape) == 3 and img.shape[2] == 3:\n",
    "                img = cv2.cvtColor(img, cv2.COLOR_BGR2GRAY)\n",
    "            img = ExtractBreast(img)\n",
    "            img = cv2.normalize(img, None, 0, 255, cv2.NORM_MINMAX).astype(np.uint8)\n",
    "            # 创建输出目录\n",
    "            output_dir = os.path.join(OUTPUT_BASE_PATH, set_type, file_id)\n",
    "            if not os.path.exists(output_dir):\n",
    "                os.makedirs(output_dir)\n",
    "            \n",
    "            # 保存预处理后的图像为JPG文件\n",
    "            jpg_path = os.path.join(output_dir, 'img.jpg')\n",
    "            cv2.imwrite(jpg_path, img)\n",
    "            \n",
    "            # 保存元数据为NPY文件\n",
    "            npy_path = os.path.join(output_dir, 'info_dict.npy')\n",
    "            np.save(npy_path, meta_data)\n",
    "\n",
    "            print(f\"Processed {file_id} for {set_type} set\")\n",
    "        else:\n",
    "            print(f\"DICOM file for {file_id} not found.\")\n",
    "\n",
    "# 处理并保存训练集和测试集\n",
    "process_and_save(train_df, 'Train')\n",
    "process_and_save(test_df, 'Test')\n"
   ]
  },
  {
   "cell_type": "markdown",
   "metadata": {},
   "source": [
    "cropped classification pathology"
   ]
  },
  {
   "cell_type": "code",
   "execution_count": 15,
   "metadata": {},
   "outputs": [
    {
     "name": "stdout",
     "output_type": "stream",
     "text": [
      "Processed IMG024 for Train set\n",
      "Processed IMG067 for Train set\n",
      "Processed IMG206 for Train set\n",
      "Processed IMG305 for Train set\n",
      "Processed IMG033 for Train set\n",
      "Processed IMG369 for Train set\n",
      "Processed IMG421 for Train set\n",
      "Processed IMG232 for Train set\n",
      "Processed IMG355 for Train set\n",
      "Processed IMG101 for Train set\n",
      "Processed IMG297 for Train set\n",
      "Processed IMG279 for Train set\n",
      "Processed IMG451 for Train set\n",
      "Processed IMG407 for Train set\n",
      "Processed IMG205 for Train set\n",
      "Processed IMG114 for Train set\n",
      "Processed IMG500 for Train set\n",
      "Processed IMG011 for Train set\n",
      "Processed IMG053 for Train set\n",
      "Processed IMG172 for Train set\n",
      "Processed IMG465 for Train set\n",
      "Processed IMG446 for Train set\n",
      "Processed IMG342 for Train set\n",
      "Processed IMG024 for Train set\n",
      "Processed IMG482 for Train set\n",
      "Processed IMG136 for Train set\n",
      "Processed IMG407 for Train set\n",
      "Processed IMG010 for Train set\n",
      "Processed IMG025 for Train set\n",
      "Processed IMG304 for Train set\n",
      "Processed IMG063 for Train set\n",
      "Processed IMG288 for Train set\n",
      "Processed IMG146 for Train set\n",
      "Processed IMG065 for Train set\n",
      "Processed IMG116 for Train set\n",
      "Processed IMG394 for Train set\n",
      "Processed IMG286 for Train set\n",
      "Processed IMG031 for Train set\n",
      "Processed IMG166 for Train set\n",
      "Processed IMG141 for Train set\n",
      "Processed IMG029 for Train set\n",
      "Processed IMG012 for Train set\n",
      "Processed IMG469 for Train set\n",
      "Processed IMG116 for Train set\n",
      "Processed IMG288 for Train set\n",
      "Processed IMG476 for Train set\n",
      "Processed IMG200 for Train set\n",
      "Processed IMG479 for Train set\n",
      "Processed IMG501 for Train set\n",
      "Processed IMG415 for Train set\n",
      "Processed IMG184 for Train set\n",
      "Processed IMG358 for Train set\n",
      "Processed IMG459 for Train set\n",
      "Processed IMG146 for Train set\n",
      "Processed IMG483 for Train set\n",
      "Processed IMG458 for Train set\n",
      "Processed IMG457 for Train set\n",
      "Processed IMG272 for Train set\n",
      "Processed IMG116 for Train set\n",
      "Processed IMG286 for Train set\n",
      "Processed IMG150 for Train set\n",
      "Processed IMG427 for Train set\n",
      "Processed IMG164 for Train set\n",
      "Processed IMG203 for Train set\n",
      "Processed IMG322 for Train set\n",
      "Processed IMG444 for Train set\n",
      "Processed IMG222 for Train set\n",
      "Processed IMG073 for Train set\n",
      "Processed IMG434 for Train set\n",
      "Processed IMG275 for Train set\n",
      "Processed IMG131 for Train set\n",
      "Processed IMG306 for Train set\n",
      "Processed IMG323 for Train set\n",
      "Processed IMG278 for Train set\n",
      "Processed IMG453 for Train set\n",
      "Processed IMG437 for Train set\n",
      "Processed IMG278 for Train set\n",
      "Processed IMG279 for Train set\n",
      "Processed IMG416 for Train set\n",
      "Processed IMG294 for Train set\n",
      "Processed IMG145 for Train set\n",
      "Processed IMG409 for Train set\n",
      "Processed IMG421 for Train set\n",
      "Processed IMG475 for Train set\n",
      "Processed IMG062 for Train set\n",
      "Processed IMG117 for Train set\n",
      "Processed IMG491 for Train set\n",
      "Processed IMG307 for Train set\n",
      "Processed IMG012 for Train set\n",
      "Processed IMG408 for Train set\n",
      "Processed IMG383 for Train set\n",
      "Processed IMG184 for Train set\n",
      "Processed IMG161 for Train set\n",
      "Processed IMG206 for Train set\n",
      "Processed IMG234 for Train set\n",
      "Processed IMG468 for Train set\n",
      "Processed IMG112 for Train set\n",
      "Processed IMG043 for Train set\n",
      "Processed IMG422 for Train set\n",
      "Processed IMG199 for Train set\n",
      "Processed IMG478 for Train set\n",
      "Processed IMG439 for Train set\n",
      "Processed IMG274 for Train set\n",
      "Processed IMG445 for Train set\n",
      "Processed IMG280 for Train set\n",
      "Processed IMG418 for Train set\n",
      "Processed IMG262 for Train set\n",
      "Processed IMG090 for Train set\n",
      "Processed IMG357 for Train set\n",
      "Processed IMG186 for Train set\n",
      "Processed IMG409 for Train set\n",
      "Processed IMG158 for Train set\n",
      "Processed IMG008 for Train set\n",
      "Processed IMG097 for Train set\n",
      "Processed IMG426 for Train set\n",
      "Processed IMG311 for Train set\n",
      "Processed IMG410 for Train set\n",
      "Processed IMG103 for Train set\n",
      "Processed IMG148 for Train set\n",
      "Processed IMG414 for Train set\n",
      "Processed IMG467 for Train set\n",
      "Processed IMG475 for Train set\n",
      "Processed IMG104 for Train set\n",
      "Processed IMG329 for Train set\n",
      "Processed IMG041 for Train set\n",
      "Processed IMG149 for Train set\n",
      "Processed IMG134 for Train set\n",
      "Processed IMG312 for Train set\n",
      "Processed IMG277 for Train set\n",
      "Processed IMG233 for Train set\n",
      "Processed IMG067 for Train set\n",
      "Processed IMG362 for Train set\n",
      "Processed IMG326 for Train set\n",
      "Processed IMG450 for Train set\n",
      "Processed IMG402 for Train set\n",
      "Processed IMG324 for Train set\n",
      "Processed IMG423 for Train set\n",
      "Processed IMG308 for Train set\n",
      "Processed IMG138 for Train set\n",
      "Processed IMG415 for Train set\n",
      "Processed IMG324 for Train set\n",
      "Processed IMG286 for Train set\n",
      "Processed IMG288 for Train set\n",
      "Processed IMG441 for Train set\n",
      "Processed IMG286 for Train set\n",
      "Processed IMG140 for Train set\n",
      "Processed IMG441 for Train set\n",
      "Processed IMG404 for Train set\n",
      "Processed IMG357 for Train set\n",
      "Processed IMG424 for Train set\n",
      "Processed IMG233 for Train set\n",
      "Processed IMG327 for Train set\n",
      "Processed IMG406 for Train set\n",
      "Processed IMG412 for Train set\n",
      "Processed IMG367 for Train set\n",
      "Processed IMG118 for Train set\n",
      "Processed IMG220 for Train set\n",
      "Processed IMG456 for Train set\n",
      "Processed IMG367 for Train set\n",
      "Processed IMG408 for Train set\n",
      "Processed IMG488 for Train set\n",
      "Processed IMG408 for Train set\n",
      "Processed IMG292 for Train set\n",
      "Processed IMG478 for Train set\n",
      "Processed IMG191 for Train set\n",
      "Processed IMG143 for Train set\n",
      "Processed IMG274 for Train set\n",
      "Processed IMG317 for Train set\n",
      "Processed IMG291 for Train set\n",
      "Processed IMG132 for Train set\n",
      "Processed IMG287 for Train set\n",
      "Processed IMG429 for Train set\n",
      "Processed IMG367 for Train set\n",
      "Processed IMG139 for Train set\n",
      "Processed IMG116 for Train set\n",
      "Processed IMG411 for Train set\n",
      "Processed IMG142 for Train set\n",
      "Processed IMG409 for Train set\n",
      "Processed IMG048 for Train set\n",
      "Processed IMG471 for Train set\n",
      "Processed IMG066 for Train set\n",
      "Processed IMG355 for Train set\n",
      "Processed IMG086 for Train set\n",
      "Processed IMG299 for Train set\n",
      "Processed IMG251 for Train set\n",
      "Processed IMG184 for Train set\n",
      "Processed IMG039 for Train set\n",
      "Processed IMG030 for Train set\n",
      "Processed IMG201 for Train set\n",
      "Processed IMG147 for Train set\n",
      "Processed IMG425 for Train set\n",
      "Processed IMG369 for Train set\n",
      "Processed IMG286 for Train set\n",
      "Processed IMG102 for Train set\n",
      "Processed IMG059 for Train set\n",
      "Processed IMG297 for Train set\n",
      "Processed IMG412 for Train set\n",
      "Processed IMG219 for Train set\n",
      "Processed IMG046 for Train set\n",
      "Processed IMG419 for Train set\n",
      "Processed IMG278 for Train set\n",
      "Processed IMG355 for Train set\n",
      "Processed IMG311 for Train set\n",
      "Processed IMG011 for Train set\n",
      "Processed IMG315 for Train set\n",
      "Processed IMG466 for Train set\n",
      "Processed IMG108 for Train set\n",
      "Processed IMG288 for Train set\n",
      "Processed IMG445 for Train set\n",
      "Processed IMG283 for Train set\n",
      "Processed IMG202 for Train set\n",
      "Processed IMG357 for Train set\n",
      "Processed IMG284 for Train set\n",
      "Processed IMG064 for Train set\n",
      "Processed IMG034 for Train set\n",
      "Processed IMG324 for Train set\n",
      "Processed IMG410 for Train set\n",
      "Processed IMG276 for Train set\n",
      "Processed IMG460 for Train set\n",
      "Processed IMG030 for Train set\n",
      "Processed IMG419 for Train set\n",
      "Processed IMG288 for Train set\n",
      "Processed IMG319 for Train set\n",
      "Processed IMG357 for Train set\n",
      "Processed IMG186 for Train set\n",
      "Processed IMG443 for Train set\n",
      "Processed IMG144 for Train set\n",
      "Processed IMG065 for Train set\n",
      "Processed IMG143 for Train set\n",
      "Processed IMG139 for Train set\n",
      "Processed IMG014 for Train set\n",
      "Processed IMG409 for Train set\n",
      "Processed IMG474 for Train set\n",
      "Processed IMG065 for Train set\n",
      "Processed IMG367 for Train set\n",
      "Processed IMG022 for Train set\n",
      "Processed IMG184 for Train set\n",
      "Processed IMG045 for Train set\n",
      "Processed IMG470 for Train set\n",
      "Processed IMG429 for Train set\n",
      "Processed IMG284 for Train set\n",
      "Processed IMG339 for Train set\n",
      "Processed IMG455 for Train set\n",
      "Processed IMG413 for Train set\n",
      "Processed IMG296 for Train set\n",
      "Processed IMG279 for Train set\n",
      "Processed IMG358 for Train set\n",
      "Processed IMG470 for Train set\n",
      "Processed IMG309 for Train set\n",
      "Processed IMG494 for Train set\n",
      "Processed IMG470 for Train set\n",
      "Processed IMG369 for Train set\n",
      "Processed IMG420 for Train set\n",
      "Processed IMG325 for Train set\n",
      "Processed IMG277 for Train set\n",
      "Processed IMG186 for Train set\n",
      "Processed IMG048 for Train set\n",
      "Processed IMG285 for Train set\n",
      "Processed IMG254 for Train set\n",
      "Processed IMG385 for Train set\n",
      "Processed IMG318 for Train set\n",
      "Processed IMG114 for Train set\n",
      "Processed IMG059 for Train set\n",
      "Processed IMG001 for Train set\n",
      "Processed IMG489 for Train set\n",
      "Processed IMG081 for Train set\n",
      "Processed IMG278 for Train set\n",
      "Processed IMG322 for Train set\n",
      "Processed IMG433 for Train set\n",
      "Processed IMG094 for Train set\n",
      "Processed IMG414 for Train set\n",
      "Processed IMG480 for Train set\n",
      "Processed IMG059 for Train set\n",
      "Processed IMG417 for Train set\n",
      "Processed IMG322 for Train set\n",
      "Processed IMG298 for Train set\n",
      "Processed IMG021 for Train set\n",
      "Processed IMG405 for Train set\n",
      "Processed IMG089 for Train set\n",
      "Processed IMG448 for Train set\n",
      "Processed IMG328 for Train set\n",
      "Processed IMG199 for Train set\n",
      "Processed IMG410 for Train set\n",
      "Processed IMG497 for Train set\n",
      "Processed IMG142 for Train set\n",
      "Processed IMG370 for Train set\n",
      "Processed IMG487 for Train set\n",
      "Processed IMG407 for Train set\n",
      "Processed IMG060 for Train set\n",
      "Processed IMG431 for Train set\n",
      "Processed IMG204 for Train set\n",
      "Processed IMG253 for Train set\n",
      "Processed IMG499 for Train set\n",
      "Processed IMG252 for Train set\n",
      "Processed IMG201 for Train set\n",
      "Processed IMG061 for Train set\n",
      "Processed IMG417 for Train set\n",
      "Processed IMG295 for Train set\n",
      "Processed IMG310 for Train set\n",
      "Processed IMG027 for Train set\n",
      "Processed IMG403 for Train set\n",
      "Processed IMG186 for Train set\n",
      "Processed IMG331 for Train set\n",
      "Processed IMG254 for Train set\n",
      "Processed IMG446 for Train set\n",
      "Processed IMG358 for Train set\n",
      "Processed IMG473 for Train set\n",
      "Processed IMG416 for Train set\n",
      "Processed IMG316 for Train set\n",
      "Processed IMG383 for Train set\n",
      "Processed IMG159 for Train set\n",
      "Processed IMG140 for Train set\n",
      "Processed IMG161 for Train set\n",
      "Processed IMG428 for Train set\n",
      "Processed IMG438 for Train set\n",
      "Processed IMG410 for Train set\n",
      "Processed IMG283 for Train set\n",
      "Processed IMG502 for Train set\n",
      "Processed IMG026 for Train set\n",
      "Processed IMG252 for Train set\n",
      "Processed IMG114 for Train set\n",
      "Processed IMG326 for Train set\n",
      "Processed IMG419 for Train set\n",
      "Processed IMG493 for Train set\n",
      "Processed IMG111 for Train set\n",
      "Processed IMG355 for Test set\n",
      "Processed IMG442 for Test set\n",
      "Processed IMG449 for Test set\n",
      "Processed IMG069 for Test set\n",
      "Processed IMG032 for Test set\n",
      "Processed IMG255 for Test set\n",
      "Processed IMG430 for Test set\n",
      "Processed IMG413 for Test set\n",
      "Processed IMG060 for Test set\n",
      "Processed IMG159 for Test set\n",
      "Processed IMG401 for Test set\n",
      "Processed IMG469 for Test set\n",
      "Processed IMG074 for Test set\n",
      "Processed IMG432 for Test set\n",
      "Processed IMG078 for Test set\n",
      "Processed IMG015 for Test set\n",
      "Processed IMG092 for Test set\n",
      "Processed IMG099 for Test set\n",
      "Processed IMG360 for Test set\n",
      "Processed IMG071 for Test set\n",
      "Processed IMG044 for Test set\n",
      "Processed IMG184 for Test set\n",
      "Processed IMG495 for Test set\n",
      "Processed IMG072 for Test set\n",
      "Processed IMG411 for Test set\n",
      "Processed IMG144 for Test set\n",
      "Processed IMG477 for Test set\n",
      "Processed IMG472 for Test set\n",
      "Processed IMG076 for Test set\n",
      "Processed IMG440 for Test set\n",
      "Processed IMG296 for Test set\n",
      "Processed IMG296 for Test set\n",
      "Processed IMG498 for Test set\n",
      "Processed IMG492 for Test set\n",
      "Processed IMG288 for Test set\n",
      "Processed IMG469 for Test set\n",
      "Processed IMG110 for Test set\n",
      "Processed IMG497 for Test set\n",
      "Processed IMG079 for Test set\n",
      "Processed IMG139 for Test set\n",
      "Processed IMG485 for Test set\n",
      "Processed IMG333 for Test set\n",
      "Processed IMG412 for Test set\n",
      "Processed IMG452 for Test set\n",
      "Processed IMG023 for Test set\n",
      "Processed IMG357 for Test set\n",
      "Processed IMG141 for Test set\n",
      "Processed IMG001 for Test set\n",
      "Processed IMG025 for Test set\n",
      "Processed IMG356 for Test set\n",
      "Processed IMG358 for Test set\n",
      "Processed IMG060 for Test set\n",
      "Processed IMG237 for Test set\n",
      "Processed IMG490 for Test set\n",
      "Processed IMG481 for Test set\n",
      "Processed IMG290 for Test set\n",
      "Processed IMG333 for Test set\n",
      "Processed IMG442 for Test set\n",
      "Processed IMG029 for Test set\n",
      "Processed IMG433 for Test set\n",
      "Processed IMG331 for Test set\n",
      "Processed IMG046 for Test set\n",
      "Processed IMG204 for Test set\n",
      "Processed IMG470 for Test set\n",
      "Processed IMG286 for Test set\n",
      "Processed IMG320 for Test set\n",
      "Processed IMG356 for Test set\n",
      "Processed IMG356 for Test set\n",
      "Processed IMG054 for Test set\n",
      "Processed IMG484 for Test set\n",
      "Processed IMG498 for Test set\n",
      "Processed IMG496 for Test set\n",
      "Processed IMG446 for Test set\n",
      "Processed IMG061 for Test set\n",
      "Processed IMG486 for Test set\n",
      "Processed IMG029 for Test set\n"
     ]
    }
   ],
   "source": [
    "import os\n",
    "import numpy as np\n",
    "import pandas as pd\n",
    "import pydicom as pdcm\n",
    "import cv2\n",
    "from sklearn.model_selection import train_test_split\n",
    "\n",
    "def crop_and_save(img, x, y, radius, output_path, file_id):\n",
    "    flag = True\n",
    "    try:\n",
    "        x = int(x)\n",
    "        y = int(y)\n",
    "        radius = int(radius)\n",
    "        x1 = max(x - radius, 0)\n",
    "        y1 = max(y - radius, 0)\n",
    "        x2 = min(x + radius, img.shape[1])\n",
    "        y2 = min(y + radius, img.shape[0])\n",
    "\n",
    "        # 裁剪图像\n",
    "        cropped_img = img[y1:y2, x1:x2]\n",
    "        cropped_img = cv2.normalize(cropped_img, None, 0, 255, cv2.NORM_MINMAX).astype(np.uint8)\n",
    "        if not os.path.exists('/'.join(output_path.split('/')[:-1])):\n",
    "            os.makedirs('/'.join(output_path.split('/')[:-1]))\n",
    "        \n",
    "        cv2.imwrite(output_path, cropped_img)\n",
    "    except:\n",
    "        flag = False\n",
    "    return flag\n",
    "\n",
    "# 读取XLSX文件\n",
    "xlsx_path = '/Volumes/图图/DMID-kaggle/archive/Metadata.xlsx'\n",
    "df = pd.read_excel(xlsx_path)\n",
    "df = df[df['abnormality'] != 'NORM']\n",
    "\n",
    "# 排序并按8:2比例分成训练集和测试集\n",
    "df_sorted = df.sort_values(by='ID')\n",
    "train_df, test_df = train_test_split(df_sorted, test_size=0.2, random_state=42)\n",
    "\n",
    "# 定义输入和输出路径\n",
    "DCM_PATH = \"/Volumes/图图/DMID-kaggle/archive/DICOM Images/DICOM Images\"\n",
    "OUTPUT_BASE_PATH = \"/Volumes/图图/DMID-kaggle/archive/cropped-classification-pathology\"\n",
    "\n",
    "def process_and_save(df, set_type):\n",
    "    id_counter = {}\n",
    "    for index, row in df.iterrows():\n",
    "        pathology = str(row['pathology']).replace(' ', '')\n",
    "        \n",
    "        # 跳过 pathology 为 'N' 的行\n",
    "        if pathology == 'N':\n",
    "            continue\n",
    "\n",
    "        file_id = row['ID'].strip()\n",
    "        abnormality = str(row['abnormality']).replace(' ','')\n",
    "        x = row['x']\n",
    "        y = row['y']\n",
    "        radius = row['radius']\n",
    "        meta_data = {\n",
    "            'pathology': pathology\n",
    "        }\n",
    "        \n",
    "        if file_id != 'IMG125' and file_id != 'IMG068' and file_id != 'IMG156' and file_id != 'IMG436' and file_id != 'IMG055' and file_id != 'IMG070' and file_id != 'IMG435' and file_id != 'IMG454':\n",
    "            dcm_file = os.path.join(DCM_PATH, f\"{file_id}.dcm\")\n",
    "            if os.path.exists(dcm_file):\n",
    "                dcm = pdcm.dcmread(dcm_file)\n",
    "                img = dcm.pixel_array\n",
    "                if len(img.shape) == 3 and img.shape[2] == 3:\n",
    "                    img = cv2.cvtColor(img, cv2.COLOR_BGR2GRAY)\n",
    "                \n",
    "                # 更新ID计数器\n",
    "                if file_id in id_counter:\n",
    "                    id_counter[file_id] += 1\n",
    "                else:\n",
    "                    id_counter[file_id] = 1\n",
    "                file_id_with_suffix = f\"{file_id}_{id_counter[file_id]}\"\n",
    "\n",
    "                # 创建输出目录\n",
    "                output_dir = os.path.join(OUTPUT_BASE_PATH, set_type, file_id_with_suffix)\n",
    "                \n",
    "                # 裁剪并保存预处理后的图像为JPG文件\n",
    "                jpg_path = os.path.join(output_dir, 'img.jpg')\n",
    "                flag = crop_and_save(img, x, y, radius, jpg_path, file_id)\n",
    "\n",
    "                # 保存元数据为NPY文件\n",
    "                if flag:\n",
    "                    npy_path = os.path.join(output_dir, 'info_dict.npy')\n",
    "                    np.save(npy_path, meta_data)\n",
    "\n",
    "                    print(f\"Processed {file_id} for {set_type} set\")\n",
    "            else:\n",
    "                print(f\"DICOM file for {file_id} not found.\")\n",
    "\n",
    "# 处理并保存训练集和测试集\n",
    "process_and_save(train_df, 'Train')\n",
    "process_and_save(test_df, 'Test')\n"
   ]
  },
  {
   "cell_type": "markdown",
   "metadata": {},
   "source": [
    "cropped classification abnormality"
   ]
  },
  {
   "cell_type": "code",
   "execution_count": 13,
   "metadata": {},
   "outputs": [
    {
     "name": "stdout",
     "output_type": "stream",
     "text": [
      "IMG024_1 True\n",
      "Processed IMG024 for Train set\n",
      "IMG067_1 True\n",
      "Processed IMG067 for Train set\n",
      "IMG206_1 True\n",
      "Processed IMG206 for Train set\n",
      "IMG305 jump\n",
      "IMG033 jump\n",
      "IMG085_1 True\n",
      "Processed IMG085 for Train set\n",
      "IMG369_1 True\n",
      "Processed IMG369 for Train set\n",
      "IMG421_1 True\n",
      "Processed IMG421 for Train set\n",
      "IMG232_1 True\n",
      "Processed IMG232 for Train set\n",
      "IMG355_1 True\n",
      "Processed IMG355 for Train set\n",
      "IMG101_1 True\n",
      "Processed IMG101 for Train set\n",
      "IMG297 jump\n",
      "IMG279_1 True\n",
      "Processed IMG279 for Train set\n",
      "IMG451_1 True\n",
      "Processed IMG451 for Train set\n",
      "IMG407_1 True\n",
      "Processed IMG407 for Train set\n",
      "IMG205_1 True\n",
      "Processed IMG205 for Train set\n",
      "IMG114_1 True\n",
      "Processed IMG114 for Train set\n",
      "IMG500_1 True\n",
      "Processed IMG500 for Train set\n",
      "IMG011_1 True\n",
      "Processed IMG011 for Train set\n",
      "IMG053_1 True\n",
      "Processed IMG053 for Train set\n",
      "IMG172_1 True\n",
      "Processed IMG172 for Train set\n",
      "IMG465_1 True\n",
      "Processed IMG465 for Train set\n",
      "IMG446_1 True\n",
      "Processed IMG446 for Train set\n",
      "IMG342_1 True\n",
      "Processed IMG342 for Train set\n",
      "IMG024 jump\n",
      "IMG482_1 True\n",
      "Processed IMG482 for Train set\n",
      "IMG136_1 True\n",
      "Processed IMG136 for Train set\n",
      "IMG407_2 True\n",
      "Processed IMG407 for Train set\n",
      "IMG010_1 True\n",
      "Processed IMG010 for Train set\n",
      "IMG025 jump\n",
      "IMG304 jump\n",
      "IMG063_1 True\n",
      "Processed IMG063 for Train set\n",
      "IMG288_1 True\n",
      "Processed IMG288 for Train set\n",
      "IMG146_1 True\n",
      "Processed IMG146 for Train set\n",
      "IMG065 jump\n",
      "IMG116 jump\n",
      "IMG394_1 True\n",
      "Processed IMG394 for Train set\n",
      "IMG286_1 True\n",
      "Processed IMG286 for Train set\n",
      "IMG031_1 True\n",
      "Processed IMG031 for Train set\n",
      "IMG166_1 True\n",
      "Processed IMG166 for Train set\n",
      "IMG141_1 True\n",
      "Processed IMG141 for Train set\n",
      "IMG029_1 True\n",
      "Processed IMG029 for Train set\n",
      "IMG012_1 True\n",
      "Processed IMG012 for Train set\n",
      "IMG469_1 True\n",
      "Processed IMG469 for Train set\n",
      "IMG116 jump\n",
      "IMG288_2 True\n",
      "Processed IMG288 for Train set\n",
      "IMG476_1 True\n",
      "Processed IMG476 for Train set\n",
      "IMG129_1 True\n",
      "Processed IMG129 for Train set\n",
      "IMG200_1 True\n",
      "Processed IMG200 for Train set\n",
      "IMG479_1 True\n",
      "Processed IMG479 for Train set\n",
      "IMG501 jump\n",
      "IMG415_1 True\n",
      "Processed IMG415 for Train set\n",
      "IMG184_1 True\n",
      "Processed IMG184 for Train set\n",
      "IMG358_1 True\n",
      "Processed IMG358 for Train set\n",
      "IMG459 jump\n",
      "IMG146_2 True\n",
      "Processed IMG146 for Train set\n",
      "IMG483_1 True\n",
      "Processed IMG483 for Train set\n",
      "IMG458_1 True\n",
      "Processed IMG458 for Train set\n",
      "IMG457_1 True\n",
      "Processed IMG457 for Train set\n",
      "IMG272_1 True\n",
      "Processed IMG272 for Train set\n",
      "IMG116_1 True\n",
      "Processed IMG116 for Train set\n",
      "IMG286_2 True\n",
      "Processed IMG286 for Train set\n",
      "IMG150_1 True\n",
      "Processed IMG150 for Train set\n",
      "IMG427_1 True\n",
      "Processed IMG427 for Train set\n",
      "IMG164_1 True\n",
      "Processed IMG164 for Train set\n",
      "IMG203_1 True\n",
      "Processed IMG203 for Train set\n",
      "IMG322 jump\n",
      "IMG084 jump\n",
      "IMG444 jump\n",
      "IMG222_1 True\n",
      "Processed IMG222 for Train set\n",
      "IMG073_1 True\n",
      "Processed IMG073 for Train set\n",
      "IMG301_1 True\n",
      "Processed IMG301 for Train set\n",
      "IMG434_1 True\n",
      "Processed IMG434 for Train set\n",
      "IMG275 jump\n",
      "IMG131_1 True\n",
      "Processed IMG131 for Train set\n",
      "IMG306_1 True\n",
      "Processed IMG306 for Train set\n",
      "IMG323 jump\n",
      "IMG278_1 True\n",
      "Processed IMG278 for Train set\n",
      "IMG453_1 True\n",
      "Processed IMG453 for Train set\n",
      "IMG437_1 True\n",
      "Processed IMG437 for Train set\n",
      "IMG278_2 True\n",
      "Processed IMG278 for Train set\n",
      "IMG279_2 True\n",
      "Processed IMG279 for Train set\n",
      "IMG416_1 True\n",
      "Processed IMG416 for Train set\n",
      "IMG294_1 True\n",
      "Processed IMG294 for Train set\n",
      "IMG040_1 True\n",
      "Processed IMG040 for Train set\n",
      "IMG145_1 True\n",
      "Processed IMG145 for Train set\n",
      "IMG409_1 True\n",
      "Processed IMG409 for Train set\n",
      "IMG257_1 True\n",
      "Processed IMG257 for Train set\n",
      "IMG421_2 True\n",
      "Processed IMG421 for Train set\n",
      "IMG475_1 True\n",
      "Processed IMG475 for Train set\n",
      "IMG062 jump\n",
      "IMG117_1 True\n",
      "Processed IMG117 for Train set\n",
      "IMG491 jump\n",
      "IMG307_1 True\n",
      "Processed IMG307 for Train set\n",
      "IMG012_2 True\n",
      "Processed IMG012 for Train set\n",
      "IMG408_1 True\n",
      "Processed IMG408 for Train set\n",
      "IMG383_1 True\n",
      "Processed IMG383 for Train set\n",
      "IMG184_2 True\n",
      "Processed IMG184 for Train set\n",
      "IMG161 jump\n",
      "IMG206 jump\n",
      "IMG234_1 True\n",
      "Processed IMG234 for Train set\n",
      "IMG018_1 True\n",
      "Processed IMG018 for Train set\n",
      "IMG468_1 True\n",
      "Processed IMG468 for Train set\n",
      "IMG112 jump\n",
      "IMG082_1 True\n",
      "Processed IMG082 for Train set\n",
      "IMG043_1 True\n",
      "Processed IMG043 for Train set\n",
      "IMG422_1 True\n",
      "Processed IMG422 for Train set\n",
      "IMG199_1 True\n",
      "Processed IMG199 for Train set\n",
      "IMG478_1 True\n",
      "Processed IMG478 for Train set\n",
      "IMG439_1 True\n",
      "Processed IMG439 for Train set\n",
      "IMG274_1 True\n",
      "Processed IMG274 for Train set\n",
      "IMG445_1 True\n",
      "Processed IMG445 for Train set\n",
      "IMG280 jump\n",
      "IMG418_1 True\n",
      "Processed IMG418 for Train set\n",
      "IMG262_1 True\n",
      "Processed IMG262 for Train set\n",
      "IMG090_1 True\n",
      "Processed IMG090 for Train set\n",
      "IMG357_1 True\n",
      "Processed IMG357 for Train set\n",
      "IMG186_1 True\n",
      "Processed IMG186 for Train set\n",
      "IMG409_2 True\n",
      "Processed IMG409 for Train set\n",
      "IMG158_1 True\n",
      "Processed IMG158 for Train set\n",
      "IMG008_1 True\n",
      "Processed IMG008 for Train set\n",
      "IMG097_1 True\n",
      "Processed IMG097 for Train set\n",
      "IMG426_1 True\n",
      "Processed IMG426 for Train set\n",
      "IMG311_1 True\n",
      "Processed IMG311 for Train set\n",
      "IMG135_1 True\n",
      "Processed IMG135 for Train set\n",
      "IMG410_1 True\n",
      "Processed IMG410 for Train set\n",
      "IMG103_1 True\n",
      "Processed IMG103 for Train set\n",
      "IMG148_1 True\n",
      "Processed IMG148 for Train set\n",
      "IMG414_1 True\n",
      "Processed IMG414 for Train set\n",
      "IMG467_1 True\n",
      "Processed IMG467 for Train set\n",
      "IMG475_2 True\n",
      "Processed IMG475 for Train set\n",
      "IMG104_1 True\n",
      "Processed IMG104 for Train set\n",
      "IMG329 jump\n",
      "IMG028_1 True\n",
      "Processed IMG028 for Train set\n",
      "IMG041_1 True\n",
      "Processed IMG041 for Train set\n",
      "IMG149_1 True\n",
      "Processed IMG149 for Train set\n",
      "IMG134 jump\n",
      "IMG312_1 True\n",
      "Processed IMG312 for Train set\n",
      "IMG277_1 True\n",
      "Processed IMG277 for Train set\n",
      "IMG233_1 True\n",
      "Processed IMG233 for Train set\n",
      "IMG067_2 True\n",
      "Processed IMG067 for Train set\n",
      "IMG362_1 True\n",
      "Processed IMG362 for Train set\n",
      "IMG326_1 True\n",
      "Processed IMG326 for Train set\n",
      "IMG450_1 True\n",
      "Processed IMG450 for Train set\n",
      "IMG402_1 True\n",
      "Processed IMG402 for Train set\n",
      "IMG324 jump\n",
      "IMG423_1 True\n",
      "Processed IMG423 for Train set\n",
      "IMG308_1 True\n",
      "Processed IMG308 for Train set\n",
      "IMG138_1 True\n",
      "Processed IMG138 for Train set\n",
      "IMG415 jump\n",
      "IMG324 jump\n",
      "IMG286_3 True\n",
      "Processed IMG286 for Train set\n",
      "IMG288_3 True\n",
      "Processed IMG288 for Train set\n",
      "IMG087_1 True\n",
      "Processed IMG087 for Train set\n",
      "IMG441_1 True\n",
      "Processed IMG441 for Train set\n",
      "IMG286_4 True\n",
      "Processed IMG286 for Train set\n",
      "IMG140_1 True\n",
      "Processed IMG140 for Train set\n",
      "IMG441_2 True\n",
      "Processed IMG441 for Train set\n",
      "IMG404_1 True\n",
      "Processed IMG404 for Train set\n",
      "IMG357_2 True\n",
      "Processed IMG357 for Train set\n",
      "IMG424_1 True\n",
      "Processed IMG424 for Train set\n",
      "IMG233_2 True\n",
      "Processed IMG233 for Train set\n",
      "IMG327_1 True\n",
      "Processed IMG327 for Train set\n",
      "IMG406_1 True\n",
      "Processed IMG406 for Train set\n",
      "IMG412_1 True\n",
      "Processed IMG412 for Train set\n",
      "IMG367_1 True\n",
      "Processed IMG367 for Train set\n",
      "IMG118_1 True\n",
      "Processed IMG118 for Train set\n",
      "IMG220_1 True\n",
      "Processed IMG220 for Train set\n",
      "IMG456_1 True\n",
      "Processed IMG456 for Train set\n",
      "IMG367_2 True\n",
      "Processed IMG367 for Train set\n",
      "IMG408_2 True\n",
      "Processed IMG408 for Train set\n",
      "IMG488_1 True\n",
      "Processed IMG488 for Train set\n",
      "IMG408_3 True\n",
      "Processed IMG408 for Train set\n",
      "IMG292_1 True\n",
      "Processed IMG292 for Train set\n",
      "IMG478_2 True\n",
      "Processed IMG478 for Train set\n",
      "IMG191_1 True\n",
      "Processed IMG191 for Train set\n",
      "IMG143_1 True\n",
      "Processed IMG143 for Train set\n",
      "IMG274 jump\n",
      "IMG317_1 True\n",
      "Processed IMG317 for Train set\n",
      "IMG291_1 True\n",
      "Processed IMG291 for Train set\n",
      "IMG132_1 True\n",
      "Processed IMG132 for Train set\n",
      "IMG287 jump\n",
      "IMG429_1 True\n",
      "Processed IMG429 for Train set\n",
      "IMG367_3 True\n",
      "Processed IMG367 for Train set\n",
      "IMG139_1 True\n",
      "Processed IMG139 for Train set\n",
      "IMG116_2 True\n",
      "Processed IMG116 for Train set\n",
      "IMG411_1 True\n",
      "Processed IMG411 for Train set\n",
      "IMG142_1 True\n",
      "Processed IMG142 for Train set\n",
      "IMG409_3 True\n",
      "Processed IMG409 for Train set\n",
      "IMG048_1 True\n",
      "Processed IMG048 for Train set\n",
      "IMG471_1 True\n",
      "Processed IMG471 for Train set\n",
      "IMG066 jump\n",
      "IMG355_2 True\n",
      "Processed IMG355 for Train set\n",
      "IMG086_1 True\n",
      "Processed IMG086 for Train set\n",
      "IMG299_1 True\n",
      "Processed IMG299 for Train set\n",
      "IMG251_1 True\n",
      "Processed IMG251 for Train set\n",
      "IMG184_3 True\n",
      "Processed IMG184 for Train set\n",
      "IMG020_1 True\n",
      "Processed IMG020 for Train set\n",
      "IMG039_1 True\n",
      "Processed IMG039 for Train set\n",
      "IMG030_1 True\n",
      "Processed IMG030 for Train set\n",
      "IMG201_1 True\n",
      "Processed IMG201 for Train set\n",
      "IMG147_1 True\n",
      "Processed IMG147 for Train set\n",
      "IMG425_1 True\n",
      "Processed IMG425 for Train set\n",
      "IMG369_2 True\n",
      "Processed IMG369 for Train set\n",
      "IMG286_5 True\n",
      "Processed IMG286 for Train set\n",
      "IMG102_1 True\n",
      "Processed IMG102 for Train set\n",
      "IMG059_1 True\n",
      "Processed IMG059 for Train set\n",
      "IMG297_1 True\n",
      "Processed IMG297 for Train set\n",
      "IMG412_2 True\n",
      "Processed IMG412 for Train set\n",
      "IMG447_1 True\n",
      "Processed IMG447 for Train set\n",
      "IMG219_1 True\n",
      "Processed IMG219 for Train set\n",
      "IMG046_1 True\n",
      "Processed IMG046 for Train set\n",
      "IMG419_1 True\n",
      "Processed IMG419 for Train set\n",
      "IMG278_3 True\n",
      "Processed IMG278 for Train set\n",
      "IMG355_3 True\n",
      "Processed IMG355 for Train set\n",
      "IMG311 jump\n",
      "IMG011_2 True\n",
      "Processed IMG011 for Train set\n",
      "IMG315_1 True\n",
      "Processed IMG315 for Train set\n",
      "IMG466_1 True\n",
      "Processed IMG466 for Train set\n",
      "IMG108_1 True\n",
      "Processed IMG108 for Train set\n",
      "IMG288_4 True\n",
      "Processed IMG288 for Train set\n",
      "IMG445_2 True\n",
      "Processed IMG445 for Train set\n",
      "IMG283_1 True\n",
      "Processed IMG283 for Train set\n",
      "IMG202_1 True\n",
      "Processed IMG202 for Train set\n",
      "IMG105_1 True\n",
      "Processed IMG105 for Train set\n",
      "IMG357_3 True\n",
      "Processed IMG357 for Train set\n",
      "IMG284_1 True\n",
      "Processed IMG284 for Train set\n",
      "IMG064_1 True\n",
      "Processed IMG064 for Train set\n",
      "IMG034 jump\n",
      "IMG324 jump\n",
      "IMG410_2 True\n",
      "Processed IMG410 for Train set\n",
      "IMG276 jump\n",
      "IMG460 jump\n",
      "IMG030_2 True\n",
      "Processed IMG030 for Train set\n",
      "IMG419_2 True\n",
      "Processed IMG419 for Train set\n",
      "IMG288_5 True\n",
      "Processed IMG288 for Train set\n",
      "IMG319_1 True\n",
      "Processed IMG319 for Train set\n",
      "IMG357_4 True\n",
      "Processed IMG357 for Train set\n",
      "IMG186_2 True\n",
      "Processed IMG186 for Train set\n",
      "IMG443 jump\n",
      "IMG144_1 True\n",
      "Processed IMG144 for Train set\n",
      "IMG065 jump\n",
      "IMG143_2 True\n",
      "Processed IMG143 for Train set\n",
      "IMG139_2 True\n",
      "Processed IMG139 for Train set\n",
      "IMG014_1 True\n",
      "Processed IMG014 for Train set\n",
      "IMG409_4 True\n",
      "Processed IMG409 for Train set\n",
      "IMG474_1 True\n",
      "Processed IMG474 for Train set\n",
      "IMG065_1 True\n",
      "Processed IMG065 for Train set\n",
      "IMG367_4 True\n",
      "Processed IMG367 for Train set\n",
      "IMG022_1 True\n",
      "Processed IMG022 for Train set\n",
      "IMG184_4 True\n",
      "Processed IMG184 for Train set\n",
      "IMG045_1 True\n",
      "Processed IMG045 for Train set\n",
      "IMG470_1 True\n",
      "Processed IMG470 for Train set\n",
      "IMG429_2 True\n",
      "Processed IMG429 for Train set\n",
      "IMG284_2 True\n",
      "Processed IMG284 for Train set\n",
      "IMG339_1 True\n",
      "Processed IMG339 for Train set\n",
      "IMG455_1 True\n",
      "Processed IMG455 for Train set\n",
      "IMG413_1 True\n",
      "Processed IMG413 for Train set\n",
      "IMG296_1 True\n",
      "Processed IMG296 for Train set\n",
      "IMG279_3 True\n",
      "Processed IMG279 for Train set\n",
      "IMG282_1 True\n",
      "Processed IMG282 for Train set\n",
      "IMG358_2 True\n",
      "Processed IMG358 for Train set\n",
      "IMG470_2 True\n",
      "Processed IMG470 for Train set\n",
      "IMG309_1 True\n",
      "Processed IMG309 for Train set\n",
      "IMG494 jump\n",
      "IMG470_3 True\n",
      "Processed IMG470 for Train set\n",
      "IMG369_3 True\n",
      "Processed IMG369 for Train set\n",
      "IMG420_1 True\n",
      "Processed IMG420 for Train set\n",
      "IMG325_1 True\n",
      "Processed IMG325 for Train set\n",
      "IMG277_2 True\n",
      "Processed IMG277 for Train set\n",
      "IMG186_3 True\n",
      "Processed IMG186 for Train set\n",
      "IMG048_2 True\n",
      "Processed IMG048 for Train set\n",
      "IMG285 jump\n",
      "IMG254_1 True\n",
      "Processed IMG254 for Train set\n",
      "IMG385_1 True\n",
      "Processed IMG385 for Train set\n",
      "IMG318_1 True\n",
      "Processed IMG318 for Train set\n",
      "IMG114 jump\n",
      "IMG059_2 True\n",
      "Processed IMG059 for Train set\n",
      "IMG001_1 True\n",
      "Processed IMG001 for Train set\n",
      "IMG489_1 True\n",
      "Processed IMG489 for Train set\n",
      "IMG057_1 True\n",
      "Processed IMG057 for Train set\n",
      "IMG081_1 True\n",
      "Processed IMG081 for Train set\n",
      "IMG278_4 True\n",
      "Processed IMG278 for Train set\n",
      "IMG038_1 True\n",
      "Processed IMG038 for Train set\n",
      "IMG322 jump\n",
      "IMG433_1 True\n",
      "Processed IMG433 for Train set\n",
      "IMG094_1 True\n",
      "Processed IMG094 for Train set\n",
      "IMG414_2 True\n",
      "Processed IMG414 for Train set\n",
      "IMG480_1 True\n",
      "Processed IMG480 for Train set\n",
      "IMG059_3 True\n",
      "Processed IMG059 for Train set\n",
      "IMG417_1 True\n",
      "Processed IMG417 for Train set\n",
      "IMG322 jump\n",
      "IMG298_1 True\n",
      "Processed IMG298 for Train set\n",
      "IMG021_1 True\n",
      "Processed IMG021 for Train set\n",
      "IMG405_1 True\n",
      "Processed IMG405 for Train set\n",
      "IMG089_1 True\n",
      "Processed IMG089 for Train set\n",
      "IMG448 jump\n",
      "IMG328 jump\n",
      "IMG199_2 True\n",
      "Processed IMG199 for Train set\n",
      "IMG410_3 True\n",
      "Processed IMG410 for Train set\n",
      "IMG497_1 True\n",
      "Processed IMG497 for Train set\n",
      "IMG142_2 True\n",
      "Processed IMG142 for Train set\n",
      "IMG370 jump\n",
      "IMG487_1 True\n",
      "Processed IMG487 for Train set\n",
      "IMG407_3 True\n",
      "Processed IMG407 for Train set\n",
      "IMG300_1 True\n",
      "Processed IMG300 for Train set\n",
      "IMG060_1 True\n",
      "Processed IMG060 for Train set\n",
      "IMG431_1 True\n",
      "Processed IMG431 for Train set\n",
      "IMG058_1 True\n",
      "Processed IMG058 for Train set\n",
      "IMG204_1 True\n",
      "Processed IMG204 for Train set\n",
      "IMG253_1 True\n",
      "Processed IMG253 for Train set\n",
      "IMG499_1 True\n",
      "Processed IMG499 for Train set\n",
      "IMG252_1 True\n",
      "Processed IMG252 for Train set\n",
      "IMG201_2 True\n",
      "Processed IMG201 for Train set\n",
      "IMG061_1 True\n",
      "Processed IMG061 for Train set\n",
      "IMG056_1 True\n",
      "Processed IMG056 for Train set\n",
      "IMG417_2 True\n",
      "Processed IMG417 for Train set\n",
      "IMG295_1 True\n",
      "Processed IMG295 for Train set\n",
      "IMG310_1 True\n",
      "Processed IMG310 for Train set\n",
      "IMG027_1 True\n",
      "Processed IMG027 for Train set\n",
      "IMG403_1 True\n",
      "Processed IMG403 for Train set\n",
      "IMG186_4 True\n",
      "Processed IMG186 for Train set\n",
      "IMG331_1 True\n",
      "Processed IMG331 for Train set\n",
      "IMG254_2 True\n",
      "Processed IMG254 for Train set\n",
      "IMG446_2 True\n",
      "Processed IMG446 for Train set\n",
      "IMG358_3 True\n",
      "Processed IMG358 for Train set\n",
      "IMG473_1 True\n",
      "Processed IMG473 for Train set\n",
      "IMG416 jump\n",
      "IMG316_1 True\n",
      "Processed IMG316 for Train set\n",
      "IMG383_2 True\n",
      "Processed IMG383 for Train set\n",
      "IMG159 jump\n",
      "IMG140_2 True\n",
      "Processed IMG140 for Train set\n",
      "IMG161_1 True\n",
      "Processed IMG161 for Train set\n",
      "IMG428_1 True\n",
      "Processed IMG428 for Train set\n",
      "IMG106_1 True\n",
      "Processed IMG106 for Train set\n",
      "IMG438_1 True\n",
      "Processed IMG438 for Train set\n",
      "IMG088_1 True\n",
      "Processed IMG088 for Train set\n",
      "IMG410_4 True\n",
      "Processed IMG410 for Train set\n",
      "IMG283_2 True\n",
      "Processed IMG283 for Train set\n",
      "IMG133_1 True\n",
      "Processed IMG133 for Train set\n",
      "IMG502 jump\n",
      "IMG026_1 True\n",
      "Processed IMG026 for Train set\n",
      "IMG252_2 True\n",
      "Processed IMG252 for Train set\n",
      "IMG114 jump\n",
      "IMG326_2 True\n",
      "Processed IMG326 for Train set\n",
      "IMG419_3 True\n",
      "Processed IMG419 for Train set\n",
      "IMG493_1 True\n",
      "Processed IMG493 for Train set\n",
      "IMG111 jump\n",
      "IMG355_1 True\n",
      "Processed IMG355 for Test set\n",
      "IMG442_1 True\n",
      "Processed IMG442 for Test set\n",
      "IMG127_1 True\n",
      "Processed IMG127 for Test set\n",
      "IMG449 jump\n",
      "IMG069_1 True\n",
      "Processed IMG069 for Test set\n",
      "IMG032_1 True\n",
      "Processed IMG032 for Test set\n",
      "IMG255_1 True\n",
      "Processed IMG255 for Test set\n",
      "IMG080_1 True\n",
      "Processed IMG080 for Test set\n",
      "IMG430_1 True\n",
      "Processed IMG430 for Test set\n",
      "IMG413_1 True\n",
      "Processed IMG413 for Test set\n",
      "IMG060_1 True\n",
      "Processed IMG060 for Test set\n",
      "IMG159_1 True\n",
      "Processed IMG159 for Test set\n",
      "IMG401_1 True\n",
      "Processed IMG401 for Test set\n",
      "IMG469_1 True\n",
      "Processed IMG469 for Test set\n",
      "IMG074_1 True\n",
      "Processed IMG074 for Test set\n",
      "IMG303_1 True\n",
      "Processed IMG303 for Test set\n",
      "IMG432_1 True\n",
      "Processed IMG432 for Test set\n",
      "IMG078_1 True\n",
      "Processed IMG078 for Test set\n",
      "IMG195 jump\n",
      "IMG015_1 True\n",
      "Processed IMG015 for Test set\n",
      "IMG092_1 True\n",
      "Processed IMG092 for Test set\n",
      "IMG099_1 True\n",
      "Processed IMG099 for Test set\n",
      "IMG126_1 True\n",
      "Processed IMG126 for Test set\n",
      "IMG360_1 True\n",
      "Processed IMG360 for Test set\n",
      "IMG071_1 True\n",
      "Processed IMG071 for Test set\n",
      "IMG083 jump\n",
      "IMG281_1 True\n",
      "Processed IMG281 for Test set\n",
      "IMG044_1 True\n",
      "Processed IMG044 for Test set\n",
      "IMG184_1 True\n",
      "Processed IMG184 for Test set\n",
      "IMG495 jump\n",
      "IMG072_1 True\n",
      "Processed IMG072 for Test set\n",
      "IMG411_1 True\n",
      "Processed IMG411 for Test set\n",
      "IMG144_1 True\n",
      "Processed IMG144 for Test set\n",
      "IMG477_1 True\n",
      "Processed IMG477 for Test set\n",
      "IMG472_1 True\n",
      "Processed IMG472 for Test set\n",
      "IMG076_1 True\n",
      "Processed IMG076 for Test set\n",
      "IMG440_1 True\n",
      "Processed IMG440 for Test set\n",
      "IMG296 jump\n",
      "IMG296_1 True\n",
      "Processed IMG296 for Test set\n",
      "IMG498_1 True\n",
      "Processed IMG498 for Test set\n",
      "IMG492_1 True\n",
      "Processed IMG492 for Test set\n",
      "IMG288_1 True\n",
      "Processed IMG288 for Test set\n",
      "IMG469_2 True\n",
      "Processed IMG469 for Test set\n",
      "IMG110_1 True\n",
      "Processed IMG110 for Test set\n",
      "IMG497_1 True\n",
      "Processed IMG497 for Test set\n",
      "IMG079_1 True\n",
      "Processed IMG079 for Test set\n",
      "IMG037_1 True\n",
      "Processed IMG037 for Test set\n",
      "IMG139_1 True\n",
      "Processed IMG139 for Test set\n",
      "IMG485 jump\n",
      "IMG333_1 True\n",
      "Processed IMG333 for Test set\n",
      "IMG412_1 True\n",
      "Processed IMG412 for Test set\n",
      "IMG019_1 True\n",
      "Processed IMG019 for Test set\n",
      "IMG452_1 True\n",
      "Processed IMG452 for Test set\n",
      "IMG023_1 True\n",
      "Processed IMG023 for Test set\n",
      "IMG357_1 True\n",
      "Processed IMG357 for Test set\n",
      "IMG141_1 True\n",
      "Processed IMG141 for Test set\n",
      "IMG001 jump\n",
      "IMG025_1 True\n",
      "Processed IMG025 for Test set\n",
      "IMG356_1 True\n",
      "Processed IMG356 for Test set\n",
      "IMG358_1 True\n",
      "Processed IMG358 for Test set\n",
      "IMG060_2 True\n",
      "Processed IMG060 for Test set\n",
      "IMG237_1 True\n",
      "Processed IMG237 for Test set\n",
      "IMG490 jump\n",
      "IMG481_1 True\n",
      "Processed IMG481 for Test set\n",
      "IMG290_1 True\n",
      "Processed IMG290 for Test set\n",
      "IMG333_2 True\n",
      "Processed IMG333 for Test set\n",
      "IMG442_2 True\n",
      "Processed IMG442 for Test set\n",
      "IMG029_1 True\n",
      "Processed IMG029 for Test set\n",
      "IMG433_1 True\n",
      "Processed IMG433 for Test set\n",
      "IMG273_1 True\n",
      "Processed IMG273 for Test set\n",
      "IMG331_1 True\n",
      "Processed IMG331 for Test set\n",
      "IMG046_1 True\n",
      "Processed IMG046 for Test set\n",
      "IMG204 jump\n",
      "IMG470_1 True\n",
      "Processed IMG470 for Test set\n",
      "IMG286_1 True\n",
      "Processed IMG286 for Test set\n",
      "IMG320_1 True\n",
      "Processed IMG320 for Test set\n",
      "IMG356_2 True\n",
      "Processed IMG356 for Test set\n",
      "IMG356_3 True\n",
      "Processed IMG356 for Test set\n",
      "IMG028_1 True\n",
      "Processed IMG028 for Test set\n",
      "IMG054_1 True\n",
      "Processed IMG054 for Test set\n",
      "IMG484_1 True\n",
      "Processed IMG484 for Test set\n",
      "IMG498_2 True\n",
      "Processed IMG498 for Test set\n",
      "IMG496_1 True\n",
      "Processed IMG496 for Test set\n",
      "IMG446_1 True\n",
      "Processed IMG446 for Test set\n",
      "IMG061 jump\n",
      "IMG486_1 True\n",
      "Processed IMG486 for Test set\n",
      "IMG029_2 True\n",
      "Processed IMG029 for Test set\n"
     ]
    }
   ],
   "source": [
    "import os\n",
    "import numpy as np\n",
    "import pandas as pd\n",
    "import pydicom as pdcm\n",
    "import cv2\n",
    "from sklearn.model_selection import train_test_split\n",
    "\n",
    "def crop_and_save(img, x, y, radius, output_path, file_id):\n",
    "    flag = True\n",
    "    try:\n",
    "        x = int(x)\n",
    "        y = int(y)\n",
    "        radius = int(radius)\n",
    "        x1 = max(x - radius, 0)\n",
    "        y1 = max(y - radius, 0)\n",
    "        x2 = min(x + radius, img.shape[1])\n",
    "        y2 = min(y + radius, img.shape[0])\n",
    "\n",
    "        # 裁剪图像\n",
    "        cropped_img = img[y1:y2, x1:x2]\n",
    "        cropped_img = cv2.normalize(cropped_img, None, 0, 255, cv2.NORM_MINMAX).astype(np.uint8)\n",
    "        if not os.path.exists('/'.join(output_path.split('/')[:-1])):\n",
    "            os.makedirs('/'.join(output_path.split('/')[:-1]))\n",
    "        \n",
    "        cv2.imwrite(output_path, cropped_img)\n",
    "    except:\n",
    "        flag = False\n",
    "    return flag\n",
    "\n",
    "# 读取XLSX文件\n",
    "xlsx_path = '/Volumes/图图/DMID-kaggle/archive/Metadata.xlsx'\n",
    "df = pd.read_excel(xlsx_path)\n",
    "df = df[df['abnormality'].replace(' ', '') != 'NORM']\n",
    "# 排序并按8:2比例分成训练集和测试集\n",
    "df_sorted = df.sort_values(by='ID')\n",
    "train_df, test_df = train_test_split(df_sorted, test_size=0.2, random_state=42)\n",
    "\n",
    "# 定义输入和输出路径\n",
    "DCM_PATH = \"/Volumes/图图/DMID-kaggle/archive/DICOM Images/DICOM Images\"\n",
    "OUTPUT_BASE_PATH = \"/Volumes/图图/DMID-kaggle/archive/cropped-classification-abnormality\"\n",
    "\n",
    "def process_and_save(df, set_type):\n",
    "    id_counter = {}\n",
    "    for index, row in df.iterrows():\n",
    "        # pathology = str(row['pathology']).replace(' ', '')\n",
    "        abnormality = str(row['abnormality']).replace(' ', '')\n",
    "\n",
    "        # 跳过 pathology 为 'N' 的行\n",
    "        # if pathology == 'N':\n",
    "        #     continue\n",
    "\n",
    "        # 跳过 abnormality 中包含加号 '+' 的行\n",
    "        \n",
    "\n",
    "        file_id = row['ID'].strip()\n",
    "        x = row['x']\n",
    "        y = row['y']\n",
    "        radius = row['radius']\n",
    "        meta_data = {\n",
    "            'abnormality': abnormality\n",
    "        }\n",
    "        \n",
    "        if '+' in abnormality:\n",
    "            print(file_id, 'jump')\n",
    "            continue\n",
    "        \n",
    "        if file_id != 'IMG125' and file_id != 'IMG068' and file_id != 'IMG156' and file_id != 'IMG436' and file_id != 'IMG055' and file_id != 'IMG070' and file_id != 'IMG435' and file_id != 'IMG454':\n",
    "            dcm_file = os.path.join(DCM_PATH, f\"{file_id}.dcm\")\n",
    "            if os.path.exists(dcm_file):\n",
    "                dcm = pdcm.dcmread(dcm_file)\n",
    "                img = dcm.pixel_array\n",
    "                if len(img.shape) == 3 and img.shape[2] == 3:\n",
    "                    img = cv2.cvtColor(img, cv2.COLOR_BGR2GRAY)\n",
    "                \n",
    "                # 更新ID计数器\n",
    "                if file_id in id_counter:\n",
    "                    id_counter[file_id] += 1\n",
    "                else:\n",
    "                    id_counter[file_id] = 1\n",
    "                file_id_with_suffix = f\"{file_id}_{id_counter[file_id]}\"\n",
    "\n",
    "                # 创建输出目录\n",
    "                output_dir = os.path.join(OUTPUT_BASE_PATH, set_type, file_id_with_suffix)\n",
    "                \n",
    "                # 裁剪并保存预处理后的图像为JPG文件\n",
    "                jpg_path = os.path.join(output_dir, 'img.jpg')\n",
    "                \n",
    "                flag = crop_and_save(img, x, y, radius, jpg_path, file_id)\n",
    "                print(file_id_with_suffix, flag)\n",
    "                # 保存元数据为NPY文件\n",
    "                if flag:\n",
    "                    npy_path = os.path.join(output_dir, 'info_dict.npy')\n",
    "                    np.save(npy_path, meta_data)\n",
    "\n",
    "                    print(f\"Processed {file_id} for {set_type} set\")\n",
    "            else:\n",
    "                print(f\"DICOM file for {file_id} not found.\")\n",
    "\n",
    "# 处理并保存训练集和测试集\n",
    "process_and_save(train_df, 'Train')\n",
    "process_and_save(test_df, 'Test')\n"
   ]
  },
  {
   "cell_type": "markdown",
   "metadata": {},
   "source": [
    "detection"
   ]
  },
  {
   "cell_type": "code",
   "execution_count": 3,
   "metadata": {},
   "outputs": [
    {
     "name": "stderr",
     "output_type": "stream",
     "text": [
      "647it [08:35,  1.25it/s]\n"
     ]
    },
    {
     "name": "stdout",
     "output_type": "stream",
     "text": [
      "Saved IMG001 data to /Volumes/图图/DMID-kaggle/archive/DMID/Train/IMG001\n",
      "Saved IMG008 data to /Volumes/图图/DMID-kaggle/archive/DMID/Train/IMG008\n",
      "Saved IMG010 data to /Volumes/图图/DMID-kaggle/archive/DMID/Train/IMG010\n",
      "Saved IMG011 data to /Volumes/图图/DMID-kaggle/archive/DMID/Train/IMG011\n",
      "Saved IMG012 data to /Volumes/图图/DMID-kaggle/archive/DMID/Train/IMG012\n",
      "Saved IMG014 data to /Volumes/图图/DMID-kaggle/archive/DMID/Train/IMG014\n",
      "Saved IMG015 data to /Volumes/图图/DMID-kaggle/archive/DMID/Test/IMG015\n",
      "Saved IMG018 data to /Volumes/图图/DMID-kaggle/archive/DMID/Train/IMG018\n",
      "Saved IMG019 data to /Volumes/图图/DMID-kaggle/archive/DMID/Train/IMG019\n",
      "Saved IMG020 data to /Volumes/图图/DMID-kaggle/archive/DMID/Test/IMG020\n",
      "Saved IMG021 data to /Volumes/图图/DMID-kaggle/archive/DMID/Train/IMG021\n",
      "Saved IMG022 data to /Volumes/图图/DMID-kaggle/archive/DMID/Train/IMG022\n",
      "Saved IMG023 data to /Volumes/图图/DMID-kaggle/archive/DMID/Train/IMG023\n",
      "Saved IMG024 data to /Volumes/图图/DMID-kaggle/archive/DMID/Train/IMG024\n",
      "Saved IMG025 data to /Volumes/图图/DMID-kaggle/archive/DMID/Train/IMG025\n",
      "Saved IMG026 data to /Volumes/图图/DMID-kaggle/archive/DMID/Test/IMG026\n",
      "Saved IMG027 data to /Volumes/图图/DMID-kaggle/archive/DMID/Train/IMG027\n",
      "Saved IMG028 data to /Volumes/图图/DMID-kaggle/archive/DMID/Train/IMG028\n",
      "Saved IMG029 data to /Volumes/图图/DMID-kaggle/archive/DMID/Train/IMG029\n",
      "Saved IMG030 data to /Volumes/图图/DMID-kaggle/archive/DMID/Test/IMG030\n",
      "Saved IMG031 data to /Volumes/图图/DMID-kaggle/archive/DMID/Train/IMG031\n",
      "Saved IMG032 data to /Volumes/图图/DMID-kaggle/archive/DMID/Train/IMG032\n",
      "Saved IMG037 data to /Volumes/图图/DMID-kaggle/archive/DMID/Test/IMG037\n",
      "Saved IMG038 data to /Volumes/图图/DMID-kaggle/archive/DMID/Train/IMG038\n",
      "Saved IMG039 data to /Volumes/图图/DMID-kaggle/archive/DMID/Test/IMG039\n",
      "Saved IMG040 data to /Volumes/图图/DMID-kaggle/archive/DMID/Test/IMG040\n",
      "Saved IMG041 data to /Volumes/图图/DMID-kaggle/archive/DMID/Train/IMG041\n",
      "Saved IMG043 data to /Volumes/图图/DMID-kaggle/archive/DMID/Train/IMG043\n",
      "Saved IMG044 data to /Volumes/图图/DMID-kaggle/archive/DMID/Train/IMG044\n",
      "Saved IMG045 data to /Volumes/图图/DMID-kaggle/archive/DMID/Train/IMG045\n",
      "Saved IMG046 data to /Volumes/图图/DMID-kaggle/archive/DMID/Test/IMG046\n",
      "Saved IMG048 data to /Volumes/图图/DMID-kaggle/archive/DMID/Train/IMG048\n",
      "Saved IMG053 data to /Volumes/图图/DMID-kaggle/archive/DMID/Train/IMG053\n",
      "Saved IMG054 data to /Volumes/图图/DMID-kaggle/archive/DMID/Test/IMG054\n",
      "Saved IMG056 data to /Volumes/图图/DMID-kaggle/archive/DMID/Train/IMG056\n",
      "Saved IMG057 data to /Volumes/图图/DMID-kaggle/archive/DMID/Train/IMG057\n",
      "Saved IMG058 data to /Volumes/图图/DMID-kaggle/archive/DMID/Train/IMG058\n",
      "Saved IMG059 data to /Volumes/图图/DMID-kaggle/archive/DMID/Train/IMG059\n",
      "Saved IMG060 data to /Volumes/图图/DMID-kaggle/archive/DMID/Train/IMG060\n",
      "Saved IMG061 data to /Volumes/图图/DMID-kaggle/archive/DMID/Train/IMG061\n",
      "Saved IMG063 data to /Volumes/图图/DMID-kaggle/archive/DMID/Train/IMG063\n",
      "Saved IMG064 data to /Volumes/图图/DMID-kaggle/archive/DMID/Train/IMG064\n",
      "Saved IMG065 data to /Volumes/图图/DMID-kaggle/archive/DMID/Test/IMG065\n",
      "Saved IMG067 data to /Volumes/图图/DMID-kaggle/archive/DMID/Train/IMG067\n",
      "Saved IMG068 data to /Volumes/图图/DMID-kaggle/archive/DMID/Train/IMG068\n",
      "Saved IMG069 data to /Volumes/图图/DMID-kaggle/archive/DMID/Test/IMG069\n",
      "Saved IMG071 data to /Volumes/图图/DMID-kaggle/archive/DMID/Test/IMG071\n",
      "Saved IMG072 data to /Volumes/图图/DMID-kaggle/archive/DMID/Train/IMG072\n",
      "Saved IMG073 data to /Volumes/图图/DMID-kaggle/archive/DMID/Train/IMG073\n",
      "Saved IMG074 data to /Volumes/图图/DMID-kaggle/archive/DMID/Train/IMG074\n",
      "Saved IMG076 data to /Volumes/图图/DMID-kaggle/archive/DMID/Train/IMG076\n",
      "Saved IMG078 data to /Volumes/图图/DMID-kaggle/archive/DMID/Train/IMG078\n",
      "Saved IMG079 data to /Volumes/图图/DMID-kaggle/archive/DMID/Train/IMG079\n",
      "Saved IMG080 data to /Volumes/图图/DMID-kaggle/archive/DMID/Train/IMG080\n",
      "Saved IMG081 data to /Volumes/图图/DMID-kaggle/archive/DMID/Train/IMG081\n",
      "Saved IMG082 data to /Volumes/图图/DMID-kaggle/archive/DMID/Train/IMG082\n",
      "Saved IMG085 data to /Volumes/图图/DMID-kaggle/archive/DMID/Train/IMG085\n",
      "Saved IMG086 data to /Volumes/图图/DMID-kaggle/archive/DMID/Train/IMG086\n",
      "Saved IMG087 data to /Volumes/图图/DMID-kaggle/archive/DMID/Train/IMG087\n",
      "Saved IMG088 data to /Volumes/图图/DMID-kaggle/archive/DMID/Train/IMG088\n",
      "Saved IMG089 data to /Volumes/图图/DMID-kaggle/archive/DMID/Test/IMG089\n",
      "Saved IMG090 data to /Volumes/图图/DMID-kaggle/archive/DMID/Train/IMG090\n",
      "Saved IMG092 data to /Volumes/图图/DMID-kaggle/archive/DMID/Train/IMG092\n",
      "Saved IMG094 data to /Volumes/图图/DMID-kaggle/archive/DMID/Train/IMG094\n",
      "Saved IMG097 data to /Volumes/图图/DMID-kaggle/archive/DMID/Train/IMG097\n",
      "Saved IMG099 data to /Volumes/图图/DMID-kaggle/archive/DMID/Train/IMG099\n",
      "Saved IMG101 data to /Volumes/图图/DMID-kaggle/archive/DMID/Test/IMG101\n",
      "Saved IMG102 data to /Volumes/图图/DMID-kaggle/archive/DMID/Test/IMG102\n",
      "Saved IMG103 data to /Volumes/图图/DMID-kaggle/archive/DMID/Test/IMG103\n",
      "Saved IMG104 data to /Volumes/图图/DMID-kaggle/archive/DMID/Train/IMG104\n",
      "Saved IMG105 data to /Volumes/图图/DMID-kaggle/archive/DMID/Train/IMG105\n",
      "Saved IMG106 data to /Volumes/图图/DMID-kaggle/archive/DMID/Train/IMG106\n",
      "Saved IMG108 data to /Volumes/图图/DMID-kaggle/archive/DMID/Train/IMG108\n",
      "Saved IMG110 data to /Volumes/图图/DMID-kaggle/archive/DMID/Train/IMG110\n",
      "Saved IMG114 data to /Volumes/图图/DMID-kaggle/archive/DMID/Train/IMG114\n",
      "Saved IMG116 data to /Volumes/图图/DMID-kaggle/archive/DMID/Train/IMG116\n",
      "Saved IMG117 data to /Volumes/图图/DMID-kaggle/archive/DMID/Train/IMG117\n",
      "Saved IMG118 data to /Volumes/图图/DMID-kaggle/archive/DMID/Train/IMG118\n",
      "Saved IMG126 data to /Volumes/图图/DMID-kaggle/archive/DMID/Train/IMG126\n",
      "Saved IMG127 data to /Volumes/图图/DMID-kaggle/archive/DMID/Test/IMG127\n",
      "Saved IMG129 data to /Volumes/图图/DMID-kaggle/archive/DMID/Train/IMG129\n",
      "Saved IMG131 data to /Volumes/图图/DMID-kaggle/archive/DMID/Train/IMG131\n",
      "Saved IMG132 data to /Volumes/图图/DMID-kaggle/archive/DMID/Test/IMG132\n",
      "Saved IMG133 data to /Volumes/图图/DMID-kaggle/archive/DMID/Train/IMG133\n",
      "Saved IMG135 data to /Volumes/图图/DMID-kaggle/archive/DMID/Train/IMG135\n",
      "Saved IMG136 data to /Volumes/图图/DMID-kaggle/archive/DMID/Train/IMG136\n",
      "Saved IMG138 data to /Volumes/图图/DMID-kaggle/archive/DMID/Test/IMG138\n",
      "Saved IMG139 data to /Volumes/图图/DMID-kaggle/archive/DMID/Train/IMG139\n",
      "Saved IMG140 data to /Volumes/图图/DMID-kaggle/archive/DMID/Train/IMG140\n",
      "Saved IMG141 data to /Volumes/图图/DMID-kaggle/archive/DMID/Train/IMG141\n",
      "Saved IMG142 data to /Volumes/图图/DMID-kaggle/archive/DMID/Test/IMG142\n",
      "Saved IMG143 data to /Volumes/图图/DMID-kaggle/archive/DMID/Train/IMG143\n",
      "Saved IMG144 data to /Volumes/图图/DMID-kaggle/archive/DMID/Test/IMG144\n",
      "Saved IMG145 data to /Volumes/图图/DMID-kaggle/archive/DMID/Test/IMG145\n",
      "Saved IMG146 data to /Volumes/图图/DMID-kaggle/archive/DMID/Train/IMG146\n",
      "Saved IMG147 data to /Volumes/图图/DMID-kaggle/archive/DMID/Train/IMG147\n",
      "Saved IMG148 data to /Volumes/图图/DMID-kaggle/archive/DMID/Train/IMG148\n",
      "Saved IMG149 data to /Volumes/图图/DMID-kaggle/archive/DMID/Test/IMG149\n",
      "Saved IMG150 data to /Volumes/图图/DMID-kaggle/archive/DMID/Train/IMG150\n",
      "Saved IMG158 data to /Volumes/图图/DMID-kaggle/archive/DMID/Train/IMG158\n",
      "Saved IMG159 data to /Volumes/图图/DMID-kaggle/archive/DMID/Train/IMG159\n",
      "Saved IMG161 data to /Volumes/图图/DMID-kaggle/archive/DMID/Train/IMG161\n",
      "Saved IMG164 data to /Volumes/图图/DMID-kaggle/archive/DMID/Train/IMG164\n",
      "Saved IMG166 data to /Volumes/图图/DMID-kaggle/archive/DMID/Train/IMG166\n",
      "Saved IMG172 data to /Volumes/图图/DMID-kaggle/archive/DMID/Train/IMG172\n",
      "Saved IMG184 data to /Volumes/图图/DMID-kaggle/archive/DMID/Train/IMG184\n",
      "Saved IMG186 data to /Volumes/图图/DMID-kaggle/archive/DMID/Train/IMG186\n",
      "Saved IMG191 data to /Volumes/图图/DMID-kaggle/archive/DMID/Train/IMG191\n",
      "Saved IMG199 data to /Volumes/图图/DMID-kaggle/archive/DMID/Test/IMG199\n",
      "Saved IMG200 data to /Volumes/图图/DMID-kaggle/archive/DMID/Train/IMG200\n",
      "Saved IMG201 data to /Volumes/图图/DMID-kaggle/archive/DMID/Train/IMG201\n",
      "Saved IMG202 data to /Volumes/图图/DMID-kaggle/archive/DMID/Train/IMG202\n",
      "Saved IMG203 data to /Volumes/图图/DMID-kaggle/archive/DMID/Test/IMG203\n",
      "Saved IMG204 data to /Volumes/图图/DMID-kaggle/archive/DMID/Train/IMG204\n",
      "Saved IMG205 data to /Volumes/图图/DMID-kaggle/archive/DMID/Train/IMG205\n",
      "Saved IMG206 data to /Volumes/图图/DMID-kaggle/archive/DMID/Test/IMG206\n",
      "Saved IMG219 data to /Volumes/图图/DMID-kaggle/archive/DMID/Train/IMG219\n",
      "Saved IMG220 data to /Volumes/图图/DMID-kaggle/archive/DMID/Test/IMG220\n",
      "Saved IMG222 data to /Volumes/图图/DMID-kaggle/archive/DMID/Test/IMG222\n",
      "Saved IMG232 data to /Volumes/图图/DMID-kaggle/archive/DMID/Train/IMG232\n",
      "Saved IMG233 data to /Volumes/图图/DMID-kaggle/archive/DMID/Train/IMG233\n",
      "Saved IMG234 data to /Volumes/图图/DMID-kaggle/archive/DMID/Train/IMG234\n",
      "Saved IMG237 data to /Volumes/图图/DMID-kaggle/archive/DMID/Train/IMG237\n",
      "Saved IMG251 data to /Volumes/图图/DMID-kaggle/archive/DMID/Train/IMG251\n",
      "Saved IMG252 data to /Volumes/图图/DMID-kaggle/archive/DMID/Test/IMG252\n",
      "Saved IMG253 data to /Volumes/图图/DMID-kaggle/archive/DMID/Train/IMG253\n",
      "Saved IMG254 data to /Volumes/图图/DMID-kaggle/archive/DMID/Test/IMG254\n",
      "Saved IMG255 data to /Volumes/图图/DMID-kaggle/archive/DMID/Test/IMG255\n",
      "Saved IMG257 data to /Volumes/图图/DMID-kaggle/archive/DMID/Train/IMG257\n",
      "Saved IMG262 data to /Volumes/图图/DMID-kaggle/archive/DMID/Train/IMG262\n",
      "Saved IMG272 data to /Volumes/图图/DMID-kaggle/archive/DMID/Train/IMG272\n",
      "Saved IMG273 data to /Volumes/图图/DMID-kaggle/archive/DMID/Train/IMG273\n",
      "Saved IMG274 data to /Volumes/图图/DMID-kaggle/archive/DMID/Test/IMG274\n",
      "Saved IMG277 data to /Volumes/图图/DMID-kaggle/archive/DMID/Train/IMG277\n",
      "Saved IMG278 data to /Volumes/图图/DMID-kaggle/archive/DMID/Train/IMG278\n",
      "Saved IMG279 data to /Volumes/图图/DMID-kaggle/archive/DMID/Train/IMG279\n",
      "Saved IMG281 data to /Volumes/图图/DMID-kaggle/archive/DMID/Train/IMG281\n",
      "Saved IMG282 data to /Volumes/图图/DMID-kaggle/archive/DMID/Test/IMG282\n",
      "Saved IMG283 data to /Volumes/图图/DMID-kaggle/archive/DMID/Train/IMG283\n",
      "Saved IMG284 data to /Volumes/图图/DMID-kaggle/archive/DMID/Train/IMG284\n",
      "Saved IMG286 data to /Volumes/图图/DMID-kaggle/archive/DMID/Train/IMG286\n",
      "Saved IMG288 data to /Volumes/图图/DMID-kaggle/archive/DMID/Train/IMG288\n",
      "Saved IMG290 data to /Volumes/图图/DMID-kaggle/archive/DMID/Train/IMG290\n",
      "Saved IMG291 data to /Volumes/图图/DMID-kaggle/archive/DMID/Train/IMG291\n",
      "Saved IMG292 data to /Volumes/图图/DMID-kaggle/archive/DMID/Test/IMG292\n",
      "Saved IMG294 data to /Volumes/图图/DMID-kaggle/archive/DMID/Train/IMG294\n",
      "Saved IMG295 data to /Volumes/图图/DMID-kaggle/archive/DMID/Train/IMG295\n",
      "Saved IMG296 data to /Volumes/图图/DMID-kaggle/archive/DMID/Train/IMG296\n",
      "Saved IMG297 data to /Volumes/图图/DMID-kaggle/archive/DMID/Train/IMG297\n",
      "Saved IMG298 data to /Volumes/图图/DMID-kaggle/archive/DMID/Train/IMG298\n",
      "Saved IMG299 data to /Volumes/图图/DMID-kaggle/archive/DMID/Test/IMG299\n",
      "Saved IMG300 data to /Volumes/图图/DMID-kaggle/archive/DMID/Train/IMG300\n",
      "Saved IMG301 data to /Volumes/图图/DMID-kaggle/archive/DMID/Train/IMG301\n",
      "Saved IMG303 data to /Volumes/图图/DMID-kaggle/archive/DMID/Train/IMG303\n",
      "Saved IMG306 data to /Volumes/图图/DMID-kaggle/archive/DMID/Train/IMG306\n",
      "Saved IMG307 data to /Volumes/图图/DMID-kaggle/archive/DMID/Test/IMG307\n",
      "Saved IMG308 data to /Volumes/图图/DMID-kaggle/archive/DMID/Train/IMG308\n",
      "Saved IMG309 data to /Volumes/图图/DMID-kaggle/archive/DMID/Train/IMG309\n",
      "Saved IMG310 data to /Volumes/图图/DMID-kaggle/archive/DMID/Train/IMG310\n",
      "Saved IMG311 data to /Volumes/图图/DMID-kaggle/archive/DMID/Test/IMG311\n",
      "Saved IMG312 data to /Volumes/图图/DMID-kaggle/archive/DMID/Train/IMG312\n",
      "Saved IMG315 data to /Volumes/图图/DMID-kaggle/archive/DMID/Train/IMG315\n",
      "Saved IMG316 data to /Volumes/图图/DMID-kaggle/archive/DMID/Train/IMG316\n",
      "Saved IMG317 data to /Volumes/图图/DMID-kaggle/archive/DMID/Train/IMG317\n",
      "Saved IMG318 data to /Volumes/图图/DMID-kaggle/archive/DMID/Test/IMG318\n",
      "Saved IMG319 data to /Volumes/图图/DMID-kaggle/archive/DMID/Train/IMG319\n",
      "Saved IMG320 data to /Volumes/图图/DMID-kaggle/archive/DMID/Train/IMG320\n",
      "Saved IMG325 data to /Volumes/图图/DMID-kaggle/archive/DMID/Train/IMG325\n",
      "Saved IMG326 data to /Volumes/图图/DMID-kaggle/archive/DMID/Train/IMG326\n",
      "Saved IMG327 data to /Volumes/图图/DMID-kaggle/archive/DMID/Train/IMG327\n",
      "Saved IMG331 data to /Volumes/图图/DMID-kaggle/archive/DMID/Train/IMG331\n",
      "Saved IMG333 data to /Volumes/图图/DMID-kaggle/archive/DMID/Train/IMG333\n",
      "Saved IMG339 data to /Volumes/图图/DMID-kaggle/archive/DMID/Train/IMG339\n",
      "Saved IMG342 data to /Volumes/图图/DMID-kaggle/archive/DMID/Train/IMG342\n",
      "Saved IMG355 data to /Volumes/图图/DMID-kaggle/archive/DMID/Train/IMG355\n",
      "Saved IMG356 data to /Volumes/图图/DMID-kaggle/archive/DMID/Train/IMG356\n",
      "Saved IMG357 data to /Volumes/图图/DMID-kaggle/archive/DMID/Train/IMG357\n",
      "Saved IMG358 data to /Volumes/图图/DMID-kaggle/archive/DMID/Train/IMG358\n",
      "Saved IMG360 data to /Volumes/图图/DMID-kaggle/archive/DMID/Train/IMG360\n",
      "Saved IMG362 data to /Volumes/图图/DMID-kaggle/archive/DMID/Test/IMG362\n",
      "Saved IMG367 data to /Volumes/图图/DMID-kaggle/archive/DMID/Test/IMG367\n",
      "Saved IMG369 data to /Volumes/图图/DMID-kaggle/archive/DMID/Train/IMG369\n",
      "Saved IMG383 data to /Volumes/图图/DMID-kaggle/archive/DMID/Train/IMG383\n",
      "Saved IMG385 data to /Volumes/图图/DMID-kaggle/archive/DMID/Test/IMG385\n",
      "Saved IMG394 data to /Volumes/图图/DMID-kaggle/archive/DMID/Test/IMG394\n",
      "Saved IMG401 data to /Volumes/图图/DMID-kaggle/archive/DMID/Train/IMG401\n",
      "Saved IMG402 data to /Volumes/图图/DMID-kaggle/archive/DMID/Train/IMG402\n",
      "Saved IMG403 data to /Volumes/图图/DMID-kaggle/archive/DMID/Train/IMG403\n",
      "Saved IMG404 data to /Volumes/图图/DMID-kaggle/archive/DMID/Train/IMG404\n",
      "Saved IMG405 data to /Volumes/图图/DMID-kaggle/archive/DMID/Train/IMG405\n",
      "Saved IMG406 data to /Volumes/图图/DMID-kaggle/archive/DMID/Train/IMG406\n",
      "Saved IMG407 data to /Volumes/图图/DMID-kaggle/archive/DMID/Train/IMG407\n",
      "Saved IMG408 data to /Volumes/图图/DMID-kaggle/archive/DMID/Train/IMG408\n",
      "Saved IMG409 data to /Volumes/图图/DMID-kaggle/archive/DMID/Train/IMG409\n",
      "Saved IMG410 data to /Volumes/图图/DMID-kaggle/archive/DMID/Train/IMG410\n",
      "Saved IMG411 data to /Volumes/图图/DMID-kaggle/archive/DMID/Train/IMG411\n",
      "Saved IMG412 data to /Volumes/图图/DMID-kaggle/archive/DMID/Test/IMG412\n",
      "Saved IMG413 data to /Volumes/图图/DMID-kaggle/archive/DMID/Train/IMG413\n",
      "Saved IMG414 data to /Volumes/图图/DMID-kaggle/archive/DMID/Train/IMG414\n",
      "Saved IMG415 data to /Volumes/图图/DMID-kaggle/archive/DMID/Train/IMG415\n",
      "Saved IMG416 data to /Volumes/图图/DMID-kaggle/archive/DMID/Train/IMG416\n",
      "Saved IMG417 data to /Volumes/图图/DMID-kaggle/archive/DMID/Test/IMG417\n",
      "Saved IMG418 data to /Volumes/图图/DMID-kaggle/archive/DMID/Train/IMG418\n",
      "Saved IMG419 data to /Volumes/图图/DMID-kaggle/archive/DMID/Train/IMG419\n",
      "Saved IMG420 data to /Volumes/图图/DMID-kaggle/archive/DMID/Train/IMG420\n",
      "Saved IMG421 data to /Volumes/图图/DMID-kaggle/archive/DMID/Train/IMG421\n",
      "Saved IMG422 data to /Volumes/图图/DMID-kaggle/archive/DMID/Train/IMG422\n",
      "Saved IMG423 data to /Volumes/图图/DMID-kaggle/archive/DMID/Train/IMG423\n",
      "Saved IMG424 data to /Volumes/图图/DMID-kaggle/archive/DMID/Test/IMG424\n",
      "Saved IMG425 data to /Volumes/图图/DMID-kaggle/archive/DMID/Train/IMG425\n",
      "Saved IMG426 data to /Volumes/图图/DMID-kaggle/archive/DMID/Train/IMG426\n",
      "Saved IMG427 data to /Volumes/图图/DMID-kaggle/archive/DMID/Train/IMG427\n",
      "Saved IMG428 data to /Volumes/图图/DMID-kaggle/archive/DMID/Train/IMG428\n",
      "Saved IMG429 data to /Volumes/图图/DMID-kaggle/archive/DMID/Test/IMG429\n",
      "Saved IMG430 data to /Volumes/图图/DMID-kaggle/archive/DMID/Train/IMG430\n",
      "Saved IMG431 data to /Volumes/图图/DMID-kaggle/archive/DMID/Train/IMG431\n",
      "Saved IMG432 data to /Volumes/图图/DMID-kaggle/archive/DMID/Test/IMG432\n",
      "Saved IMG433 data to /Volumes/图图/DMID-kaggle/archive/DMID/Train/IMG433\n",
      "Saved IMG434 data to /Volumes/图图/DMID-kaggle/archive/DMID/Train/IMG434\n",
      "Saved IMG436 data to /Volumes/图图/DMID-kaggle/archive/DMID/Train/IMG436\n",
      "Saved IMG437 data to /Volumes/图图/DMID-kaggle/archive/DMID/Train/IMG437\n",
      "Saved IMG438 data to /Volumes/图图/DMID-kaggle/archive/DMID/Train/IMG438\n",
      "Saved IMG439 data to /Volumes/图图/DMID-kaggle/archive/DMID/Train/IMG439\n",
      "Saved IMG440 data to /Volumes/图图/DMID-kaggle/archive/DMID/Train/IMG440\n",
      "Saved IMG441 data to /Volumes/图图/DMID-kaggle/archive/DMID/Train/IMG441\n",
      "Saved IMG442 data to /Volumes/图图/DMID-kaggle/archive/DMID/Train/IMG442\n",
      "Saved IMG445 data to /Volumes/图图/DMID-kaggle/archive/DMID/Train/IMG445\n",
      "Saved IMG446 data to /Volumes/图图/DMID-kaggle/archive/DMID/Train/IMG446\n",
      "Saved IMG447 data to /Volumes/图图/DMID-kaggle/archive/DMID/Train/IMG447\n",
      "Saved IMG450 data to /Volumes/图图/DMID-kaggle/archive/DMID/Train/IMG450\n",
      "Saved IMG451 data to /Volumes/图图/DMID-kaggle/archive/DMID/Train/IMG451\n",
      "Saved IMG452 data to /Volumes/图图/DMID-kaggle/archive/DMID/Train/IMG452\n",
      "Saved IMG453 data to /Volumes/图图/DMID-kaggle/archive/DMID/Train/IMG453\n",
      "Saved IMG455 data to /Volumes/图图/DMID-kaggle/archive/DMID/Train/IMG455\n",
      "Saved IMG456 data to /Volumes/图图/DMID-kaggle/archive/DMID/Test/IMG456\n",
      "Saved IMG457 data to /Volumes/图图/DMID-kaggle/archive/DMID/Train/IMG457\n",
      "Saved IMG458 data to /Volumes/图图/DMID-kaggle/archive/DMID/Train/IMG458\n",
      "Saved IMG465 data to /Volumes/图图/DMID-kaggle/archive/DMID/Train/IMG465\n",
      "Saved IMG466 data to /Volumes/图图/DMID-kaggle/archive/DMID/Test/IMG466\n",
      "Saved IMG467 data to /Volumes/图图/DMID-kaggle/archive/DMID/Train/IMG467\n",
      "Saved IMG468 data to /Volumes/图图/DMID-kaggle/archive/DMID/Test/IMG468\n",
      "Saved IMG469 data to /Volumes/图图/DMID-kaggle/archive/DMID/Test/IMG469\n",
      "Saved IMG470 data to /Volumes/图图/DMID-kaggle/archive/DMID/Train/IMG470\n",
      "Saved IMG471 data to /Volumes/图图/DMID-kaggle/archive/DMID/Train/IMG471\n",
      "Saved IMG472 data to /Volumes/图图/DMID-kaggle/archive/DMID/Test/IMG472\n",
      "Saved IMG473 data to /Volumes/图图/DMID-kaggle/archive/DMID/Train/IMG473\n",
      "Saved IMG474 data to /Volumes/图图/DMID-kaggle/archive/DMID/Train/IMG474\n",
      "Saved IMG475 data to /Volumes/图图/DMID-kaggle/archive/DMID/Train/IMG475\n",
      "Saved IMG476 data to /Volumes/图图/DMID-kaggle/archive/DMID/Train/IMG476\n",
      "Saved IMG477 data to /Volumes/图图/DMID-kaggle/archive/DMID/Train/IMG477\n",
      "Saved IMG478 data to /Volumes/图图/DMID-kaggle/archive/DMID/Test/IMG478\n",
      "Saved IMG479 data to /Volumes/图图/DMID-kaggle/archive/DMID/Train/IMG479\n",
      "Saved IMG480 data to /Volumes/图图/DMID-kaggle/archive/DMID/Train/IMG480\n",
      "Saved IMG481 data to /Volumes/图图/DMID-kaggle/archive/DMID/Train/IMG481\n",
      "Saved IMG482 data to /Volumes/图图/DMID-kaggle/archive/DMID/Train/IMG482\n",
      "Saved IMG483 data to /Volumes/图图/DMID-kaggle/archive/DMID/Test/IMG483\n",
      "Saved IMG484 data to /Volumes/图图/DMID-kaggle/archive/DMID/Train/IMG484\n",
      "Saved IMG486 data to /Volumes/图图/DMID-kaggle/archive/DMID/Train/IMG486\n",
      "Saved IMG487 data to /Volumes/图图/DMID-kaggle/archive/DMID/Train/IMG487\n",
      "Saved IMG488 data to /Volumes/图图/DMID-kaggle/archive/DMID/Train/IMG488\n",
      "Saved IMG489 data to /Volumes/图图/DMID-kaggle/archive/DMID/Train/IMG489\n",
      "Saved IMG492 data to /Volumes/图图/DMID-kaggle/archive/DMID/Train/IMG492\n",
      "Saved IMG493 data to /Volumes/图图/DMID-kaggle/archive/DMID/Train/IMG493\n",
      "Saved IMG496 data to /Volumes/图图/DMID-kaggle/archive/DMID/Train/IMG496\n",
      "Saved IMG497 data to /Volumes/图图/DMID-kaggle/archive/DMID/Train/IMG497\n",
      "Saved IMG498 data to /Volumes/图图/DMID-kaggle/archive/DMID/Train/IMG498\n",
      "Saved IMG499 data to /Volumes/图图/DMID-kaggle/archive/DMID/Train/IMG499\n",
      "Saved IMG500 data to /Volumes/图图/DMID-kaggle/archive/DMID/Train/IMG500\n"
     ]
    }
   ],
   "source": [
    "import os\n",
    "import pandas as pd\n",
    "import numpy as np\n",
    "import cv2\n",
    "import pydicom as pdcm\n",
    "from tqdm import tqdm\n",
    "from sklearn.model_selection import train_test_split\n",
    "\n",
    "def np_CountUpContinuingOnes(b_arr):\n",
    "    left = np.arange(len(b_arr))\n",
    "    left[b_arr > 0] = 0\n",
    "    left = np.maximum.accumulate(left)\n",
    "\n",
    "    rev_arr = b_arr[::-1]\n",
    "    right = np.arange(len(rev_arr))\n",
    "    right[rev_arr > 0] = 0\n",
    "    right = np.maximum.accumulate(right)\n",
    "    right = len(rev_arr) - 1 - right[::-1]\n",
    "\n",
    "    return right - left - 1\n",
    "\n",
    "def adjust_bounding_box(original_coords, left_crop, top_crop):\n",
    "    x1, y1, x2, y2 = original_coords\n",
    "\n",
    "    x1_new = x1 - left_crop\n",
    "    y1_new = y1 - top_crop\n",
    "    x2_new = x2 - left_crop\n",
    "    y2_new = y2 - top_crop\n",
    "\n",
    "    return x1_new, y1_new, x2_new, y2_new\n",
    "\n",
    "def ExtractBreast(img, true_bounding_box):\n",
    "    img_copy = img.copy()\n",
    "    img = np.where(img <= 40, 0, img)  # To detect backgrounds easily\n",
    "    height, _ = img.shape\n",
    "\n",
    "    y_a = height // 2 + int(height * 0.4)\n",
    "    y_b = height // 2 - int(height * 0.4)\n",
    "    b_arr = img[y_b:y_a].std(axis=0) != 0\n",
    "    continuing_ones = np_CountUpContinuingOnes(b_arr)\n",
    "    col_ind = np.where(continuing_ones == continuing_ones.max())[0]\n",
    "    img = img[:, col_ind]\n",
    "\n",
    "    _, width = img.shape\n",
    "    x_a = width // 2 + int(width * 0.4)\n",
    "    x_b = width // 2 - int(width * 0.4)\n",
    "    b_arr = img[:, x_b:x_a].std(axis=1) != 0\n",
    "    continuing_ones = np_CountUpContinuingOnes(b_arr)\n",
    "    row_ind = np.where(continuing_ones == continuing_ones.max())[0]\n",
    "    img = img[row_ind, :]\n",
    "\n",
    "    adjusted_bboxes = []\n",
    "    for bbox in true_bounding_box:\n",
    "        adjusted_coords = adjust_bounding_box(bbox, col_ind[0], row_ind[0])\n",
    "        adjusted_bboxes.append(adjusted_coords)\n",
    "\n",
    "    return img_copy[row_ind][:, col_ind], adjusted_bboxes\n",
    "\n",
    "# 加载xlsx文件\n",
    "xlsx_path = '/Volumes/图图/DMID-kaggle/archive/Metadata.xlsx'\n",
    "df = pd.read_excel(xlsx_path)\n",
    "\n",
    "# 初始化字典保存数据\n",
    "cropped = {}\n",
    "data_path = '/Volumes/图图/DMID-kaggle/archive/DICOM Images/DICOM Images'\n",
    "\n",
    "# 遍历DataFrame的每一行\n",
    "for index, row in tqdm(df.iterrows()):\n",
    "    img_id = row['ID'].strip()\n",
    "    x_value = row['x']\n",
    "    abnormality = row['abnormality'].strip()\n",
    "    \n",
    "    # 如果x不为空，且abnormality中不包含'+'\n",
    "    if pd.notna(x_value) and '+' not in abnormality:\n",
    "        dcm_path = os.path.join(data_path, f'{img_id}.dcm')\n",
    "        dcm = pdcm.dcmread(dcm_path)\n",
    "        img = dcm.pixel_array\n",
    "        if len(img.shape) == 3 and img.shape[2] == 3:\n",
    "            img = cv2.cvtColor(img, cv2.COLOR_RGB2GRAY)\n",
    "        \n",
    "        try:\n",
    "            x = int(row['x'])\n",
    "            y = int(row['y'])\n",
    "            radius = int(row['radius'])\n",
    "            x1 = max(x - radius, 0)\n",
    "            y1 = max(y - radius, 0)\n",
    "            x2 = min(x + radius, img.shape[1])\n",
    "            y2 = min(y + radius, img.shape[0])\n",
    "            cropped_image = img[y1:y2, x1:x2]\n",
    "            if cropped_image.shape[0] == 0 or cropped_image.shape[1] == 0:\n",
    "                continue\n",
    "            true_bounding_box = [(x1, y1, x2, y2)]\n",
    "        except:\n",
    "            continue\n",
    "        \n",
    "        preprocessed_img, adjusted_bboxes = ExtractBreast(img, true_bounding_box)\n",
    "        \n",
    "        if img_id not in cropped:\n",
    "            cropped[img_id] = []\n",
    "        \n",
    "        cropped[img_id].append((preprocessed_img, adjusted_bboxes, abnormality))\n",
    "                    \n",
    "# 分割训练集和测试集\n",
    "train_ids, test_ids = train_test_split(list(cropped.keys()), test_size=0.2, random_state=42)\n",
    "\n",
    "# 保存数据的函数\n",
    "def save_data(img_id, boxes, output_base_path):\n",
    "    folder_type = \"Train\" if img_id in train_ids else \"Test\"\n",
    "    output_dir = os.path.join(output_base_path, folder_type, img_id)\n",
    "    os.makedirs(output_dir, exist_ok=True)\n",
    "    \n",
    "    for preprocessed_img, adjusted_bboxes, abnormality in boxes:\n",
    "        jpg_path = os.path.join(output_dir, 'img.jpg')\n",
    "        cv2.imwrite(jpg_path, cv2.normalize(preprocessed_img, None, 0, 255, cv2.NORM_MINMAX).astype(np.uint8))\n",
    "        \n",
    "        bbox_list = {\n",
    "            \"boxes\": adjusted_bboxes,\n",
    "            \"labels\": [abnormality] * len(adjusted_bboxes)\n",
    "        }\n",
    "        \n",
    "        bbox_output_path = os.path.join(output_dir, 'bboxes.npy')\n",
    "        np.save(bbox_output_path, bbox_list)\n",
    "    \n",
    "    print(f'Saved {img_id} data to {output_dir}')\n",
    "\n",
    "# 保存训练集和测试集\n",
    "target_dir = \"/Volumes/图图/DMID-kaggle/archive/multi-obj-det\"\n",
    "for img_id, boxes in cropped.items():\n",
    "    save_data(img_id, boxes, target_dir)\n"
   ]
  },
  {
   "cell_type": "code",
   "execution_count": 10,
   "metadata": {},
   "outputs": [
    {
     "name": "stdout",
     "output_type": "stream",
     "text": [
      "Image IMG001, Center Point (1461, 3102), Test Result: -1.0\n",
      "Image IMG001, Center Point (1461, 3102), Test Result: 1.0\n",
      "Abnormality: CIRC, Class ID: 1\n"
     ]
    },
    {
     "name": "stderr",
     "output_type": "stream",
     "text": [
      "/var/folders/ft/tdx4j_ks1s33pn4xyp1nq6km0000gn/T/ipykernel_93420/3843766324.py:109: UserWarning: /Volumes/图图/DMID-kaggle/archive/sementic-mask/IMG001_mask.png is a low contrast image\n",
      "  io.imsave(output_mask_path, mask)\n"
     ]
    },
    {
     "name": "stdout",
     "output_type": "stream",
     "text": [
      "Image IMG008, Center Point (3211, 3904), Test Result: 1.0\n",
      "Abnormality: CIRC, Class ID: 1\n"
     ]
    },
    {
     "name": "stderr",
     "output_type": "stream",
     "text": [
      "/var/folders/ft/tdx4j_ks1s33pn4xyp1nq6km0000gn/T/ipykernel_93420/3843766324.py:109: UserWarning: /Volumes/图图/DMID-kaggle/archive/sementic-mask/IMG008_mask.png is a low contrast image\n",
      "  io.imsave(output_mask_path, mask)\n"
     ]
    },
    {
     "name": "stdout",
     "output_type": "stream",
     "text": [
      "Image IMG010, Center Point (3747, 4647), Test Result: 1.0\n",
      "Abnormality: CIRC, Class ID: 1\n"
     ]
    },
    {
     "name": "stderr",
     "output_type": "stream",
     "text": [
      "/var/folders/ft/tdx4j_ks1s33pn4xyp1nq6km0000gn/T/ipykernel_93420/3843766324.py:109: UserWarning: /Volumes/图图/DMID-kaggle/archive/sementic-mask/IMG010_mask.png is a low contrast image\n",
      "  io.imsave(output_mask_path, mask)\n"
     ]
    },
    {
     "name": "stdout",
     "output_type": "stream",
     "text": [
      "Image IMG011, Center Point (3222, 2557), Test Result: -1.0\n",
      "Image IMG011, Center Point (3222, 2557), Test Result: 1.0\n",
      "Abnormality: CIRC, Class ID: 1\n"
     ]
    },
    {
     "name": "stderr",
     "output_type": "stream",
     "text": [
      "/var/folders/ft/tdx4j_ks1s33pn4xyp1nq6km0000gn/T/ipykernel_93420/3843766324.py:109: UserWarning: /Volumes/图图/DMID-kaggle/archive/sementic-mask/IMG011_mask.png is a low contrast image\n",
      "  io.imsave(output_mask_path, mask)\n"
     ]
    },
    {
     "name": "stdout",
     "output_type": "stream",
     "text": [
      "Image IMG011, Center Point (3242, 3802), Test Result: 1.0\n",
      "Abnormality: CIRC, Class ID: 1\n",
      "Image IMG012, Center Point (3356, 3002), Test Result: 1.0\n",
      "Abnormality: CIRC, Class ID: 1\n"
     ]
    },
    {
     "name": "stderr",
     "output_type": "stream",
     "text": [
      "/var/folders/ft/tdx4j_ks1s33pn4xyp1nq6km0000gn/T/ipykernel_93420/3843766324.py:109: UserWarning: /Volumes/图图/DMID-kaggle/archive/sementic-mask/IMG012_mask.png is a low contrast image\n",
      "  io.imsave(output_mask_path, mask)\n"
     ]
    },
    {
     "name": "stdout",
     "output_type": "stream",
     "text": [
      "Image IMG012, Center Point (3936, 2272), Test Result: -1.0\n",
      "Image IMG012, Center Point (3936, 2272), Test Result: 1.0\n",
      "Abnormality: CIRC, Class ID: 1\n",
      "Image IMG014, Center Point (3377, 2569), Test Result: 1.0\n",
      "Abnormality: SPIC, Class ID: 2\n"
     ]
    },
    {
     "name": "stderr",
     "output_type": "stream",
     "text": [
      "/var/folders/ft/tdx4j_ks1s33pn4xyp1nq6km0000gn/T/ipykernel_93420/3843766324.py:109: UserWarning: /Volumes/图图/DMID-kaggle/archive/sementic-mask/IMG014_mask.png is a low contrast image\n",
      "  io.imsave(output_mask_path, mask)\n"
     ]
    },
    {
     "name": "stdout",
     "output_type": "stream",
     "text": [
      "Image IMG015, Center Point (4196, 2564), Test Result: 1.0\n",
      "Abnormality: SPIC, Class ID: 2\n"
     ]
    },
    {
     "name": "stderr",
     "output_type": "stream",
     "text": [
      "/var/folders/ft/tdx4j_ks1s33pn4xyp1nq6km0000gn/T/ipykernel_93420/3843766324.py:109: UserWarning: /Volumes/图图/DMID-kaggle/archive/sementic-mask/IMG015_mask.png is a low contrast image\n",
      "  io.imsave(output_mask_path, mask)\n"
     ]
    },
    {
     "name": "stdout",
     "output_type": "stream",
     "text": [
      "Image IMG021, Center Point (1797, 3348), Test Result: 1.0\n",
      "Abnormality: CIRC, Class ID: 1\n"
     ]
    },
    {
     "name": "stderr",
     "output_type": "stream",
     "text": [
      "/var/folders/ft/tdx4j_ks1s33pn4xyp1nq6km0000gn/T/ipykernel_93420/3843766324.py:109: UserWarning: /Volumes/图图/DMID-kaggle/archive/sementic-mask/IMG021_mask.png is a low contrast image\n",
      "  io.imsave(output_mask_path, mask)\n"
     ]
    },
    {
     "name": "stdout",
     "output_type": "stream",
     "text": [
      "Image IMG024, Center Point (4516, 1918), Test Result: -1.0\n",
      "Image IMG024, Center Point (4516, 1918), Test Result: 1.0\n",
      "Abnormality: CALC, Class ID: 3\n"
     ]
    },
    {
     "name": "stderr",
     "output_type": "stream",
     "text": [
      "/var/folders/ft/tdx4j_ks1s33pn4xyp1nq6km0000gn/T/ipykernel_93420/3843766324.py:109: UserWarning: /Volumes/图图/DMID-kaggle/archive/sementic-mask/IMG024_mask.png is a low contrast image\n",
      "  io.imsave(output_mask_path, mask)\n"
     ]
    },
    {
     "name": "stdout",
     "output_type": "stream",
     "text": [
      "Image IMG025, Center Point (4434, 2461), Test Result: 1.0\n",
      "Abnormality: CALC, Class ID: 3\n"
     ]
    },
    {
     "name": "stderr",
     "output_type": "stream",
     "text": [
      "/var/folders/ft/tdx4j_ks1s33pn4xyp1nq6km0000gn/T/ipykernel_93420/3843766324.py:109: UserWarning: /Volumes/图图/DMID-kaggle/archive/sementic-mask/IMG025_mask.png is a low contrast image\n",
      "  io.imsave(output_mask_path, mask)\n"
     ]
    },
    {
     "name": "stdout",
     "output_type": "stream",
     "text": [
      "Image IMG026, Center Point (3850, 4049), Test Result: 1.0\n",
      "Abnormality: CIRC, Class ID: 1\n"
     ]
    },
    {
     "name": "stderr",
     "output_type": "stream",
     "text": [
      "/var/folders/ft/tdx4j_ks1s33pn4xyp1nq6km0000gn/T/ipykernel_93420/3843766324.py:109: UserWarning: /Volumes/图图/DMID-kaggle/archive/sementic-mask/IMG026_mask.png is a low contrast image\n",
      "  io.imsave(output_mask_path, mask)\n"
     ]
    },
    {
     "name": "stdout",
     "output_type": "stream",
     "text": [
      "Image IMG027, Center Point (4242, 4789), Test Result: 1.0\n",
      "Abnormality: CIRC, Class ID: 1\n"
     ]
    },
    {
     "name": "stderr",
     "output_type": "stream",
     "text": [
      "/var/folders/ft/tdx4j_ks1s33pn4xyp1nq6km0000gn/T/ipykernel_93420/3843766324.py:109: UserWarning: /Volumes/图图/DMID-kaggle/archive/sementic-mask/IMG027_mask.png is a low contrast image\n",
      "  io.imsave(output_mask_path, mask)\n"
     ]
    },
    {
     "name": "stdout",
     "output_type": "stream",
     "text": [
      "Image IMG029, Center Point (2856, 1512), Test Result: -1.0\n",
      "Image IMG029, Center Point (2856, 1512), Test Result: -1.0\n",
      "Image IMG029, Center Point (2856, 1512), Test Result: 1.0\n",
      "Abnormality: CALC, Class ID: 3\n"
     ]
    },
    {
     "name": "stderr",
     "output_type": "stream",
     "text": [
      "/var/folders/ft/tdx4j_ks1s33pn4xyp1nq6km0000gn/T/ipykernel_93420/3843766324.py:109: UserWarning: /Volumes/图图/DMID-kaggle/archive/sementic-mask/IMG029_mask.png is a low contrast image\n",
      "  io.imsave(output_mask_path, mask)\n"
     ]
    },
    {
     "name": "stdout",
     "output_type": "stream",
     "text": [
      "Image IMG029, Center Point (2811, 2035), Test Result: -1.0\n",
      "Image IMG029, Center Point (2811, 2035), Test Result: 1.0\n",
      "Abnormality: CALC, Class ID: 3\n",
      "Image IMG029, Center Point (2557, 3861), Test Result: 1.0\n",
      "Abnormality: CALC, Class ID: 3\n",
      "Image IMG030, Center Point (448, 2320), Test Result: -1.0\n",
      "Image IMG030, Center Point (448, 2320), Test Result: 1.0\n",
      "Abnormality: MISC, Class ID: 4\n"
     ]
    },
    {
     "name": "stderr",
     "output_type": "stream",
     "text": [
      "/var/folders/ft/tdx4j_ks1s33pn4xyp1nq6km0000gn/T/ipykernel_93420/3843766324.py:109: UserWarning: /Volumes/图图/DMID-kaggle/archive/sementic-mask/IMG030_mask.png is a low contrast image\n",
      "  io.imsave(output_mask_path, mask)\n"
     ]
    },
    {
     "name": "stdout",
     "output_type": "stream",
     "text": [
      "Image IMG030, Center Point (1234, 2907), Test Result: 1.0\n",
      "Abnormality: MISC, Class ID: 4\n",
      "Image IMG031, Center Point (3917, 3712), Test Result: 1.0\n",
      "Abnormality: CIRC, Class ID: 1\n"
     ]
    },
    {
     "name": "stderr",
     "output_type": "stream",
     "text": [
      "/var/folders/ft/tdx4j_ks1s33pn4xyp1nq6km0000gn/T/ipykernel_93420/3843766324.py:109: UserWarning: /Volumes/图图/DMID-kaggle/archive/sementic-mask/IMG031_mask.png is a low contrast image\n",
      "  io.imsave(output_mask_path, mask)\n"
     ]
    },
    {
     "name": "stdout",
     "output_type": "stream",
     "text": [
      "Image IMG032, Center Point (3930, 3796), Test Result: 1.0\n",
      "Abnormality: CIRC, Class ID: 1\n"
     ]
    },
    {
     "name": "stderr",
     "output_type": "stream",
     "text": [
      "/var/folders/ft/tdx4j_ks1s33pn4xyp1nq6km0000gn/T/ipykernel_93420/3843766324.py:109: UserWarning: /Volumes/图图/DMID-kaggle/archive/sementic-mask/IMG032_mask.png is a low contrast image\n",
      "  io.imsave(output_mask_path, mask)\n"
     ]
    },
    {
     "name": "stdout",
     "output_type": "stream",
     "text": [
      "Image IMG039, Center Point (516, 2946), Test Result: 1.0\n",
      "Abnormality: CIRC, Class ID: 1\n"
     ]
    },
    {
     "name": "stderr",
     "output_type": "stream",
     "text": [
      "/var/folders/ft/tdx4j_ks1s33pn4xyp1nq6km0000gn/T/ipykernel_93420/3843766324.py:109: UserWarning: /Volumes/图图/DMID-kaggle/archive/sementic-mask/IMG039_mask.png is a low contrast image\n",
      "  io.imsave(output_mask_path, mask)\n"
     ]
    },
    {
     "name": "stdout",
     "output_type": "stream",
     "text": [
      "Image IMG041, Center Point (3345, 3020), Test Result: 1.0\n",
      "Abnormality: CIRC, Class ID: 1\n"
     ]
    },
    {
     "name": "stderr",
     "output_type": "stream",
     "text": [
      "/var/folders/ft/tdx4j_ks1s33pn4xyp1nq6km0000gn/T/ipykernel_93420/3843766324.py:109: UserWarning: /Volumes/图图/DMID-kaggle/archive/sementic-mask/IMG041_mask.png is a low contrast image\n",
      "  io.imsave(output_mask_path, mask)\n"
     ]
    },
    {
     "name": "stdout",
     "output_type": "stream",
     "text": [
      "Image IMG043, Center Point (1058, 3514), Test Result: 1.0\n",
      "Abnormality: SPIC, Class ID: 2\n"
     ]
    },
    {
     "name": "stderr",
     "output_type": "stream",
     "text": [
      "/var/folders/ft/tdx4j_ks1s33pn4xyp1nq6km0000gn/T/ipykernel_93420/3843766324.py:109: UserWarning: /Volumes/图图/DMID-kaggle/archive/sementic-mask/IMG043_mask.png is a low contrast image\n",
      "  io.imsave(output_mask_path, mask)\n"
     ]
    },
    {
     "name": "stdout",
     "output_type": "stream",
     "text": [
      "Image IMG044, Center Point (1184, 2859), Test Result: 1.0\n",
      "Abnormality: SPIC, Class ID: 2\n"
     ]
    },
    {
     "name": "stderr",
     "output_type": "stream",
     "text": [
      "/var/folders/ft/tdx4j_ks1s33pn4xyp1nq6km0000gn/T/ipykernel_93420/3843766324.py:109: UserWarning: /Volumes/图图/DMID-kaggle/archive/sementic-mask/IMG044_mask.png is a low contrast image\n",
      "  io.imsave(output_mask_path, mask)\n"
     ]
    },
    {
     "name": "stdout",
     "output_type": "stream",
     "text": [
      "Image IMG045, Center Point (1552, 1695), Test Result: 1.0\n",
      "Abnormality: CIRC, Class ID: 1\n"
     ]
    },
    {
     "name": "stderr",
     "output_type": "stream",
     "text": [
      "/var/folders/ft/tdx4j_ks1s33pn4xyp1nq6km0000gn/T/ipykernel_93420/3843766324.py:109: UserWarning: /Volumes/图图/DMID-kaggle/archive/sementic-mask/IMG045_mask.png is a low contrast image\n",
      "  io.imsave(output_mask_path, mask)\n"
     ]
    },
    {
     "name": "stdout",
     "output_type": "stream",
     "text": [
      "Image IMG046, Center Point (2312, 1330), Test Result: -1.0\n",
      "Image IMG046, Center Point (2312, 1330), Test Result: 1.0\n",
      "Abnormality: CIRC, Class ID: 1\n"
     ]
    },
    {
     "name": "stderr",
     "output_type": "stream",
     "text": [
      "/var/folders/ft/tdx4j_ks1s33pn4xyp1nq6km0000gn/T/ipykernel_93420/3843766324.py:109: UserWarning: /Volumes/图图/DMID-kaggle/archive/sementic-mask/IMG046_mask.png is a low contrast image\n",
      "  io.imsave(output_mask_path, mask)\n"
     ]
    },
    {
     "name": "stdout",
     "output_type": "stream",
     "text": [
      "Image IMG046, Center Point (3175, 2266), Test Result: 1.0\n",
      "Abnormality: CIRC, Class ID: 1\n",
      "Image IMG048, Center Point (2025, 2099), Test Result: 1.0\n",
      "Abnormality: CIRC, Class ID: 1\n"
     ]
    },
    {
     "name": "stderr",
     "output_type": "stream",
     "text": [
      "/var/folders/ft/tdx4j_ks1s33pn4xyp1nq6km0000gn/T/ipykernel_93420/3843766324.py:109: UserWarning: /Volumes/图图/DMID-kaggle/archive/sementic-mask/IMG048_mask.png is a low contrast image\n",
      "  io.imsave(output_mask_path, mask)\n"
     ]
    },
    {
     "name": "stdout",
     "output_type": "stream",
     "text": [
      "Image IMG048, Center Point (2439, 2286), Test Result: 1.0\n",
      "Abnormality: CIRC, Class ID: 1\n",
      "Image IMG053, Center Point (1481, 3117), Test Result: 1.0\n",
      "Abnormality: CIRC, Class ID: 1\n"
     ]
    },
    {
     "name": "stderr",
     "output_type": "stream",
     "text": [
      "/var/folders/ft/tdx4j_ks1s33pn4xyp1nq6km0000gn/T/ipykernel_93420/3843766324.py:109: UserWarning: /Volumes/图图/DMID-kaggle/archive/sementic-mask/IMG053_mask.png is a low contrast image\n",
      "  io.imsave(output_mask_path, mask)\n"
     ]
    },
    {
     "name": "stdout",
     "output_type": "stream",
     "text": [
      "Image IMG054, Center Point (1985, 3402), Test Result: 1.0\n",
      "Abnormality: CIRC, Class ID: 1\n"
     ]
    },
    {
     "name": "stderr",
     "output_type": "stream",
     "text": [
      "/var/folders/ft/tdx4j_ks1s33pn4xyp1nq6km0000gn/T/ipykernel_93420/3843766324.py:109: UserWarning: /Volumes/图图/DMID-kaggle/archive/sementic-mask/IMG054_mask.png is a low contrast image\n",
      "  io.imsave(output_mask_path, mask)\n"
     ]
    },
    {
     "name": "stdout",
     "output_type": "stream",
     "text": [
      "Image IMG059, Center Point (1770, 3234), Test Result: -1.0\n",
      "Image IMG059, Center Point (1770, 3234), Test Result: -1.0\n",
      "Image IMG059, Center Point (1770, 3234), Test Result: 1.0\n",
      "Abnormality: CALC, Class ID: 3\n"
     ]
    },
    {
     "name": "stderr",
     "output_type": "stream",
     "text": [
      "/var/folders/ft/tdx4j_ks1s33pn4xyp1nq6km0000gn/T/ipykernel_93420/3843766324.py:109: UserWarning: /Volumes/图图/DMID-kaggle/archive/sementic-mask/IMG059_mask.png is a low contrast image\n",
      "  io.imsave(output_mask_path, mask)\n"
     ]
    },
    {
     "name": "stdout",
     "output_type": "stream",
     "text": [
      "Image IMG059, Center Point (1511, 3617), Test Result: -1.0\n",
      "Image IMG059, Center Point (1511, 3617), Test Result: 1.0\n",
      "Abnormality: CALC, Class ID: 3\n",
      "Image IMG059, Center Point (896, 2461), Test Result: -1.0\n",
      "Image IMG059, Center Point (896, 2461), Test Result: -1.0\n",
      "Image IMG059, Center Point (896, 2461), Test Result: -1.0\n",
      "No contour found for image IMG059 with center point (896, 2461)\n",
      "Image IMG060, Center Point (3045, 2835), Test Result: -1.0\n",
      "Image IMG060, Center Point (3045, 2835), Test Result: -1.0\n",
      "Image IMG060, Center Point (3045, 2835), Test Result: 1.0\n",
      "Abnormality: CALC, Class ID: 3\n"
     ]
    },
    {
     "name": "stderr",
     "output_type": "stream",
     "text": [
      "/var/folders/ft/tdx4j_ks1s33pn4xyp1nq6km0000gn/T/ipykernel_93420/3843766324.py:109: UserWarning: /Volumes/图图/DMID-kaggle/archive/sementic-mask/IMG060_mask.png is a low contrast image\n",
      "  io.imsave(output_mask_path, mask)\n"
     ]
    },
    {
     "name": "stdout",
     "output_type": "stream",
     "text": [
      "Image IMG060, Center Point (3073, 3814), Test Result: 1.0\n",
      "Abnormality: CALC, Class ID: 3\n",
      "Image IMG060, Center Point (4247, 3021), Test Result: -1.0\n",
      "Image IMG060, Center Point (4247, 3021), Test Result: 1.0\n",
      "Abnormality: CALC, Class ID: 3\n",
      "Image IMG061, Center Point (475, 2466), Test Result: -1.0\n",
      "Image IMG061, Center Point (475, 2466), Test Result: 1.0\n",
      "Abnormality: CIRC, Class ID: 1\n"
     ]
    },
    {
     "name": "stderr",
     "output_type": "stream",
     "text": [
      "/var/folders/ft/tdx4j_ks1s33pn4xyp1nq6km0000gn/T/ipykernel_93420/3843766324.py:109: UserWarning: /Volumes/图图/DMID-kaggle/archive/sementic-mask/IMG061_mask.png is a low contrast image\n",
      "  io.imsave(output_mask_path, mask)\n"
     ]
    },
    {
     "name": "stdout",
     "output_type": "stream",
     "text": [
      "Image IMG063, Center Point (731, 3615), Test Result: 1.0\n",
      "Abnormality: SPIC, Class ID: 2\n"
     ]
    },
    {
     "name": "stderr",
     "output_type": "stream",
     "text": [
      "/var/folders/ft/tdx4j_ks1s33pn4xyp1nq6km0000gn/T/ipykernel_93420/3843766324.py:109: UserWarning: /Volumes/图图/DMID-kaggle/archive/sementic-mask/IMG063_mask.png is a low contrast image\n",
      "  io.imsave(output_mask_path, mask)\n"
     ]
    },
    {
     "name": "stdout",
     "output_type": "stream",
     "text": [
      "Image IMG064, Center Point (818, 3326), Test Result: 1.0\n",
      "Abnormality: SPIC, Class ID: 2\n"
     ]
    },
    {
     "name": "stderr",
     "output_type": "stream",
     "text": [
      "/var/folders/ft/tdx4j_ks1s33pn4xyp1nq6km0000gn/T/ipykernel_93420/3843766324.py:109: UserWarning: /Volumes/图图/DMID-kaggle/archive/sementic-mask/IMG064_mask.png is a low contrast image\n",
      "  io.imsave(output_mask_path, mask)\n"
     ]
    },
    {
     "name": "stdout",
     "output_type": "stream",
     "text": [
      "Image IMG065, Center Point (532, 1824), Test Result: -1.0\n",
      "Image IMG065, Center Point (532, 1824), Test Result: 1.0\n",
      "Abnormality: CIRC, Class ID: 1\n"
     ]
    },
    {
     "name": "stderr",
     "output_type": "stream",
     "text": [
      "/var/folders/ft/tdx4j_ks1s33pn4xyp1nq6km0000gn/T/ipykernel_93420/3843766324.py:109: UserWarning: /Volumes/图图/DMID-kaggle/archive/sementic-mask/IMG065_mask.png is a low contrast image\n",
      "  io.imsave(output_mask_path, mask)\n"
     ]
    },
    {
     "name": "stdout",
     "output_type": "stream",
     "text": [
      "Image IMG067, Center Point (753, 3200), Test Result: 1.0\n",
      "Abnormality: CIRC, Class ID: 1\n"
     ]
    },
    {
     "name": "stderr",
     "output_type": "stream",
     "text": [
      "/var/folders/ft/tdx4j_ks1s33pn4xyp1nq6km0000gn/T/ipykernel_93420/3843766324.py:109: UserWarning: /Volumes/图图/DMID-kaggle/archive/sementic-mask/IMG067_mask.png is a low contrast image\n",
      "  io.imsave(output_mask_path, mask)\n"
     ]
    },
    {
     "name": "stdout",
     "output_type": "stream",
     "text": [
      "Image IMG067, Center Point (469, 3554), Test Result: 1.0\n",
      "Abnormality: CALC, Class ID: 3\n",
      "Image IMG068, Center Point (445, 3521), Test Result: 1.0\n",
      "Abnormality: CIRC, Class ID: 1\n"
     ]
    },
    {
     "name": "stderr",
     "output_type": "stream",
     "text": [
      "/var/folders/ft/tdx4j_ks1s33pn4xyp1nq6km0000gn/T/ipykernel_93420/3843766324.py:109: UserWarning: /Volumes/图图/DMID-kaggle/archive/sementic-mask/IMG068_mask.png is a low contrast image\n",
      "  io.imsave(output_mask_path, mask)\n"
     ]
    },
    {
     "name": "stdout",
     "output_type": "stream",
     "text": [
      "Image IMG068, Center Point (469, 35561), Test Result: -1.0\n",
      "No contour found for image IMG068 with center point (469, 35561)\n",
      "Image IMG069, Center Point (1516, 2512), Test Result: 1.0\n",
      "Abnormality: CIRC, Class ID: 1\n"
     ]
    },
    {
     "name": "stderr",
     "output_type": "stream",
     "text": [
      "/var/folders/ft/tdx4j_ks1s33pn4xyp1nq6km0000gn/T/ipykernel_93420/3843766324.py:109: UserWarning: /Volumes/图图/DMID-kaggle/archive/sementic-mask/IMG069_mask.png is a low contrast image\n",
      "  io.imsave(output_mask_path, mask)\n"
     ]
    },
    {
     "name": "stdout",
     "output_type": "stream",
     "text": [
      "Image IMG070, Center Point (2538, 2072), Test Result: -1.0\n",
      "No contour found for image IMG070 with center point (2538, 2072)\n"
     ]
    },
    {
     "name": "stderr",
     "output_type": "stream",
     "text": [
      "/var/folders/ft/tdx4j_ks1s33pn4xyp1nq6km0000gn/T/ipykernel_93420/3843766324.py:109: UserWarning: /Volumes/图图/DMID-kaggle/archive/sementic-mask/IMG070_mask.png is a low contrast image\n",
      "  io.imsave(output_mask_path, mask)\n"
     ]
    },
    {
     "name": "stdout",
     "output_type": "stream",
     "text": [
      "Image IMG071, Center Point (1666, 3541), Test Result: 1.0\n",
      "Abnormality: CIRC, Class ID: 1\n"
     ]
    },
    {
     "name": "stderr",
     "output_type": "stream",
     "text": [
      "/var/folders/ft/tdx4j_ks1s33pn4xyp1nq6km0000gn/T/ipykernel_93420/3843766324.py:109: UserWarning: /Volumes/图图/DMID-kaggle/archive/sementic-mask/IMG071_mask.png is a low contrast image\n",
      "  io.imsave(output_mask_path, mask)\n"
     ]
    },
    {
     "name": "stdout",
     "output_type": "stream",
     "text": [
      "Image IMG072, Center Point (3314, 3021), Test Result: 1.0\n",
      "Abnormality: SPIC, Class ID: 2\n"
     ]
    },
    {
     "name": "stderr",
     "output_type": "stream",
     "text": [
      "/var/folders/ft/tdx4j_ks1s33pn4xyp1nq6km0000gn/T/ipykernel_93420/3843766324.py:109: UserWarning: /Volumes/图图/DMID-kaggle/archive/sementic-mask/IMG072_mask.png is a low contrast image\n",
      "  io.imsave(output_mask_path, mask)\n"
     ]
    },
    {
     "name": "stdout",
     "output_type": "stream",
     "text": [
      "Image IMG073, Center Point (3469, 2481), Test Result: 1.0\n",
      "Abnormality: SPIC, Class ID: 2\n"
     ]
    },
    {
     "name": "stderr",
     "output_type": "stream",
     "text": [
      "/var/folders/ft/tdx4j_ks1s33pn4xyp1nq6km0000gn/T/ipykernel_93420/3843766324.py:109: UserWarning: /Volumes/图图/DMID-kaggle/archive/sementic-mask/IMG073_mask.png is a low contrast image\n",
      "  io.imsave(output_mask_path, mask)\n"
     ]
    },
    {
     "name": "stdout",
     "output_type": "stream",
     "text": [
      "Image IMG074, Center Point (2802, 2637), Test Result: 1.0\n",
      "Abnormality: SPIC, Class ID: 2\n"
     ]
    },
    {
     "name": "stderr",
     "output_type": "stream",
     "text": [
      "/var/folders/ft/tdx4j_ks1s33pn4xyp1nq6km0000gn/T/ipykernel_93420/3843766324.py:109: UserWarning: /Volumes/图图/DMID-kaggle/archive/sementic-mask/IMG074_mask.png is a low contrast image\n",
      "  io.imsave(output_mask_path, mask)\n"
     ]
    },
    {
     "name": "stdout",
     "output_type": "stream",
     "text": [
      "Image IMG076, Center Point (4375, 1577), Test Result: 1.0\n",
      "Abnormality: CIRC, Class ID: 1\n"
     ]
    },
    {
     "name": "stderr",
     "output_type": "stream",
     "text": [
      "/var/folders/ft/tdx4j_ks1s33pn4xyp1nq6km0000gn/T/ipykernel_93420/3843766324.py:109: UserWarning: /Volumes/图图/DMID-kaggle/archive/sementic-mask/IMG076_mask.png is a low contrast image\n",
      "  io.imsave(output_mask_path, mask)\n"
     ]
    },
    {
     "name": "stdout",
     "output_type": "stream",
     "text": [
      "Image IMG078, Center Point (3884, 1892), Test Result: 1.0\n",
      "Abnormality: CIRC, Class ID: 1\n"
     ]
    },
    {
     "name": "stderr",
     "output_type": "stream",
     "text": [
      "/var/folders/ft/tdx4j_ks1s33pn4xyp1nq6km0000gn/T/ipykernel_93420/3843766324.py:109: UserWarning: /Volumes/图图/DMID-kaggle/archive/sementic-mask/IMG078_mask.png is a low contrast image\n",
      "  io.imsave(output_mask_path, mask)\n"
     ]
    },
    {
     "name": "stdout",
     "output_type": "stream",
     "text": [
      "Image IMG079, Center Point (1650, 3854), Test Result: 1.0\n",
      "Abnormality: CALC, Class ID: 3\n"
     ]
    },
    {
     "name": "stderr",
     "output_type": "stream",
     "text": [
      "/var/folders/ft/tdx4j_ks1s33pn4xyp1nq6km0000gn/T/ipykernel_93420/3843766324.py:109: UserWarning: /Volumes/图图/DMID-kaggle/archive/sementic-mask/IMG079_mask.png is a low contrast image\n",
      "  io.imsave(output_mask_path, mask)\n"
     ]
    },
    {
     "name": "stdout",
     "output_type": "stream",
     "text": [
      "Image IMG086, Center Point (3311, 2600), Test Result: 1.0\n",
      "Abnormality: CIRC, Class ID: 1\n"
     ]
    },
    {
     "name": "stderr",
     "output_type": "stream",
     "text": [
      "/var/folders/ft/tdx4j_ks1s33pn4xyp1nq6km0000gn/T/ipykernel_93420/3843766324.py:109: UserWarning: /Volumes/图图/DMID-kaggle/archive/sementic-mask/IMG086_mask.png is a low contrast image\n",
      "  io.imsave(output_mask_path, mask)\n"
     ]
    },
    {
     "name": "stdout",
     "output_type": "stream",
     "text": [
      "Image IMG089, Center Point (4129, 3349), Test Result: 1.0\n",
      "Abnormality: CIRC, Class ID: 1\n"
     ]
    },
    {
     "name": "stderr",
     "output_type": "stream",
     "text": [
      "/var/folders/ft/tdx4j_ks1s33pn4xyp1nq6km0000gn/T/ipykernel_93420/3843766324.py:109: UserWarning: /Volumes/图图/DMID-kaggle/archive/sementic-mask/IMG089_mask.png is a low contrast image\n",
      "  io.imsave(output_mask_path, mask)\n"
     ]
    },
    {
     "name": "stdout",
     "output_type": "stream",
     "text": [
      "Image IMG090, Center Point (4101, 3281), Test Result: 1.0\n",
      "Abnormality: CIRC, Class ID: 1\n"
     ]
    },
    {
     "name": "stderr",
     "output_type": "stream",
     "text": [
      "/var/folders/ft/tdx4j_ks1s33pn4xyp1nq6km0000gn/T/ipykernel_93420/3843766324.py:109: UserWarning: /Volumes/图图/DMID-kaggle/archive/sementic-mask/IMG090_mask.png is a low contrast image\n",
      "  io.imsave(output_mask_path, mask)\n"
     ]
    },
    {
     "name": "stdout",
     "output_type": "stream",
     "text": [
      "Image IMG092, Center Point (3898, 3597), Test Result: 1.0\n",
      "Abnormality: CALC, Class ID: 3\n"
     ]
    },
    {
     "name": "stderr",
     "output_type": "stream",
     "text": [
      "/var/folders/ft/tdx4j_ks1s33pn4xyp1nq6km0000gn/T/ipykernel_93420/3843766324.py:109: UserWarning: /Volumes/图图/DMID-kaggle/archive/sementic-mask/IMG092_mask.png is a low contrast image\n",
      "  io.imsave(output_mask_path, mask)\n"
     ]
    },
    {
     "name": "stdout",
     "output_type": "stream",
     "text": [
      "Image IMG094, Center Point (3557, 3483), Test Result: 1.0\n",
      "Abnormality: CALC, Class ID: 3\n"
     ]
    },
    {
     "name": "stderr",
     "output_type": "stream",
     "text": [
      "/var/folders/ft/tdx4j_ks1s33pn4xyp1nq6km0000gn/T/ipykernel_93420/3843766324.py:109: UserWarning: /Volumes/图图/DMID-kaggle/archive/sementic-mask/IMG094_mask.png is a low contrast image\n",
      "  io.imsave(output_mask_path, mask)\n"
     ]
    },
    {
     "name": "stdout",
     "output_type": "stream",
     "text": [
      "Image IMG097, Center Point (2396, 3104), Test Result: 1.0\n",
      "Abnormality: CIRC, Class ID: 1\n"
     ]
    },
    {
     "name": "stderr",
     "output_type": "stream",
     "text": [
      "/var/folders/ft/tdx4j_ks1s33pn4xyp1nq6km0000gn/T/ipykernel_93420/3843766324.py:109: UserWarning: /Volumes/图图/DMID-kaggle/archive/sementic-mask/IMG097_mask.png is a low contrast image\n",
      "  io.imsave(output_mask_path, mask)\n"
     ]
    },
    {
     "name": "stdout",
     "output_type": "stream",
     "text": [
      "Image IMG099, Center Point (2476, 3368), Test Result: 1.0\n",
      "Abnormality: MISC, Class ID: 4\n"
     ]
    },
    {
     "name": "stderr",
     "output_type": "stream",
     "text": [
      "/var/folders/ft/tdx4j_ks1s33pn4xyp1nq6km0000gn/T/ipykernel_93420/3843766324.py:109: UserWarning: /Volumes/图图/DMID-kaggle/archive/sementic-mask/IMG099_mask.png is a low contrast image\n",
      "  io.imsave(output_mask_path, mask)\n"
     ]
    },
    {
     "name": "stdout",
     "output_type": "stream",
     "text": [
      "Image IMG101, Center Point (3580, 2685), Test Result: 1.0\n",
      "Abnormality: CIRC, Class ID: 1\n"
     ]
    },
    {
     "name": "stderr",
     "output_type": "stream",
     "text": [
      "/var/folders/ft/tdx4j_ks1s33pn4xyp1nq6km0000gn/T/ipykernel_93420/3843766324.py:109: UserWarning: /Volumes/图图/DMID-kaggle/archive/sementic-mask/IMG101_mask.png is a low contrast image\n",
      "  io.imsave(output_mask_path, mask)\n"
     ]
    },
    {
     "name": "stdout",
     "output_type": "stream",
     "text": [
      "Image IMG102, Center Point (3440, 3816), Test Result: 1.0\n",
      "Abnormality: MISC, Class ID: 4\n"
     ]
    },
    {
     "name": "stderr",
     "output_type": "stream",
     "text": [
      "/var/folders/ft/tdx4j_ks1s33pn4xyp1nq6km0000gn/T/ipykernel_93420/3843766324.py:109: UserWarning: /Volumes/图图/DMID-kaggle/archive/sementic-mask/IMG102_mask.png is a low contrast image\n",
      "  io.imsave(output_mask_path, mask)\n"
     ]
    },
    {
     "name": "stdout",
     "output_type": "stream",
     "text": [
      "Image IMG103, Center Point (4118, 1880), Test Result: -1.0\n",
      "No contour found for image IMG103 with center point (4118, 1880)\n"
     ]
    },
    {
     "name": "stderr",
     "output_type": "stream",
     "text": [
      "/var/folders/ft/tdx4j_ks1s33pn4xyp1nq6km0000gn/T/ipykernel_93420/3843766324.py:109: UserWarning: /Volumes/图图/DMID-kaggle/archive/sementic-mask/IMG103_mask.png is a low contrast image\n",
      "  io.imsave(output_mask_path, mask)\n"
     ]
    },
    {
     "name": "stdout",
     "output_type": "stream",
     "text": [
      "Image IMG104, Center Point (3919, 2421), Test Result: 1.0\n",
      "Abnormality: MISC, Class ID: 4\n"
     ]
    },
    {
     "name": "stderr",
     "output_type": "stream",
     "text": [
      "/var/folders/ft/tdx4j_ks1s33pn4xyp1nq6km0000gn/T/ipykernel_93420/3843766324.py:109: UserWarning: /Volumes/图图/DMID-kaggle/archive/sementic-mask/IMG104_mask.png is a low contrast image\n",
      "  io.imsave(output_mask_path, mask)\n"
     ]
    },
    {
     "name": "stdout",
     "output_type": "stream",
     "text": [
      "Image IMG108, Center Point (3914, 3490), Test Result: 1.0\n",
      "Abnormality: CIRC, Class ID: 1\n"
     ]
    },
    {
     "name": "stderr",
     "output_type": "stream",
     "text": [
      "/var/folders/ft/tdx4j_ks1s33pn4xyp1nq6km0000gn/T/ipykernel_93420/3843766324.py:109: UserWarning: /Volumes/图图/DMID-kaggle/archive/sementic-mask/IMG108_mask.png is a low contrast image\n",
      "  io.imsave(output_mask_path, mask)\n"
     ]
    },
    {
     "name": "stdout",
     "output_type": "stream",
     "text": [
      "Image IMG110, Center Point (4233, 4023), Test Result: 1.0\n",
      "Abnormality: CIRC, Class ID: 1\n"
     ]
    },
    {
     "name": "stderr",
     "output_type": "stream",
     "text": [
      "/var/folders/ft/tdx4j_ks1s33pn4xyp1nq6km0000gn/T/ipykernel_93420/3843766324.py:109: UserWarning: /Volumes/图图/DMID-kaggle/archive/sementic-mask/IMG110_mask.png is a low contrast image\n",
      "  io.imsave(output_mask_path, mask)\n"
     ]
    },
    {
     "name": "stdout",
     "output_type": "stream",
     "text": [
      "Image IMG114, Center Point (4216, 1843), Test Result: -1.0\n",
      "Image IMG114, Center Point (4216, 1843), Test Result: -1.0\n",
      "Image IMG114, Center Point (4216, 1843), Test Result: 1.0\n",
      "Abnormality: CALC, Class ID: 3\n"
     ]
    },
    {
     "name": "stderr",
     "output_type": "stream",
     "text": [
      "/var/folders/ft/tdx4j_ks1s33pn4xyp1nq6km0000gn/T/ipykernel_93420/3843766324.py:109: UserWarning: /Volumes/图图/DMID-kaggle/archive/sementic-mask/IMG114_mask.png is a low contrast image\n",
      "  io.imsave(output_mask_path, mask)\n"
     ]
    },
    {
     "name": "stdout",
     "output_type": "stream",
     "text": [
      "Image IMG116, Center Point (4217, 4444), Test Result: 1.0\n",
      "Abnormality: CALC, Class ID: 3\n"
     ]
    },
    {
     "name": "stderr",
     "output_type": "stream",
     "text": [
      "/var/folders/ft/tdx4j_ks1s33pn4xyp1nq6km0000gn/T/ipykernel_93420/3843766324.py:109: UserWarning: /Volumes/图图/DMID-kaggle/archive/sementic-mask/IMG116_mask.png is a low contrast image\n",
      "  io.imsave(output_mask_path, mask)\n"
     ]
    },
    {
     "name": "stdout",
     "output_type": "stream",
     "text": [
      "Image IMG116, Center Point (4284, 1336), Test Result: -1.0\n",
      "Image IMG116, Center Point (4284, 1336), Test Result: -1.0\n",
      "Image IMG116, Center Point (4284, 1336), Test Result: -1.0\n",
      "Image IMG116, Center Point (4284, 1336), Test Result: 1.0\n",
      "Abnormality: CIRC, Class ID: 1\n",
      "Image IMG117, Center Point (2779, 2613), Test Result: 1.0\n",
      "Abnormality: CIRC, Class ID: 1\n"
     ]
    },
    {
     "name": "stderr",
     "output_type": "stream",
     "text": [
      "/var/folders/ft/tdx4j_ks1s33pn4xyp1nq6km0000gn/T/ipykernel_93420/3843766324.py:109: UserWarning: /Volumes/图图/DMID-kaggle/archive/sementic-mask/IMG117_mask.png is a low contrast image\n",
      "  io.imsave(output_mask_path, mask)\n"
     ]
    },
    {
     "name": "stdout",
     "output_type": "stream",
     "text": [
      "Image IMG118, Center Point (3092, 4331), Test Result: 1.0\n",
      "Abnormality: CIRC, Class ID: 1\n"
     ]
    },
    {
     "name": "stderr",
     "output_type": "stream",
     "text": [
      "/var/folders/ft/tdx4j_ks1s33pn4xyp1nq6km0000gn/T/ipykernel_93420/3843766324.py:109: UserWarning: /Volumes/图图/DMID-kaggle/archive/sementic-mask/IMG118_mask.png is a low contrast image\n",
      "  io.imsave(output_mask_path, mask)\n"
     ]
    },
    {
     "name": "stdout",
     "output_type": "stream",
     "text": [
      "Image IMG125, Center Point (1354, 946), Test Result: -1.0\n",
      "Image IMG125, Center Point (1354, 946), Test Result: -1.0\n",
      "No contour found for image IMG125 with center point (1354, 946)\n",
      "Image IMG125, Center Point (1623, 1134), Test Result: -1.0\n",
      "Image IMG125, Center Point (1623, 1134), Test Result: -1.0\n",
      "No contour found for image IMG125 with center point (1623, 1134)\n",
      "Image IMG125, Center Point (1473, 1097), Test Result: -1.0\n",
      "Image IMG125, Center Point (1473, 1097), Test Result: -1.0\n",
      "No contour found for image IMG125 with center point (1473, 1097)\n"
     ]
    },
    {
     "name": "stderr",
     "output_type": "stream",
     "text": [
      "/var/folders/ft/tdx4j_ks1s33pn4xyp1nq6km0000gn/T/ipykernel_93420/3843766324.py:109: UserWarning: /Volumes/图图/DMID-kaggle/archive/sementic-mask/IMG125_mask.png is a low contrast image\n",
      "  io.imsave(output_mask_path, mask)\n"
     ]
    },
    {
     "name": "stdout",
     "output_type": "stream",
     "text": [
      "Image IMG131, Center Point (172, 3022), Test Result: 1.0\n",
      "Abnormality: CIRC, Class ID: 1\n"
     ]
    },
    {
     "name": "stderr",
     "output_type": "stream",
     "text": [
      "/var/folders/ft/tdx4j_ks1s33pn4xyp1nq6km0000gn/T/ipykernel_93420/3843766324.py:109: UserWarning: /Volumes/图图/DMID-kaggle/archive/sementic-mask/IMG131_mask.png is a low contrast image\n",
      "  io.imsave(output_mask_path, mask)\n"
     ]
    },
    {
     "name": "stdout",
     "output_type": "stream",
     "text": [
      "Image IMG132, Center Point (3477, 1665), Test Result: 1.0\n",
      "Abnormality: CIRC, Class ID: 1\n"
     ]
    },
    {
     "name": "stderr",
     "output_type": "stream",
     "text": [
      "/var/folders/ft/tdx4j_ks1s33pn4xyp1nq6km0000gn/T/ipykernel_93420/3843766324.py:109: UserWarning: /Volumes/图图/DMID-kaggle/archive/sementic-mask/IMG132_mask.png is a low contrast image\n",
      "  io.imsave(output_mask_path, mask)\n"
     ]
    },
    {
     "name": "stdout",
     "output_type": "stream",
     "text": [
      "Image IMG136, Center Point (1149, 1017), Test Result: 1.0\n",
      "Abnormality: CIRC, Class ID: 1\n"
     ]
    },
    {
     "name": "stderr",
     "output_type": "stream",
     "text": [
      "/var/folders/ft/tdx4j_ks1s33pn4xyp1nq6km0000gn/T/ipykernel_93420/3843766324.py:109: UserWarning: /Volumes/图图/DMID-kaggle/archive/sementic-mask/IMG136_mask.png is a low contrast image\n",
      "  io.imsave(output_mask_path, mask)\n"
     ]
    },
    {
     "name": "stdout",
     "output_type": "stream",
     "text": [
      "Image IMG138, Center Point (2039, 2955), Test Result: 1.0\n",
      "Abnormality: CIRC, Class ID: 1\n"
     ]
    },
    {
     "name": "stderr",
     "output_type": "stream",
     "text": [
      "/var/folders/ft/tdx4j_ks1s33pn4xyp1nq6km0000gn/T/ipykernel_93420/3843766324.py:109: UserWarning: /Volumes/图图/DMID-kaggle/archive/sementic-mask/IMG138_mask.png is a low contrast image\n",
      "  io.imsave(output_mask_path, mask)\n"
     ]
    },
    {
     "name": "stdout",
     "output_type": "stream",
     "text": [
      "Image IMG139, Center Point (1029, 3586), Test Result: 1.0\n",
      "Abnormality: CALC, Class ID: 3\n"
     ]
    },
    {
     "name": "stderr",
     "output_type": "stream",
     "text": [
      "/var/folders/ft/tdx4j_ks1s33pn4xyp1nq6km0000gn/T/ipykernel_93420/3843766324.py:109: UserWarning: /Volumes/图图/DMID-kaggle/archive/sementic-mask/IMG139_mask.png is a low contrast image\n",
      "  io.imsave(output_mask_path, mask)\n"
     ]
    },
    {
     "name": "stdout",
     "output_type": "stream",
     "text": [
      "Image IMG139, Center Point (1520, 2720), Test Result: -1.0\n",
      "Image IMG139, Center Point (1520, 2720), Test Result: 1.0\n",
      "Abnormality: CALC, Class ID: 3\n",
      "Image IMG139, Center Point (1552, 2128), Test Result: -1.0\n",
      "Image IMG139, Center Point (1552, 2128), Test Result: -1.0\n",
      "Image IMG139, Center Point (1552, 2128), Test Result: 1.0\n",
      "Abnormality: CALC, Class ID: 3\n",
      "Image IMG140, Center Point (2058, 2601), Test Result: 1.0\n",
      "Abnormality: CALC, Class ID: 3\n"
     ]
    },
    {
     "name": "stderr",
     "output_type": "stream",
     "text": [
      "/var/folders/ft/tdx4j_ks1s33pn4xyp1nq6km0000gn/T/ipykernel_93420/3843766324.py:109: UserWarning: /Volumes/图图/DMID-kaggle/archive/sementic-mask/IMG140_mask.png is a low contrast image\n",
      "  io.imsave(output_mask_path, mask)\n"
     ]
    },
    {
     "name": "stdout",
     "output_type": "stream",
     "text": [
      "Image IMG140, Center Point (2858, 2769), Test Result: -1.0\n",
      "Image IMG140, Center Point (2858, 2769), Test Result: 1.0\n",
      "Abnormality: SPIC, Class ID: 2\n",
      "Image IMG141, Center Point (886, 3930), Test Result: -1.0\n",
      "Image IMG141, Center Point (886, 3930), Test Result: 1.0\n",
      "Abnormality: CALC, Class ID: 3\n"
     ]
    },
    {
     "name": "stderr",
     "output_type": "stream",
     "text": [
      "/var/folders/ft/tdx4j_ks1s33pn4xyp1nq6km0000gn/T/ipykernel_93420/3843766324.py:109: UserWarning: /Volumes/图图/DMID-kaggle/archive/sementic-mask/IMG141_mask.png is a low contrast image\n",
      "  io.imsave(output_mask_path, mask)\n"
     ]
    },
    {
     "name": "stdout",
     "output_type": "stream",
     "text": [
      "Image IMG141, Center Point (1636, 3713), Test Result: -1.0\n",
      "Image IMG141, Center Point (1636, 3713), Test Result: -1.0\n",
      "Image IMG141, Center Point (1636, 3713), Test Result: 1.0\n",
      "Abnormality: CALC, Class ID: 3\n",
      "Image IMG142, Center Point (987, 1832), Test Result: 1.0\n",
      "Abnormality: CALC, Class ID: 3\n",
      "Image IMG142, Center Point (1467, 1973), Test Result: -1.0\n",
      "Image IMG142, Center Point (1467, 1973), Test Result: 1.0\n",
      "Abnormality: MISC, Class ID: 4\n"
     ]
    },
    {
     "name": "stderr",
     "output_type": "stream",
     "text": [
      "/var/folders/ft/tdx4j_ks1s33pn4xyp1nq6km0000gn/T/ipykernel_93420/3843766324.py:109: UserWarning: /Volumes/图图/DMID-kaggle/archive/sementic-mask/IMG142_mask.png is a low contrast image\n",
      "  io.imsave(output_mask_path, mask)\n"
     ]
    },
    {
     "name": "stdout",
     "output_type": "stream",
     "text": [
      "Image IMG143, Center Point (705, 2604), Test Result: -1.0\n",
      "Image IMG143, Center Point (705, 2604), Test Result: 1.0\n",
      "Abnormality: CALC, Class ID: 3\n"
     ]
    },
    {
     "name": "stderr",
     "output_type": "stream",
     "text": [
      "/var/folders/ft/tdx4j_ks1s33pn4xyp1nq6km0000gn/T/ipykernel_93420/3843766324.py:109: UserWarning: /Volumes/图图/DMID-kaggle/archive/sementic-mask/IMG143_mask.png is a low contrast image\n",
      "  io.imsave(output_mask_path, mask)\n"
     ]
    },
    {
     "name": "stdout",
     "output_type": "stream",
     "text": [
      "Image IMG143, Center Point (920, 2979), Test Result: 1.0\n",
      "Abnormality: CIRC, Class ID: 1\n",
      "Image IMG144, Center Point (3060, 1537), Test Result: -1.0\n",
      "Image IMG144, Center Point (3060, 1537), Test Result: 1.0\n",
      "Abnormality: CIRC, Class ID: 1\n"
     ]
    },
    {
     "name": "stderr",
     "output_type": "stream",
     "text": [
      "/var/folders/ft/tdx4j_ks1s33pn4xyp1nq6km0000gn/T/ipykernel_93420/3843766324.py:109: UserWarning: /Volumes/图图/DMID-kaggle/archive/sementic-mask/IMG144_mask.png is a low contrast image\n",
      "  io.imsave(output_mask_path, mask)\n"
     ]
    },
    {
     "name": "stdout",
     "output_type": "stream",
     "text": [
      "Image IMG144, Center Point (2964, 2576), Test Result: 1.0\n",
      "Abnormality: CIRC, Class ID: 1\n",
      "Image IMG145, Center Point (923, 3451), Test Result: 1.0\n",
      "Abnormality: CALC, Class ID: 3\n"
     ]
    },
    {
     "name": "stderr",
     "output_type": "stream",
     "text": [
      "/var/folders/ft/tdx4j_ks1s33pn4xyp1nq6km0000gn/T/ipykernel_93420/3843766324.py:109: UserWarning: /Volumes/图图/DMID-kaggle/archive/sementic-mask/IMG145_mask.png is a low contrast image\n",
      "  io.imsave(output_mask_path, mask)\n"
     ]
    },
    {
     "name": "stdout",
     "output_type": "stream",
     "text": [
      "Image IMG146, Center Point (1433, 1405), Test Result: 1.0\n",
      "Abnormality: CIRC, Class ID: 1\n",
      "Image IMG146, Center Point (1393, 1651), Test Result: 1.0\n",
      "Abnormality: CIRC, Class ID: 1\n"
     ]
    },
    {
     "name": "stderr",
     "output_type": "stream",
     "text": [
      "/var/folders/ft/tdx4j_ks1s33pn4xyp1nq6km0000gn/T/ipykernel_93420/3843766324.py:109: UserWarning: /Volumes/图图/DMID-kaggle/archive/sementic-mask/IMG146_mask.png is a low contrast image\n",
      "  io.imsave(output_mask_path, mask)\n"
     ]
    },
    {
     "name": "stdout",
     "output_type": "stream",
     "text": [
      "Image IMG147, Center Point (899, 2008), Test Result: 1.0\n",
      "Abnormality: CALC, Class ID: 3\n"
     ]
    },
    {
     "name": "stderr",
     "output_type": "stream",
     "text": [
      "/var/folders/ft/tdx4j_ks1s33pn4xyp1nq6km0000gn/T/ipykernel_93420/3843766324.py:109: UserWarning: /Volumes/图图/DMID-kaggle/archive/sementic-mask/IMG147_mask.png is a low contrast image\n",
      "  io.imsave(output_mask_path, mask)\n"
     ]
    },
    {
     "name": "stdout",
     "output_type": "stream",
     "text": [
      "Image IMG148, Center Point (1662, 680), Test Result: 1.0\n",
      "Abnormality: CIRC, Class ID: 1\n"
     ]
    },
    {
     "name": "stderr",
     "output_type": "stream",
     "text": [
      "/var/folders/ft/tdx4j_ks1s33pn4xyp1nq6km0000gn/T/ipykernel_93420/3843766324.py:109: UserWarning: /Volumes/图图/DMID-kaggle/archive/sementic-mask/IMG148_mask.png is a low contrast image\n",
      "  io.imsave(output_mask_path, mask)\n"
     ]
    },
    {
     "name": "stdout",
     "output_type": "stream",
     "text": [
      "Image IMG149, Center Point (872, 3229), Test Result: 1.0\n",
      "Abnormality: CALC, Class ID: 3\n"
     ]
    },
    {
     "name": "stderr",
     "output_type": "stream",
     "text": [
      "/var/folders/ft/tdx4j_ks1s33pn4xyp1nq6km0000gn/T/ipykernel_93420/3843766324.py:109: UserWarning: /Volumes/图图/DMID-kaggle/archive/sementic-mask/IMG149_mask.png is a low contrast image\n",
      "  io.imsave(output_mask_path, mask)\n"
     ]
    },
    {
     "name": "stdout",
     "output_type": "stream",
     "text": [
      "Image IMG150, Center Point (4411, 2710), Test Result: 1.0\n",
      "Abnormality: CIRC, Class ID: 1\n"
     ]
    },
    {
     "name": "stderr",
     "output_type": "stream",
     "text": [
      "/var/folders/ft/tdx4j_ks1s33pn4xyp1nq6km0000gn/T/ipykernel_93420/3843766324.py:109: UserWarning: /Volumes/图图/DMID-kaggle/archive/sementic-mask/IMG150_mask.png is a low contrast image\n",
      "  io.imsave(output_mask_path, mask)\n"
     ]
    },
    {
     "name": "stdout",
     "output_type": "stream",
     "text": [
      "Image IMG156, Center Point (2787, 2665), Test Result: -1.0\n",
      "No contour found for image IMG156 with center point (2787, 2665)\n"
     ]
    },
    {
     "name": "stderr",
     "output_type": "stream",
     "text": [
      "/var/folders/ft/tdx4j_ks1s33pn4xyp1nq6km0000gn/T/ipykernel_93420/3843766324.py:109: UserWarning: /Volumes/图图/DMID-kaggle/archive/sementic-mask/IMG156_mask.png is a low contrast image\n",
      "  io.imsave(output_mask_path, mask)\n"
     ]
    },
    {
     "name": "stdout",
     "output_type": "stream",
     "text": [
      "Image IMG158, Center Point (3678, 2996), Test Result: 1.0\n",
      "Abnormality: CIRC, Class ID: 1\n"
     ]
    },
    {
     "name": "stderr",
     "output_type": "stream",
     "text": [
      "/var/folders/ft/tdx4j_ks1s33pn4xyp1nq6km0000gn/T/ipykernel_93420/3843766324.py:109: UserWarning: /Volumes/图图/DMID-kaggle/archive/sementic-mask/IMG158_mask.png is a low contrast image\n",
      "  io.imsave(output_mask_path, mask)\n"
     ]
    },
    {
     "name": "stdout",
     "output_type": "stream",
     "text": [
      "Image IMG159, Center Point (2795, 3236), Test Result: 1.0\n",
      "Abnormality: CALC, Class ID: 3\n"
     ]
    },
    {
     "name": "stderr",
     "output_type": "stream",
     "text": [
      "/var/folders/ft/tdx4j_ks1s33pn4xyp1nq6km0000gn/T/ipykernel_93420/3843766324.py:109: UserWarning: /Volumes/图图/DMID-kaggle/archive/sementic-mask/IMG159_mask.png is a low contrast image\n",
      "  io.imsave(output_mask_path, mask)\n"
     ]
    },
    {
     "name": "stdout",
     "output_type": "stream",
     "text": [
      "Image IMG161, Center Point (3099, 2300), Test Result: -1.0\n",
      "Image IMG161, Center Point (3099, 2300), Test Result: 1.0\n",
      "Abnormality: CALC, Class ID: 3\n"
     ]
    },
    {
     "name": "stderr",
     "output_type": "stream",
     "text": [
      "/var/folders/ft/tdx4j_ks1s33pn4xyp1nq6km0000gn/T/ipykernel_93420/3843766324.py:109: UserWarning: /Volumes/图图/DMID-kaggle/archive/sementic-mask/IMG161_mask.png is a low contrast image\n",
      "  io.imsave(output_mask_path, mask)\n"
     ]
    },
    {
     "name": "stdout",
     "output_type": "stream",
     "text": [
      "Image IMG164, Center Point (2949, 3054), Test Result: 1.0\n",
      "Abnormality: CIRC, Class ID: 1\n"
     ]
    },
    {
     "name": "stderr",
     "output_type": "stream",
     "text": [
      "/var/folders/ft/tdx4j_ks1s33pn4xyp1nq6km0000gn/T/ipykernel_93420/3843766324.py:109: UserWarning: /Volumes/图图/DMID-kaggle/archive/sementic-mask/IMG164_mask.png is a low contrast image\n",
      "  io.imsave(output_mask_path, mask)\n"
     ]
    },
    {
     "name": "stdout",
     "output_type": "stream",
     "text": [
      "Image IMG166, Center Point (3602, 1806), Test Result: 1.0\n",
      "Abnormality: CIRC, Class ID: 1\n"
     ]
    },
    {
     "name": "stderr",
     "output_type": "stream",
     "text": [
      "/var/folders/ft/tdx4j_ks1s33pn4xyp1nq6km0000gn/T/ipykernel_93420/3843766324.py:109: UserWarning: /Volumes/图图/DMID-kaggle/archive/sementic-mask/IMG166_mask.png is a low contrast image\n",
      "  io.imsave(output_mask_path, mask)\n"
     ]
    },
    {
     "name": "stdout",
     "output_type": "stream",
     "text": [
      "Image IMG172, Center Point (3841, 2815), Test Result: 1.0\n",
      "Abnormality: CIRC, Class ID: 1\n"
     ]
    },
    {
     "name": "stderr",
     "output_type": "stream",
     "text": [
      "/var/folders/ft/tdx4j_ks1s33pn4xyp1nq6km0000gn/T/ipykernel_93420/3843766324.py:109: UserWarning: /Volumes/图图/DMID-kaggle/archive/sementic-mask/IMG172_mask.png is a low contrast image\n",
      "  io.imsave(output_mask_path, mask)\n"
     ]
    },
    {
     "name": "stdout",
     "output_type": "stream",
     "text": [
      "Image IMG184, Center Point (2582, 3520), Test Result: -1.0\n",
      "Image IMG184, Center Point (2582, 3520), Test Result: 1.0\n",
      "Abnormality: CIRC, Class ID: 1\n"
     ]
    },
    {
     "name": "stderr",
     "output_type": "stream",
     "text": [
      "/var/folders/ft/tdx4j_ks1s33pn4xyp1nq6km0000gn/T/ipykernel_93420/3843766324.py:109: UserWarning: /Volumes/图图/DMID-kaggle/archive/sementic-mask/IMG184_mask.png is a low contrast image\n",
      "  io.imsave(output_mask_path, mask)\n"
     ]
    },
    {
     "name": "stdout",
     "output_type": "stream",
     "text": [
      "Image IMG184, Center Point (3158, 3851), Test Result: 1.0\n",
      "Abnormality: CIRC, Class ID: 1\n",
      "Image IMG184, Center Point (3818, 3354), Test Result: -1.0\n",
      "Image IMG184, Center Point (3818, 3354), Test Result: -1.0\n",
      "Image IMG184, Center Point (3818, 3354), Test Result: 1.0\n",
      "Abnormality: CIRC, Class ID: 1\n",
      "Image IMG184, Center Point (3501, 1996), Test Result: -1.0\n",
      "Image IMG184, Center Point (3501, 1996), Test Result: -1.0\n",
      "Image IMG184, Center Point (3501, 1996), Test Result: -1.0\n",
      "Image IMG184, Center Point (3501, 1996), Test Result: 1.0\n",
      "Abnormality: CIRC, Class ID: 1\n",
      "Image IMG184, Center Point (3497, 1468), Test Result: -1.0\n",
      "Image IMG184, Center Point (3497, 1468), Test Result: -1.0\n",
      "Image IMG184, Center Point (3497, 1468), Test Result: -1.0\n",
      "Image IMG184, Center Point (3497, 1468), Test Result: -1.0\n",
      "Image IMG184, Center Point (3497, 1468), Test Result: 1.0\n",
      "Abnormality: CIRC, Class ID: 1\n",
      "Image IMG186, Center Point (2650, 2589), Test Result: -1.0\n",
      "Image IMG186, Center Point (2650, 2589), Test Result: -1.0\n",
      "Image IMG186, Center Point (2650, 2589), Test Result: -1.0\n",
      "Image IMG186, Center Point (2650, 2589), Test Result: 1.0\n",
      "Abnormality: CIRC, Class ID: 1\n"
     ]
    },
    {
     "name": "stderr",
     "output_type": "stream",
     "text": [
      "/var/folders/ft/tdx4j_ks1s33pn4xyp1nq6km0000gn/T/ipykernel_93420/3843766324.py:109: UserWarning: /Volumes/图图/DMID-kaggle/archive/sementic-mask/IMG186_mask.png is a low contrast image\n",
      "  io.imsave(output_mask_path, mask)\n"
     ]
    },
    {
     "name": "stdout",
     "output_type": "stream",
     "text": [
      "Image IMG186, Center Point (2573, 4093), Test Result: 1.0\n",
      "Abnormality: CIRC, Class ID: 1\n",
      "Image IMG186, Center Point (3260, 3931), Test Result: -1.0\n",
      "Image IMG186, Center Point (3260, 3931), Test Result: 1.0\n",
      "Abnormality: CIRC, Class ID: 1\n",
      "Image IMG186, Center Point (3519, 3356), Test Result: -1.0\n",
      "Image IMG186, Center Point (3519, 3356), Test Result: -1.0\n",
      "Image IMG186, Center Point (3519, 3356), Test Result: 1.0\n",
      "Abnormality: CIRC, Class ID: 1\n",
      "Image IMG191, Center Point (2744, 1065), Test Result: 1.0\n",
      "Abnormality: CIRC, Class ID: 1\n"
     ]
    },
    {
     "name": "stderr",
     "output_type": "stream",
     "text": [
      "/var/folders/ft/tdx4j_ks1s33pn4xyp1nq6km0000gn/T/ipykernel_93420/3843766324.py:109: UserWarning: /Volumes/图图/DMID-kaggle/archive/sementic-mask/IMG191_mask.png is a low contrast image\n",
      "  io.imsave(output_mask_path, mask)\n"
     ]
    },
    {
     "name": "stdout",
     "output_type": "stream",
     "text": [
      "Image IMG199, Center Point (572, 2661), Test Result: -1.0\n",
      "Image IMG199, Center Point (572, 2661), Test Result: 1.0\n",
      "Abnormality: CIRC, Class ID: 1\n"
     ]
    },
    {
     "name": "stderr",
     "output_type": "stream",
     "text": [
      "/var/folders/ft/tdx4j_ks1s33pn4xyp1nq6km0000gn/T/ipykernel_93420/3843766324.py:109: UserWarning: /Volumes/图图/DMID-kaggle/archive/sementic-mask/IMG199_mask.png is a low contrast image\n",
      "  io.imsave(output_mask_path, mask)\n"
     ]
    },
    {
     "name": "stdout",
     "output_type": "stream",
     "text": [
      "Image IMG199, Center Point (1036, 3709), Test Result: 1.0\n",
      "Abnormality: CIRC, Class ID: 1\n",
      "Image IMG200, Center Point (4321, 1887), Test Result: 1.0\n",
      "Abnormality: CIRC, Class ID: 1\n"
     ]
    },
    {
     "name": "stderr",
     "output_type": "stream",
     "text": [
      "/var/folders/ft/tdx4j_ks1s33pn4xyp1nq6km0000gn/T/ipykernel_93420/3843766324.py:109: UserWarning: /Volumes/图图/DMID-kaggle/archive/sementic-mask/IMG200_mask.png is a low contrast image\n",
      "  io.imsave(output_mask_path, mask)\n"
     ]
    },
    {
     "name": "stdout",
     "output_type": "stream",
     "text": [
      "Image IMG201, Center Point (747, 3033), Test Result: -1.0\n",
      "Image IMG201, Center Point (747, 3033), Test Result: 1.0\n",
      "Abnormality: MISC, Class ID: 4\n"
     ]
    },
    {
     "name": "stderr",
     "output_type": "stream",
     "text": [
      "/var/folders/ft/tdx4j_ks1s33pn4xyp1nq6km0000gn/T/ipykernel_93420/3843766324.py:109: UserWarning: /Volumes/图图/DMID-kaggle/archive/sementic-mask/IMG201_mask.png is a low contrast image\n",
      "  io.imsave(output_mask_path, mask)\n"
     ]
    },
    {
     "name": "stdout",
     "output_type": "stream",
     "text": [
      "Image IMG201, Center Point (814, 3921), Test Result: 1.0\n",
      "Abnormality: CIRC, Class ID: 1\n",
      "Image IMG202, Center Point (3700, 2543), Test Result: 1.0\n",
      "Abnormality: CIRC, Class ID: 1\n"
     ]
    },
    {
     "name": "stderr",
     "output_type": "stream",
     "text": [
      "/var/folders/ft/tdx4j_ks1s33pn4xyp1nq6km0000gn/T/ipykernel_93420/3843766324.py:109: UserWarning: /Volumes/图图/DMID-kaggle/archive/sementic-mask/IMG202_mask.png is a low contrast image\n",
      "  io.imsave(output_mask_path, mask)\n"
     ]
    },
    {
     "name": "stdout",
     "output_type": "stream",
     "text": [
      "Image IMG203, Center Point (205, 2241), Test Result: 1.0\n",
      "Abnormality: CALC, Class ID: 3\n"
     ]
    },
    {
     "name": "stderr",
     "output_type": "stream",
     "text": [
      "/var/folders/ft/tdx4j_ks1s33pn4xyp1nq6km0000gn/T/ipykernel_93420/3843766324.py:109: UserWarning: /Volumes/图图/DMID-kaggle/archive/sementic-mask/IMG203_mask.png is a low contrast image\n",
      "  io.imsave(output_mask_path, mask)\n"
     ]
    },
    {
     "name": "stdout",
     "output_type": "stream",
     "text": [
      "Image IMG204, Center Point (3024, 3683), Test Result: 1.0\n",
      "Abnormality: CALC, Class ID: 3\n"
     ]
    },
    {
     "name": "stderr",
     "output_type": "stream",
     "text": [
      "/var/folders/ft/tdx4j_ks1s33pn4xyp1nq6km0000gn/T/ipykernel_93420/3843766324.py:109: UserWarning: /Volumes/图图/DMID-kaggle/archive/sementic-mask/IMG204_mask.png is a low contrast image\n",
      "  io.imsave(output_mask_path, mask)\n"
     ]
    },
    {
     "name": "stdout",
     "output_type": "stream",
     "text": [
      "Image IMG205, Center Point (300, 3025), Test Result: 1.0\n",
      "Abnormality: CALC, Class ID: 3\n"
     ]
    },
    {
     "name": "stderr",
     "output_type": "stream",
     "text": [
      "/var/folders/ft/tdx4j_ks1s33pn4xyp1nq6km0000gn/T/ipykernel_93420/3843766324.py:109: UserWarning: /Volumes/图图/DMID-kaggle/archive/sementic-mask/IMG205_mask.png is a low contrast image\n",
      "  io.imsave(output_mask_path, mask)\n"
     ]
    },
    {
     "name": "stdout",
     "output_type": "stream",
     "text": [
      "Image IMG206, Center Point (3537, 4828), Test Result: 1.0\n",
      "Abnormality: CALC, Class ID: 3\n"
     ]
    },
    {
     "name": "stderr",
     "output_type": "stream",
     "text": [
      "/var/folders/ft/tdx4j_ks1s33pn4xyp1nq6km0000gn/T/ipykernel_93420/3843766324.py:109: UserWarning: /Volumes/图图/DMID-kaggle/archive/sementic-mask/IMG206_mask.png is a low contrast image\n",
      "  io.imsave(output_mask_path, mask)\n"
     ]
    },
    {
     "name": "stdout",
     "output_type": "stream",
     "text": [
      "Image IMG219, Center Point (337, 3144), Test Result: 1.0\n",
      "Abnormality: CIRC, Class ID: 1\n"
     ]
    },
    {
     "name": "stderr",
     "output_type": "stream",
     "text": [
      "/var/folders/ft/tdx4j_ks1s33pn4xyp1nq6km0000gn/T/ipykernel_93420/3843766324.py:109: UserWarning: /Volumes/图图/DMID-kaggle/archive/sementic-mask/IMG219_mask.png is a low contrast image\n",
      "  io.imsave(output_mask_path, mask)\n"
     ]
    },
    {
     "name": "stdout",
     "output_type": "stream",
     "text": [
      "Image IMG220, Center Point (3813, 1671), Test Result: 1.0\n",
      "Abnormality: SPIC, Class ID: 2\n"
     ]
    },
    {
     "name": "stderr",
     "output_type": "stream",
     "text": [
      "/var/folders/ft/tdx4j_ks1s33pn4xyp1nq6km0000gn/T/ipykernel_93420/3843766324.py:109: UserWarning: /Volumes/图图/DMID-kaggle/archive/sementic-mask/IMG220_mask.png is a low contrast image\n",
      "  io.imsave(output_mask_path, mask)\n"
     ]
    },
    {
     "name": "stdout",
     "output_type": "stream",
     "text": [
      "Image IMG222, Center Point (2989, 2406), Test Result: 1.0\n",
      "Abnormality: SPIC, Class ID: 2\n"
     ]
    },
    {
     "name": "stderr",
     "output_type": "stream",
     "text": [
      "/var/folders/ft/tdx4j_ks1s33pn4xyp1nq6km0000gn/T/ipykernel_93420/3843766324.py:109: UserWarning: /Volumes/图图/DMID-kaggle/archive/sementic-mask/IMG222_mask.png is a low contrast image\n",
      "  io.imsave(output_mask_path, mask)\n"
     ]
    },
    {
     "name": "stdout",
     "output_type": "stream",
     "text": [
      "Image IMG232, Center Point (4428, 1151), Test Result: 1.0\n",
      "Abnormality: CIRC, Class ID: 1\n"
     ]
    },
    {
     "name": "stderr",
     "output_type": "stream",
     "text": [
      "/var/folders/ft/tdx4j_ks1s33pn4xyp1nq6km0000gn/T/ipykernel_93420/3843766324.py:109: UserWarning: /Volumes/图图/DMID-kaggle/archive/sementic-mask/IMG232_mask.png is a low contrast image\n",
      "  io.imsave(output_mask_path, mask)\n"
     ]
    },
    {
     "name": "stdout",
     "output_type": "stream",
     "text": [
      "Image IMG233, Center Point (1223, 2914), Test Result: 1.0\n",
      "Abnormality: CIRC, Class ID: 1\n"
     ]
    },
    {
     "name": "stderr",
     "output_type": "stream",
     "text": [
      "/var/folders/ft/tdx4j_ks1s33pn4xyp1nq6km0000gn/T/ipykernel_93420/3843766324.py:109: UserWarning: /Volumes/图图/DMID-kaggle/archive/sementic-mask/IMG233_mask.png is a low contrast image\n",
      "  io.imsave(output_mask_path, mask)\n"
     ]
    },
    {
     "name": "stdout",
     "output_type": "stream",
     "text": [
      "Image IMG233, Center Point (1363, 3028), Test Result: 1.0\n",
      "Abnormality: CIRC, Class ID: 1\n",
      "Image IMG234, Center Point (3774, 2557), Test Result: 1.0\n",
      "Abnormality: CIRC, Class ID: 1\n"
     ]
    },
    {
     "name": "stderr",
     "output_type": "stream",
     "text": [
      "/var/folders/ft/tdx4j_ks1s33pn4xyp1nq6km0000gn/T/ipykernel_93420/3843766324.py:109: UserWarning: /Volumes/图图/DMID-kaggle/archive/sementic-mask/IMG234_mask.png is a low contrast image\n",
      "  io.imsave(output_mask_path, mask)\n"
     ]
    },
    {
     "name": "stdout",
     "output_type": "stream",
     "text": [
      "Image IMG237, Center Point (495, 2194), Test Result: 1.0\n",
      "Abnormality: CIRC, Class ID: 1\n"
     ]
    },
    {
     "name": "stderr",
     "output_type": "stream",
     "text": [
      "/var/folders/ft/tdx4j_ks1s33pn4xyp1nq6km0000gn/T/ipykernel_93420/3843766324.py:109: UserWarning: /Volumes/图图/DMID-kaggle/archive/sementic-mask/IMG237_mask.png is a low contrast image\n",
      "  io.imsave(output_mask_path, mask)\n"
     ]
    },
    {
     "name": "stdout",
     "output_type": "stream",
     "text": [
      "Image IMG251, Center Point (579, 1804), Test Result: 1.0\n",
      "Abnormality: CIRC, Class ID: 1\n"
     ]
    },
    {
     "name": "stderr",
     "output_type": "stream",
     "text": [
      "/var/folders/ft/tdx4j_ks1s33pn4xyp1nq6km0000gn/T/ipykernel_93420/3843766324.py:109: UserWarning: /Volumes/图图/DMID-kaggle/archive/sementic-mask/IMG251_mask.png is a low contrast image\n",
      "  io.imsave(output_mask_path, mask)\n"
     ]
    },
    {
     "name": "stdout",
     "output_type": "stream",
     "text": [
      "Image IMG252, Center Point (4323, 3054), Test Result: -1.0\n",
      "Image IMG252, Center Point (4323, 3054), Test Result: 1.0\n",
      "Abnormality: CIRC, Class ID: 1\n"
     ]
    },
    {
     "name": "stderr",
     "output_type": "stream",
     "text": [
      "/var/folders/ft/tdx4j_ks1s33pn4xyp1nq6km0000gn/T/ipykernel_93420/3843766324.py:109: UserWarning: /Volumes/图图/DMID-kaggle/archive/sementic-mask/IMG252_mask.png is a low contrast image\n",
      "  io.imsave(output_mask_path, mask)\n"
     ]
    },
    {
     "name": "stdout",
     "output_type": "stream",
     "text": [
      "Image IMG252, Center Point (2961, 3432), Test Result: 1.0\n",
      "Abnormality: CIRC, Class ID: 1\n",
      "Image IMG253, Center Point (1196, 2423), Test Result: 1.0\n",
      "Abnormality: CIRC, Class ID: 1\n"
     ]
    },
    {
     "name": "stderr",
     "output_type": "stream",
     "text": [
      "/var/folders/ft/tdx4j_ks1s33pn4xyp1nq6km0000gn/T/ipykernel_93420/3843766324.py:109: UserWarning: /Volumes/图图/DMID-kaggle/archive/sementic-mask/IMG253_mask.png is a low contrast image\n",
      "  io.imsave(output_mask_path, mask)\n"
     ]
    },
    {
     "name": "stdout",
     "output_type": "stream",
     "text": [
      "Image IMG254, Center Point (3227, 4423), Test Result: 1.0\n",
      "Abnormality: CIRC, Class ID: 1\n"
     ]
    },
    {
     "name": "stderr",
     "output_type": "stream",
     "text": [
      "/var/folders/ft/tdx4j_ks1s33pn4xyp1nq6km0000gn/T/ipykernel_93420/3843766324.py:109: UserWarning: /Volumes/图图/DMID-kaggle/archive/sementic-mask/IMG254_mask.png is a low contrast image\n",
      "  io.imsave(output_mask_path, mask)\n"
     ]
    },
    {
     "name": "stdout",
     "output_type": "stream",
     "text": [
      "Image IMG254, Center Point (4605, 3997), Test Result: -1.0\n",
      "Image IMG254, Center Point (4605, 3997), Test Result: 1.0\n",
      "Abnormality: CIRC, Class ID: 1\n",
      "Image IMG255, Center Point (476, 3718), Test Result: 1.0\n",
      "Abnormality: MISC, Class ID: 4\n"
     ]
    },
    {
     "name": "stderr",
     "output_type": "stream",
     "text": [
      "/var/folders/ft/tdx4j_ks1s33pn4xyp1nq6km0000gn/T/ipykernel_93420/3843766324.py:109: UserWarning: /Volumes/图图/DMID-kaggle/archive/sementic-mask/IMG255_mask.png is a low contrast image\n",
      "  io.imsave(output_mask_path, mask)\n"
     ]
    },
    {
     "name": "stdout",
     "output_type": "stream",
     "text": [
      "Image IMG272, Center Point (3621, 1298), Test Result: 1.0\n",
      "Abnormality: CIRC, Class ID: 1\n"
     ]
    },
    {
     "name": "stderr",
     "output_type": "stream",
     "text": [
      "/var/folders/ft/tdx4j_ks1s33pn4xyp1nq6km0000gn/T/ipykernel_93420/3843766324.py:109: UserWarning: /Volumes/图图/DMID-kaggle/archive/sementic-mask/IMG272_mask.png is a low contrast image\n",
      "  io.imsave(output_mask_path, mask)\n"
     ]
    },
    {
     "name": "stdout",
     "output_type": "stream",
     "text": [
      "Image IMG274, Center Point (885, 2580), Test Result: -1.0\n",
      "Image IMG274, Center Point (885, 2580), Test Result: 1.0\n",
      "Abnormality: CIRC, Class ID: 1\n"
     ]
    },
    {
     "name": "stderr",
     "output_type": "stream",
     "text": [
      "/var/folders/ft/tdx4j_ks1s33pn4xyp1nq6km0000gn/T/ipykernel_93420/3843766324.py:109: UserWarning: /Volumes/图图/DMID-kaggle/archive/sementic-mask/IMG274_mask.png is a low contrast image\n",
      "  io.imsave(output_mask_path, mask)\n"
     ]
    },
    {
     "name": "stdout",
     "output_type": "stream",
     "text": [
      "Image IMG277, Center Point (1281, 3943), Test Result: 1.0\n",
      "Abnormality: MISC, Class ID: 4\n"
     ]
    },
    {
     "name": "stderr",
     "output_type": "stream",
     "text": [
      "/var/folders/ft/tdx4j_ks1s33pn4xyp1nq6km0000gn/T/ipykernel_93420/3843766324.py:109: UserWarning: /Volumes/图图/DMID-kaggle/archive/sementic-mask/IMG277_mask.png is a low contrast image\n",
      "  io.imsave(output_mask_path, mask)\n"
     ]
    },
    {
     "name": "stdout",
     "output_type": "stream",
     "text": [
      "Image IMG277, Center Point (784, 3207), Test Result: -1.0\n",
      "Image IMG277, Center Point (784, 3207), Test Result: 1.0\n",
      "Abnormality: MISC, Class ID: 4\n",
      "Image IMG278, Center Point (3411, 3058), Test Result: -1.0\n",
      "Image IMG278, Center Point (3411, 3058), Test Result: 1.0\n",
      "Abnormality: CALC, Class ID: 3\n"
     ]
    },
    {
     "name": "stderr",
     "output_type": "stream",
     "text": [
      "/var/folders/ft/tdx4j_ks1s33pn4xyp1nq6km0000gn/T/ipykernel_93420/3843766324.py:109: UserWarning: /Volumes/图图/DMID-kaggle/archive/sementic-mask/IMG278_mask.png is a low contrast image\n",
      "  io.imsave(output_mask_path, mask)\n"
     ]
    },
    {
     "name": "stdout",
     "output_type": "stream",
     "text": [
      "Image IMG278, Center Point (3240, 2455), Test Result: -1.0\n",
      "Image IMG278, Center Point (3240, 2455), Test Result: 1.0\n",
      "Abnormality: MISC, Class ID: 4\n",
      "Image IMG278, Center Point (3922, 2264), Test Result: -1.0\n",
      "Image IMG278, Center Point (3922, 2264), Test Result: -1.0\n",
      "Image IMG278, Center Point (3922, 2264), Test Result: 1.0\n",
      "Abnormality: MISC, Class ID: 4\n",
      "Image IMG278, Center Point (4277, 2342), Test Result: 1.0\n",
      "Abnormality: MISC, Class ID: 4\n",
      "Image IMG279, Center Point (3550, 2786), Test Result: 1.0\n",
      "Abnormality: CALC, Class ID: 3\n"
     ]
    },
    {
     "name": "stderr",
     "output_type": "stream",
     "text": [
      "/var/folders/ft/tdx4j_ks1s33pn4xyp1nq6km0000gn/T/ipykernel_93420/3843766324.py:109: UserWarning: /Volumes/图图/DMID-kaggle/archive/sementic-mask/IMG279_mask.png is a low contrast image\n",
      "  io.imsave(output_mask_path, mask)\n"
     ]
    },
    {
     "name": "stdout",
     "output_type": "stream",
     "text": [
      "Image IMG279, Center Point (3982, 2396), Test Result: 1.0\n",
      "Abnormality: MISC, Class ID: 4\n",
      "Image IMG279, Center Point (4268, 1887), Test Result: -1.0\n",
      "Image IMG279, Center Point (4268, 1887), Test Result: 1.0\n",
      "Abnormality: MISC, Class ID: 4\n",
      "Image IMG283, Center Point (613, 3684), Test Result: 1.0\n",
      "Abnormality: MISC, Class ID: 4\n"
     ]
    },
    {
     "name": "stderr",
     "output_type": "stream",
     "text": [
      "/var/folders/ft/tdx4j_ks1s33pn4xyp1nq6km0000gn/T/ipykernel_93420/3843766324.py:109: UserWarning: /Volumes/图图/DMID-kaggle/archive/sementic-mask/IMG283_mask.png is a low contrast image\n",
      "  io.imsave(output_mask_path, mask)\n"
     ]
    },
    {
     "name": "stdout",
     "output_type": "stream",
     "text": [
      "Image IMG283, Center Point (985, 3309), Test Result: -1.0\n",
      "Image IMG283, Center Point (985, 3309), Test Result: 1.0\n",
      "Abnormality: MISC, Class ID: 4\n",
      "Image IMG284, Center Point (693, 3490), Test Result: 1.0\n",
      "Abnormality: MISC, Class ID: 4\n"
     ]
    },
    {
     "name": "stderr",
     "output_type": "stream",
     "text": [
      "/var/folders/ft/tdx4j_ks1s33pn4xyp1nq6km0000gn/T/ipykernel_93420/3843766324.py:109: UserWarning: /Volumes/图图/DMID-kaggle/archive/sementic-mask/IMG284_mask.png is a low contrast image\n",
      "  io.imsave(output_mask_path, mask)\n"
     ]
    },
    {
     "name": "stdout",
     "output_type": "stream",
     "text": [
      "Image IMG284, Center Point (941, 3145), Test Result: -1.0\n",
      "Image IMG284, Center Point (941, 3145), Test Result: 1.0\n",
      "Abnormality: MISC, Class ID: 4\n",
      "Image IMG286, Center Point (3646, 3821), Test Result: 1.0\n",
      "Abnormality: CALC, Class ID: 3\n"
     ]
    },
    {
     "name": "stderr",
     "output_type": "stream",
     "text": [
      "/var/folders/ft/tdx4j_ks1s33pn4xyp1nq6km0000gn/T/ipykernel_93420/3843766324.py:109: UserWarning: /Volumes/图图/DMID-kaggle/archive/sementic-mask/IMG286_mask.png is a low contrast image\n",
      "  io.imsave(output_mask_path, mask)\n"
     ]
    },
    {
     "name": "stdout",
     "output_type": "stream",
     "text": [
      "Image IMG286, Center Point (3846, 3404), Test Result: -1.0\n",
      "Image IMG286, Center Point (3846, 3404), Test Result: 1.0\n",
      "Abnormality: CALC, Class ID: 3\n",
      "Image IMG286, Center Point (3992, 3045), Test Result: -1.0\n",
      "Image IMG286, Center Point (3992, 3045), Test Result: -1.0\n",
      "Image IMG286, Center Point (3992, 3045), Test Result: 1.0\n",
      "Abnormality: CALC, Class ID: 3\n",
      "Image IMG286, Center Point (3512, 2183), Test Result: -1.0\n",
      "Image IMG286, Center Point (3512, 2183), Test Result: -1.0\n",
      "Image IMG286, Center Point (3512, 2183), Test Result: -1.0\n",
      "Image IMG286, Center Point (3512, 2183), Test Result: 1.0\n",
      "Abnormality: CALC, Class ID: 3\n",
      "Image IMG286, Center Point (4083, 1330), Test Result: -1.0\n",
      "Image IMG286, Center Point (4083, 1330), Test Result: -1.0\n",
      "Image IMG286, Center Point (4083, 1330), Test Result: -1.0\n",
      "Image IMG286, Center Point (4083, 1330), Test Result: -1.0\n",
      "Image IMG286, Center Point (4083, 1330), Test Result: -1.0\n",
      "Image IMG286, Center Point (4083, 1330), Test Result: 1.0\n",
      "Abnormality: CALC, Class ID: 3\n",
      "Image IMG286, Center Point (3580, 1932), Test Result: -1.0\n",
      "Image IMG286, Center Point (3580, 1932), Test Result: -1.0\n",
      "Image IMG286, Center Point (3580, 1932), Test Result: -1.0\n",
      "Image IMG286, Center Point (3580, 1932), Test Result: -1.0\n",
      "Image IMG286, Center Point (3580, 1932), Test Result: 1.0\n",
      "Abnormality: CALC, Class ID: 3\n",
      "Image IMG288, Center Point (4031, 4752), Test Result: 1.0\n",
      "Abnormality: CALC, Class ID: 3\n"
     ]
    },
    {
     "name": "stderr",
     "output_type": "stream",
     "text": [
      "/var/folders/ft/tdx4j_ks1s33pn4xyp1nq6km0000gn/T/ipykernel_93420/3843766324.py:109: UserWarning: /Volumes/图图/DMID-kaggle/archive/sementic-mask/IMG288_mask.png is a low contrast image\n",
      "  io.imsave(output_mask_path, mask)\n"
     ]
    },
    {
     "name": "stdout",
     "output_type": "stream",
     "text": [
      "Image IMG288, Center Point (4075, 4049), Test Result: -1.0\n",
      "Image IMG288, Center Point (4075, 4049), Test Result: 1.0\n",
      "Abnormality: CALC, Class ID: 3\n",
      "Image IMG288, Center Point (3303, 3897), Test Result: -1.0\n",
      "Image IMG288, Center Point (3303, 3897), Test Result: -1.0\n",
      "Image IMG288, Center Point (3303, 3897), Test Result: 1.0\n",
      "Abnormality: CALC, Class ID: 3\n",
      "Image IMG288, Center Point (3708, 3588), Test Result: -1.0\n",
      "Image IMG288, Center Point (3708, 3588), Test Result: -1.0\n",
      "Image IMG288, Center Point (3708, 3588), Test Result: -1.0\n",
      "Image IMG288, Center Point (3708, 3588), Test Result: 1.0\n",
      "Abnormality: CALC, Class ID: 3\n",
      "Image IMG288, Center Point (2880, 3218), Test Result: -1.0\n",
      "Image IMG288, Center Point (2880, 3218), Test Result: -1.0\n",
      "Image IMG288, Center Point (2880, 3218), Test Result: -1.0\n",
      "Image IMG288, Center Point (2880, 3218), Test Result: -1.0\n",
      "Image IMG288, Center Point (2880, 3218), Test Result: 1.0\n",
      "Abnormality: CALC, Class ID: 3\n",
      "Image IMG288, Center Point (3846, 3276), Test Result: -1.0\n",
      "Image IMG288, Center Point (3846, 3276), Test Result: -1.0\n",
      "Image IMG288, Center Point (3846, 3276), Test Result: -1.0\n",
      "Image IMG288, Center Point (3846, 3276), Test Result: 1.0\n",
      "Abnormality: CALC, Class ID: 3\n",
      "Image IMG290, Center Point (905, 3967), Test Result: 1.0\n",
      "Abnormality: CIRC, Class ID: 1\n"
     ]
    },
    {
     "name": "stderr",
     "output_type": "stream",
     "text": [
      "/var/folders/ft/tdx4j_ks1s33pn4xyp1nq6km0000gn/T/ipykernel_93420/3843766324.py:109: UserWarning: /Volumes/图图/DMID-kaggle/archive/sementic-mask/IMG290_mask.png is a low contrast image\n",
      "  io.imsave(output_mask_path, mask)\n"
     ]
    },
    {
     "name": "stdout",
     "output_type": "stream",
     "text": [
      "Image IMG291, Center Point (3742, 2308), Test Result: 1.0\n",
      "Abnormality: CIRC, Class ID: 1\n"
     ]
    },
    {
     "name": "stderr",
     "output_type": "stream",
     "text": [
      "/var/folders/ft/tdx4j_ks1s33pn4xyp1nq6km0000gn/T/ipykernel_93420/3843766324.py:109: UserWarning: /Volumes/图图/DMID-kaggle/archive/sementic-mask/IMG291_mask.png is a low contrast image\n",
      "  io.imsave(output_mask_path, mask)\n"
     ]
    },
    {
     "name": "stdout",
     "output_type": "stream",
     "text": [
      "Image IMG292, Center Point (764, 3561), Test Result: 1.0\n",
      "Abnormality: CIRC, Class ID: 1\n"
     ]
    },
    {
     "name": "stderr",
     "output_type": "stream",
     "text": [
      "/var/folders/ft/tdx4j_ks1s33pn4xyp1nq6km0000gn/T/ipykernel_93420/3843766324.py:109: UserWarning: /Volumes/图图/DMID-kaggle/archive/sementic-mask/IMG292_mask.png is a low contrast image\n",
      "  io.imsave(output_mask_path, mask)\n"
     ]
    },
    {
     "name": "stdout",
     "output_type": "stream",
     "text": [
      "Image IMG294, Center Point (3570, 2011), Test Result: 1.0\n",
      "Abnormality: SPIC, Class ID: 2\n"
     ]
    },
    {
     "name": "stderr",
     "output_type": "stream",
     "text": [
      "/var/folders/ft/tdx4j_ks1s33pn4xyp1nq6km0000gn/T/ipykernel_93420/3843766324.py:109: UserWarning: /Volumes/图图/DMID-kaggle/archive/sementic-mask/IMG294_mask.png is a low contrast image\n",
      "  io.imsave(output_mask_path, mask)\n"
     ]
    },
    {
     "name": "stdout",
     "output_type": "stream",
     "text": [
      "Image IMG295, Center Point (3123, 3122), Test Result: 1.0\n",
      "Abnormality: SPIC, Class ID: 2\n"
     ]
    },
    {
     "name": "stderr",
     "output_type": "stream",
     "text": [
      "/var/folders/ft/tdx4j_ks1s33pn4xyp1nq6km0000gn/T/ipykernel_93420/3843766324.py:109: UserWarning: /Volumes/图图/DMID-kaggle/archive/sementic-mask/IMG295_mask.png is a low contrast image\n",
      "  io.imsave(output_mask_path, mask)\n"
     ]
    },
    {
     "name": "stdout",
     "output_type": "stream",
     "text": [
      "Image IMG296, Center Point (336, 1868), Test Result: -1.0\n",
      "Image IMG296, Center Point (336, 1868), Test Result: 1.0\n",
      "Abnormality: SPIC, Class ID: 2\n"
     ]
    },
    {
     "name": "stderr",
     "output_type": "stream",
     "text": [
      "/var/folders/ft/tdx4j_ks1s33pn4xyp1nq6km0000gn/T/ipykernel_93420/3843766324.py:109: UserWarning: /Volumes/图图/DMID-kaggle/archive/sementic-mask/IMG296_mask.png is a low contrast image\n",
      "  io.imsave(output_mask_path, mask)\n"
     ]
    },
    {
     "name": "stdout",
     "output_type": "stream",
     "text": [
      "Image IMG296, Center Point (324, 1405), Test Result: -1.0\n",
      "Image IMG296, Center Point (324, 1405), Test Result: -1.0\n",
      "Image IMG296, Center Point (324, 1405), Test Result: 1.0\n",
      "Abnormality: MISC, Class ID: 4\n",
      "Image IMG297, Center Point (100, 3167), Test Result: 1.0\n",
      "Abnormality: SPIC, Class ID: 2\n"
     ]
    },
    {
     "name": "stderr",
     "output_type": "stream",
     "text": [
      "/var/folders/ft/tdx4j_ks1s33pn4xyp1nq6km0000gn/T/ipykernel_93420/3843766324.py:109: UserWarning: /Volumes/图图/DMID-kaggle/archive/sementic-mask/IMG297_mask.png is a low contrast image\n",
      "  io.imsave(output_mask_path, mask)\n"
     ]
    },
    {
     "name": "stdout",
     "output_type": "stream",
     "text": [
      "Image IMG298, Center Point (934, 2972), Test Result: 1.0\n",
      "Abnormality: MISC, Class ID: 4\n"
     ]
    },
    {
     "name": "stderr",
     "output_type": "stream",
     "text": [
      "/var/folders/ft/tdx4j_ks1s33pn4xyp1nq6km0000gn/T/ipykernel_93420/3843766324.py:109: UserWarning: /Volumes/图图/DMID-kaggle/archive/sementic-mask/IMG298_mask.png is a low contrast image\n",
      "  io.imsave(output_mask_path, mask)\n"
     ]
    },
    {
     "name": "stdout",
     "output_type": "stream",
     "text": [
      "Image IMG299, Center Point (1199, 2982), Test Result: 1.0\n",
      "Abnormality: MISC, Class ID: 4\n"
     ]
    },
    {
     "name": "stderr",
     "output_type": "stream",
     "text": [
      "/var/folders/ft/tdx4j_ks1s33pn4xyp1nq6km0000gn/T/ipykernel_93420/3843766324.py:109: UserWarning: /Volumes/图图/DMID-kaggle/archive/sementic-mask/IMG299_mask.png is a low contrast image\n",
      "  io.imsave(output_mask_path, mask)\n"
     ]
    },
    {
     "name": "stdout",
     "output_type": "stream",
     "text": [
      "Image IMG306, Center Point (2982, 2874), Test Result: 1.0\n",
      "Abnormality: CIRC, Class ID: 1\n"
     ]
    },
    {
     "name": "stderr",
     "output_type": "stream",
     "text": [
      "/var/folders/ft/tdx4j_ks1s33pn4xyp1nq6km0000gn/T/ipykernel_93420/3843766324.py:109: UserWarning: /Volumes/图图/DMID-kaggle/archive/sementic-mask/IMG306_mask.png is a low contrast image\n",
      "  io.imsave(output_mask_path, mask)\n"
     ]
    },
    {
     "name": "stdout",
     "output_type": "stream",
     "text": [
      "Image IMG307, Center Point (2940, 4137), Test Result: 1.0\n",
      "Abnormality: CIRC, Class ID: 1\n"
     ]
    },
    {
     "name": "stderr",
     "output_type": "stream",
     "text": [
      "/var/folders/ft/tdx4j_ks1s33pn4xyp1nq6km0000gn/T/ipykernel_93420/3843766324.py:109: UserWarning: /Volumes/图图/DMID-kaggle/archive/sementic-mask/IMG307_mask.png is a low contrast image\n",
      "  io.imsave(output_mask_path, mask)\n"
     ]
    },
    {
     "name": "stdout",
     "output_type": "stream",
     "text": [
      "Image IMG308, Center Point (1345, 2540), Test Result: 1.0\n",
      "Abnormality: CIRC, Class ID: 1\n"
     ]
    },
    {
     "name": "stderr",
     "output_type": "stream",
     "text": [
      "/var/folders/ft/tdx4j_ks1s33pn4xyp1nq6km0000gn/T/ipykernel_93420/3843766324.py:109: UserWarning: /Volumes/图图/DMID-kaggle/archive/sementic-mask/IMG308_mask.png is a low contrast image\n",
      "  io.imsave(output_mask_path, mask)\n"
     ]
    },
    {
     "name": "stdout",
     "output_type": "stream",
     "text": [
      "Image IMG309, Center Point (330, 2933), Test Result: 1.0\n",
      "Abnormality: CIRC, Class ID: 1\n"
     ]
    },
    {
     "name": "stderr",
     "output_type": "stream",
     "text": [
      "/var/folders/ft/tdx4j_ks1s33pn4xyp1nq6km0000gn/T/ipykernel_93420/3843766324.py:109: UserWarning: /Volumes/图图/DMID-kaggle/archive/sementic-mask/IMG309_mask.png is a low contrast image\n",
      "  io.imsave(output_mask_path, mask)\n"
     ]
    },
    {
     "name": "stdout",
     "output_type": "stream",
     "text": [
      "Image IMG310, Center Point (3146, 843), Test Result: 1.0\n",
      "Abnormality: CIRC, Class ID: 1\n"
     ]
    },
    {
     "name": "stderr",
     "output_type": "stream",
     "text": [
      "/var/folders/ft/tdx4j_ks1s33pn4xyp1nq6km0000gn/T/ipykernel_93420/3843766324.py:109: UserWarning: /Volumes/图图/DMID-kaggle/archive/sementic-mask/IMG310_mask.png is a low contrast image\n",
      "  io.imsave(output_mask_path, mask)\n"
     ]
    },
    {
     "name": "stdout",
     "output_type": "stream",
     "text": [
      "Image IMG311, Center Point (826, 2635), Test Result: -1.0\n",
      "Image IMG311, Center Point (826, 2635), Test Result: 1.0\n",
      "Abnormality: CIRC, Class ID: 1\n"
     ]
    },
    {
     "name": "stderr",
     "output_type": "stream",
     "text": [
      "/var/folders/ft/tdx4j_ks1s33pn4xyp1nq6km0000gn/T/ipykernel_93420/3843766324.py:109: UserWarning: /Volumes/图图/DMID-kaggle/archive/sementic-mask/IMG311_mask.png is a low contrast image\n",
      "  io.imsave(output_mask_path, mask)\n"
     ]
    },
    {
     "name": "stdout",
     "output_type": "stream",
     "text": [
      "Image IMG312, Center Point (3383, 2603), Test Result: 1.0\n",
      "Abnormality: CIRC, Class ID: 1\n"
     ]
    },
    {
     "name": "stderr",
     "output_type": "stream",
     "text": [
      "/var/folders/ft/tdx4j_ks1s33pn4xyp1nq6km0000gn/T/ipykernel_93420/3843766324.py:109: UserWarning: /Volumes/图图/DMID-kaggle/archive/sementic-mask/IMG312_mask.png is a low contrast image\n",
      "  io.imsave(output_mask_path, mask)\n"
     ]
    },
    {
     "name": "stdout",
     "output_type": "stream",
     "text": [
      "Image IMG315, Center Point (4056, 1587), Test Result: 1.0\n",
      "Abnormality: MISC, Class ID: 4\n"
     ]
    },
    {
     "name": "stderr",
     "output_type": "stream",
     "text": [
      "/var/folders/ft/tdx4j_ks1s33pn4xyp1nq6km0000gn/T/ipykernel_93420/3843766324.py:109: UserWarning: /Volumes/图图/DMID-kaggle/archive/sementic-mask/IMG315_mask.png is a low contrast image\n",
      "  io.imsave(output_mask_path, mask)\n"
     ]
    },
    {
     "name": "stdout",
     "output_type": "stream",
     "text": [
      "Image IMG316, Center Point (4654, 2047), Test Result: 1.0\n",
      "Abnormality: MISC, Class ID: 4\n"
     ]
    },
    {
     "name": "stderr",
     "output_type": "stream",
     "text": [
      "/var/folders/ft/tdx4j_ks1s33pn4xyp1nq6km0000gn/T/ipykernel_93420/3843766324.py:109: UserWarning: /Volumes/图图/DMID-kaggle/archive/sementic-mask/IMG316_mask.png is a low contrast image\n",
      "  io.imsave(output_mask_path, mask)\n"
     ]
    },
    {
     "name": "stdout",
     "output_type": "stream",
     "text": [
      "Image IMG317, Center Point (4342, 2224), Test Result: 1.0\n",
      "Abnormality: MISC, Class ID: 4\n"
     ]
    },
    {
     "name": "stderr",
     "output_type": "stream",
     "text": [
      "/var/folders/ft/tdx4j_ks1s33pn4xyp1nq6km0000gn/T/ipykernel_93420/3843766324.py:109: UserWarning: /Volumes/图图/DMID-kaggle/archive/sementic-mask/IMG317_mask.png is a low contrast image\n",
      "  io.imsave(output_mask_path, mask)\n"
     ]
    },
    {
     "name": "stdout",
     "output_type": "stream",
     "text": [
      "Image IMG318, Center Point (1758, 2978), Test Result: 1.0\n",
      "Abnormality: MISC, Class ID: 4\n"
     ]
    },
    {
     "name": "stderr",
     "output_type": "stream",
     "text": [
      "/var/folders/ft/tdx4j_ks1s33pn4xyp1nq6km0000gn/T/ipykernel_93420/3843766324.py:109: UserWarning: /Volumes/图图/DMID-kaggle/archive/sementic-mask/IMG318_mask.png is a low contrast image\n",
      "  io.imsave(output_mask_path, mask)\n"
     ]
    },
    {
     "name": "stdout",
     "output_type": "stream",
     "text": [
      "Image IMG319, Center Point (1797, 3342), Test Result: 1.0\n",
      "Abnormality: CIRC, Class ID: 1\n"
     ]
    },
    {
     "name": "stderr",
     "output_type": "stream",
     "text": [
      "/var/folders/ft/tdx4j_ks1s33pn4xyp1nq6km0000gn/T/ipykernel_93420/3843766324.py:109: UserWarning: /Volumes/图图/DMID-kaggle/archive/sementic-mask/IMG319_mask.png is a low contrast image\n",
      "  io.imsave(output_mask_path, mask)\n"
     ]
    },
    {
     "name": "stdout",
     "output_type": "stream",
     "text": [
      "Image IMG320, Center Point (3512, 2879), Test Result: 1.0\n",
      "Abnormality: CIRC, Class ID: 1\n"
     ]
    },
    {
     "name": "stderr",
     "output_type": "stream",
     "text": [
      "/var/folders/ft/tdx4j_ks1s33pn4xyp1nq6km0000gn/T/ipykernel_93420/3843766324.py:109: UserWarning: /Volumes/图图/DMID-kaggle/archive/sementic-mask/IMG320_mask.png is a low contrast image\n",
      "  io.imsave(output_mask_path, mask)\n"
     ]
    },
    {
     "name": "stdout",
     "output_type": "stream",
     "text": [
      "Image IMG325, Center Point (4520, 1869), Test Result: 1.0\n",
      "Abnormality: CIRC, Class ID: 1\n"
     ]
    },
    {
     "name": "stderr",
     "output_type": "stream",
     "text": [
      "/var/folders/ft/tdx4j_ks1s33pn4xyp1nq6km0000gn/T/ipykernel_93420/3843766324.py:109: UserWarning: /Volumes/图图/DMID-kaggle/archive/sementic-mask/IMG325_mask.png is a low contrast image\n",
      "  io.imsave(output_mask_path, mask)\n"
     ]
    },
    {
     "name": "stdout",
     "output_type": "stream",
     "text": [
      "Image IMG326, Center Point (807, 3290), Test Result: 1.0\n",
      "Abnormality: MISC, Class ID: 4\n"
     ]
    },
    {
     "name": "stderr",
     "output_type": "stream",
     "text": [
      "/var/folders/ft/tdx4j_ks1s33pn4xyp1nq6km0000gn/T/ipykernel_93420/3843766324.py:109: UserWarning: /Volumes/图图/DMID-kaggle/archive/sementic-mask/IMG326_mask.png is a low contrast image\n",
      "  io.imsave(output_mask_path, mask)\n"
     ]
    },
    {
     "name": "stdout",
     "output_type": "stream",
     "text": [
      "Image IMG326, Center Point (670, 2557), Test Result: -1.0\n",
      "Image IMG326, Center Point (670, 2557), Test Result: 1.0\n",
      "Abnormality: CIRC, Class ID: 1\n",
      "Image IMG327, Center Point (716, 3726), Test Result: 1.0\n",
      "Abnormality: MISC, Class ID: 4\n"
     ]
    },
    {
     "name": "stderr",
     "output_type": "stream",
     "text": [
      "/var/folders/ft/tdx4j_ks1s33pn4xyp1nq6km0000gn/T/ipykernel_93420/3843766324.py:109: UserWarning: /Volumes/图图/DMID-kaggle/archive/sementic-mask/IMG327_mask.png is a low contrast image\n",
      "  io.imsave(output_mask_path, mask)\n"
     ]
    },
    {
     "name": "stdout",
     "output_type": "stream",
     "text": [
      "Image IMG331, Center Point (1215, 2385), Test Result: 1.0\n",
      "Abnormality: SPIC, Class ID: 2\n"
     ]
    },
    {
     "name": "stderr",
     "output_type": "stream",
     "text": [
      "/var/folders/ft/tdx4j_ks1s33pn4xyp1nq6km0000gn/T/ipykernel_93420/3843766324.py:109: UserWarning: /Volumes/图图/DMID-kaggle/archive/sementic-mask/IMG331_mask.png is a low contrast image\n",
      "  io.imsave(output_mask_path, mask)\n"
     ]
    },
    {
     "name": "stdout",
     "output_type": "stream",
     "text": [
      "Image IMG331, Center Point (131, 2049), Test Result: -1.0\n",
      "Image IMG331, Center Point (131, 2049), Test Result: 1.0\n",
      "Abnormality: CIRC, Class ID: 1\n",
      "Image IMG333, Center Point (1151, 3309), Test Result: 1.0\n",
      "Abnormality: MISC, Class ID: 4\n"
     ]
    },
    {
     "name": "stderr",
     "output_type": "stream",
     "text": [
      "/var/folders/ft/tdx4j_ks1s33pn4xyp1nq6km0000gn/T/ipykernel_93420/3843766324.py:109: UserWarning: /Volumes/图图/DMID-kaggle/archive/sementic-mask/IMG333_mask.png is a low contrast image\n",
      "  io.imsave(output_mask_path, mask)\n"
     ]
    },
    {
     "name": "stdout",
     "output_type": "stream",
     "text": [
      "Image IMG333, Center Point (643, 2364), Test Result: -1.0\n",
      "Image IMG333, Center Point (643, 2364), Test Result: 1.0\n",
      "Abnormality: MISC, Class ID: 4\n",
      "Image IMG339, Center Point (4100, 1275), Test Result: 1.0\n",
      "Abnormality: CIRC, Class ID: 1\n"
     ]
    },
    {
     "name": "stderr",
     "output_type": "stream",
     "text": [
      "/var/folders/ft/tdx4j_ks1s33pn4xyp1nq6km0000gn/T/ipykernel_93420/3843766324.py:109: UserWarning: /Volumes/图图/DMID-kaggle/archive/sementic-mask/IMG339_mask.png is a low contrast image\n",
      "  io.imsave(output_mask_path, mask)\n"
     ]
    },
    {
     "name": "stdout",
     "output_type": "stream",
     "text": [
      "Image IMG342, Center Point (3791, 2393), Test Result: 1.0\n",
      "Abnormality: CIRC, Class ID: 1\n"
     ]
    },
    {
     "name": "stderr",
     "output_type": "stream",
     "text": [
      "/var/folders/ft/tdx4j_ks1s33pn4xyp1nq6km0000gn/T/ipykernel_93420/3843766324.py:109: UserWarning: /Volumes/图图/DMID-kaggle/archive/sementic-mask/IMG342_mask.png is a low contrast image\n",
      "  io.imsave(output_mask_path, mask)\n"
     ]
    },
    {
     "name": "stdout",
     "output_type": "stream",
     "text": [
      "Image IMG355, Center Point (474, 3790), Test Result: 1.0\n",
      "Abnormality: CALC, Class ID: 3\n"
     ]
    },
    {
     "name": "stderr",
     "output_type": "stream",
     "text": [
      "/var/folders/ft/tdx4j_ks1s33pn4xyp1nq6km0000gn/T/ipykernel_93420/3843766324.py:109: UserWarning: /Volumes/图图/DMID-kaggle/archive/sementic-mask/IMG355_mask.png is a low contrast image\n",
      "  io.imsave(output_mask_path, mask)\n"
     ]
    },
    {
     "name": "stdout",
     "output_type": "stream",
     "text": [
      "Image IMG355, Center Point (527, 3249), Test Result: -1.0\n",
      "Image IMG355, Center Point (527, 3249), Test Result: 1.0\n",
      "Abnormality: CALC, Class ID: 3\n",
      "Image IMG355, Center Point (617, 2566), Test Result: -1.0\n",
      "Image IMG355, Center Point (617, 2566), Test Result: -1.0\n",
      "Image IMG355, Center Point (617, 2566), Test Result: -1.0\n",
      "Image IMG355, Center Point (617, 2566), Test Result: 1.0\n",
      "Abnormality: CALC, Class ID: 3\n",
      "Image IMG355, Center Point (191, 2942), Test Result: -1.0\n",
      "Image IMG355, Center Point (191, 2942), Test Result: -1.0\n",
      "Image IMG355, Center Point (191, 2942), Test Result: 1.0\n",
      "Abnormality: CALC, Class ID: 3\n",
      "Image IMG356, Center Point (3772, 3083), Test Result: -1.0\n",
      "Image IMG356, Center Point (3772, 3083), Test Result: -1.0\n",
      "No contour found for image IMG356 with center point (3772, 3083)\n"
     ]
    },
    {
     "name": "stderr",
     "output_type": "stream",
     "text": [
      "/var/folders/ft/tdx4j_ks1s33pn4xyp1nq6km0000gn/T/ipykernel_93420/3843766324.py:109: UserWarning: /Volumes/图图/DMID-kaggle/archive/sementic-mask/IMG356_mask.png is a low contrast image\n",
      "  io.imsave(output_mask_path, mask)\n"
     ]
    },
    {
     "name": "stdout",
     "output_type": "stream",
     "text": [
      "Image IMG356, Center Point (4422, 3905), Test Result: 1.0\n",
      "Abnormality: CALC, Class ID: 3\n",
      "Image IMG356, Center Point (4305, 2739), Test Result: -1.0\n",
      "Image IMG356, Center Point (4305, 2739), Test Result: 1.0\n",
      "Abnormality: CALC, Class ID: 3\n",
      "Image IMG357, Center Point (437, 3504), Test Result: 1.0\n",
      "Abnormality: CALC, Class ID: 3\n"
     ]
    },
    {
     "name": "stderr",
     "output_type": "stream",
     "text": [
      "/var/folders/ft/tdx4j_ks1s33pn4xyp1nq6km0000gn/T/ipykernel_93420/3843766324.py:109: UserWarning: /Volumes/图图/DMID-kaggle/archive/sementic-mask/IMG357_mask.png is a low contrast image\n",
      "  io.imsave(output_mask_path, mask)\n"
     ]
    },
    {
     "name": "stdout",
     "output_type": "stream",
     "text": [
      "Image IMG357, Center Point (877, 3016), Test Result: -1.0\n",
      "Image IMG357, Center Point (877, 3016), Test Result: -1.0\n",
      "Image IMG357, Center Point (877, 3016), Test Result: 1.0\n",
      "Abnormality: CALC, Class ID: 3\n",
      "Image IMG357, Center Point (630, 2955), Test Result: -1.0\n",
      "Image IMG357, Center Point (630, 2955), Test Result: -1.0\n",
      "Image IMG357, Center Point (630, 2955), Test Result: -1.0\n",
      "Image IMG357, Center Point (630, 2955), Test Result: 1.0\n",
      "Abnormality: CALC, Class ID: 3\n",
      "Image IMG357, Center Point (251, 2925), Test Result: -1.0\n",
      "Image IMG357, Center Point (251, 2925), Test Result: -1.0\n",
      "Image IMG357, Center Point (251, 2925), Test Result: -1.0\n",
      "Image IMG357, Center Point (251, 2925), Test Result: -1.0\n",
      "Image IMG357, Center Point (251, 2925), Test Result: 1.0\n",
      "Abnormality: CALC, Class ID: 3\n",
      "Image IMG357, Center Point (147, 3315), Test Result: -1.0\n",
      "Image IMG357, Center Point (147, 3315), Test Result: 1.0\n",
      "Abnormality: CALC, Class ID: 3\n",
      "Image IMG358, Center Point (3920, 2805), Test Result: -1.0\n",
      "Image IMG358, Center Point (3920, 2805), Test Result: -1.0\n",
      "Image IMG358, Center Point (3920, 2805), Test Result: -1.0\n",
      "Image IMG358, Center Point (3920, 2805), Test Result: 1.0\n",
      "Abnormality: CALC, Class ID: 3\n"
     ]
    },
    {
     "name": "stderr",
     "output_type": "stream",
     "text": [
      "/var/folders/ft/tdx4j_ks1s33pn4xyp1nq6km0000gn/T/ipykernel_93420/3843766324.py:109: UserWarning: /Volumes/图图/DMID-kaggle/archive/sementic-mask/IMG358_mask.png is a low contrast image\n",
      "  io.imsave(output_mask_path, mask)\n"
     ]
    },
    {
     "name": "stdout",
     "output_type": "stream",
     "text": [
      "Image IMG358, Center Point (4250, 2829), Test Result: -1.0\n",
      "Image IMG358, Center Point (4250, 2829), Test Result: -1.0\n",
      "Image IMG358, Center Point (4250, 2829), Test Result: 1.0\n",
      "Abnormality: CALC, Class ID: 3\n",
      "Image IMG358, Center Point (4099, 3112), Test Result: -1.0\n",
      "Image IMG358, Center Point (4099, 3112), Test Result: 1.0\n",
      "Abnormality: CALC, Class ID: 3\n",
      "Image IMG358, Center Point (4089, 3461), Test Result: 1.0\n",
      "Abnormality: CALC, Class ID: 3\n",
      "Image IMG360, Center Point (3022, 3079), Test Result: 1.0\n",
      "Abnormality: CALC, Class ID: 3\n"
     ]
    },
    {
     "name": "stderr",
     "output_type": "stream",
     "text": [
      "/var/folders/ft/tdx4j_ks1s33pn4xyp1nq6km0000gn/T/ipykernel_93420/3843766324.py:109: UserWarning: /Volumes/图图/DMID-kaggle/archive/sementic-mask/IMG360_mask.png is a low contrast image\n",
      "  io.imsave(output_mask_path, mask)\n"
     ]
    },
    {
     "name": "stdout",
     "output_type": "stream",
     "text": [
      "Image IMG362, Center Point (2684, 3412), Test Result: 1.0\n",
      "Abnormality: CALC, Class ID: 3\n"
     ]
    },
    {
     "name": "stderr",
     "output_type": "stream",
     "text": [
      "/var/folders/ft/tdx4j_ks1s33pn4xyp1nq6km0000gn/T/ipykernel_93420/3843766324.py:109: UserWarning: /Volumes/图图/DMID-kaggle/archive/sementic-mask/IMG362_mask.png is a low contrast image\n",
      "  io.imsave(output_mask_path, mask)\n"
     ]
    },
    {
     "name": "stdout",
     "output_type": "stream",
     "text": [
      "Image IMG367, Center Point (1121, 2331), Test Result: -1.0\n",
      "Image IMG367, Center Point (1121, 2331), Test Result: -1.0\n",
      "Image IMG367, Center Point (1121, 2331), Test Result: -1.0\n",
      "Image IMG367, Center Point (1121, 2331), Test Result: 1.0\n",
      "Abnormality: CIRC, Class ID: 1\n"
     ]
    },
    {
     "name": "stderr",
     "output_type": "stream",
     "text": [
      "/var/folders/ft/tdx4j_ks1s33pn4xyp1nq6km0000gn/T/ipykernel_93420/3843766324.py:109: UserWarning: /Volumes/图图/DMID-kaggle/archive/sementic-mask/IMG367_mask.png is a low contrast image\n",
      "  io.imsave(output_mask_path, mask)\n"
     ]
    },
    {
     "name": "stdout",
     "output_type": "stream",
     "text": [
      "Image IMG367, Center Point (1671, 3422), Test Result: -1.0\n",
      "Image IMG367, Center Point (1671, 3422), Test Result: -1.0\n",
      "Image IMG367, Center Point (1671, 3422), Test Result: 1.0\n",
      "Abnormality: CIRC, Class ID: 1\n",
      "Image IMG367, Center Point (1051, 3942), Test Result: -1.0\n",
      "Image IMG367, Center Point (1051, 3942), Test Result: 1.0\n",
      "Abnormality: CIRC, Class ID: 1\n",
      "Image IMG367, Center Point (1356, 4139), Test Result: 1.0\n",
      "Abnormality: CIRC, Class ID: 1\n",
      "Image IMG369, Center Point (1753, 2931), Test Result: -1.0\n",
      "Image IMG369, Center Point (1753, 2931), Test Result: -1.0\n",
      "Image IMG369, Center Point (1753, 2931), Test Result: 1.0\n",
      "Abnormality: CIRC, Class ID: 1\n"
     ]
    },
    {
     "name": "stderr",
     "output_type": "stream",
     "text": [
      "/var/folders/ft/tdx4j_ks1s33pn4xyp1nq6km0000gn/T/ipykernel_93420/3843766324.py:109: UserWarning: /Volumes/图图/DMID-kaggle/archive/sementic-mask/IMG369_mask.png is a low contrast image\n",
      "  io.imsave(output_mask_path, mask)\n"
     ]
    },
    {
     "name": "stdout",
     "output_type": "stream",
     "text": [
      "Image IMG369, Center Point (810, 3688), Test Result: 1.0\n",
      "Abnormality: CIRC, Class ID: 1\n",
      "Image IMG369, Center Point (2216, 3687), Test Result: -1.0\n",
      "Image IMG369, Center Point (2216, 3687), Test Result: 1.0\n",
      "Abnormality: CIRC, Class ID: 1\n",
      "Image IMG383, Center Point (1217, 3484), Test Result: 1.0\n",
      "Abnormality: MISC, Class ID: 4\n"
     ]
    },
    {
     "name": "stderr",
     "output_type": "stream",
     "text": [
      "/var/folders/ft/tdx4j_ks1s33pn4xyp1nq6km0000gn/T/ipykernel_93420/3843766324.py:109: UserWarning: /Volumes/图图/DMID-kaggle/archive/sementic-mask/IMG383_mask.png is a low contrast image\n",
      "  io.imsave(output_mask_path, mask)\n"
     ]
    },
    {
     "name": "stdout",
     "output_type": "stream",
     "text": [
      "Image IMG383, Center Point (971, 2454), Test Result: -1.0\n",
      "Image IMG383, Center Point (971, 2454), Test Result: 1.0\n",
      "Abnormality: MISC, Class ID: 4\n",
      "Image IMG385, Center Point (1364, 3674), Test Result: 1.0\n",
      "Abnormality: MISC, Class ID: 4\n"
     ]
    },
    {
     "name": "stderr",
     "output_type": "stream",
     "text": [
      "/var/folders/ft/tdx4j_ks1s33pn4xyp1nq6km0000gn/T/ipykernel_93420/3843766324.py:109: UserWarning: /Volumes/图图/DMID-kaggle/archive/sementic-mask/IMG385_mask.png is a low contrast image\n",
      "  io.imsave(output_mask_path, mask)\n"
     ]
    },
    {
     "name": "stdout",
     "output_type": "stream",
     "text": [
      "Image IMG394, Center Point (4243, 1757), Test Result: 1.0\n",
      "Abnormality: CIRC, Class ID: 1\n"
     ]
    },
    {
     "name": "stderr",
     "output_type": "stream",
     "text": [
      "/var/folders/ft/tdx4j_ks1s33pn4xyp1nq6km0000gn/T/ipykernel_93420/3843766324.py:109: UserWarning: /Volumes/图图/DMID-kaggle/archive/sementic-mask/IMG394_mask.png is a low contrast image\n",
      "  io.imsave(output_mask_path, mask)\n"
     ]
    },
    {
     "name": "stdout",
     "output_type": "stream",
     "text": [
      "Image IMG401, Center Point (392, 3491), Test Result: 1.0\n",
      "Abnormality: SPIC, Class ID: 2\n"
     ]
    },
    {
     "name": "stderr",
     "output_type": "stream",
     "text": [
      "/var/folders/ft/tdx4j_ks1s33pn4xyp1nq6km0000gn/T/ipykernel_93420/3843766324.py:109: UserWarning: /Volumes/图图/DMID-kaggle/archive/sementic-mask/IMG401_mask.png is a low contrast image\n",
      "  io.imsave(output_mask_path, mask)\n"
     ]
    },
    {
     "name": "stdout",
     "output_type": "stream",
     "text": [
      "Image IMG402, Center Point (3482, 3481), Test Result: 1.0\n",
      "Abnormality: MISC, Class ID: 4\n"
     ]
    },
    {
     "name": "stderr",
     "output_type": "stream",
     "text": [
      "/var/folders/ft/tdx4j_ks1s33pn4xyp1nq6km0000gn/T/ipykernel_93420/3843766324.py:109: UserWarning: /Volumes/图图/DMID-kaggle/archive/sementic-mask/IMG402_mask.png is a low contrast image\n",
      "  io.imsave(output_mask_path, mask)\n"
     ]
    },
    {
     "name": "stdout",
     "output_type": "stream",
     "text": [
      "Image IMG403, Center Point (2930, 3299), Test Result: 1.0\n",
      "Abnormality: MISC, Class ID: 4\n"
     ]
    },
    {
     "name": "stderr",
     "output_type": "stream",
     "text": [
      "/var/folders/ft/tdx4j_ks1s33pn4xyp1nq6km0000gn/T/ipykernel_93420/3843766324.py:109: UserWarning: /Volumes/图图/DMID-kaggle/archive/sementic-mask/IMG403_mask.png is a low contrast image\n",
      "  io.imsave(output_mask_path, mask)\n"
     ]
    },
    {
     "name": "stdout",
     "output_type": "stream",
     "text": [
      "Image IMG404, Center Point (794, 2281), Test Result: 1.0\n",
      "Abnormality: MISC, Class ID: 4\n"
     ]
    },
    {
     "name": "stderr",
     "output_type": "stream",
     "text": [
      "/var/folders/ft/tdx4j_ks1s33pn4xyp1nq6km0000gn/T/ipykernel_93420/3843766324.py:109: UserWarning: /Volumes/图图/DMID-kaggle/archive/sementic-mask/IMG404_mask.png is a low contrast image\n",
      "  io.imsave(output_mask_path, mask)\n"
     ]
    },
    {
     "name": "stdout",
     "output_type": "stream",
     "text": [
      "Image IMG407, Center Point (3474, 1743), Test Result: -1.0\n",
      "Image IMG407, Center Point (3474, 1743), Test Result: -1.0\n",
      "Image IMG407, Center Point (3474, 1743), Test Result: 1.0\n",
      "Abnormality: CIRC, Class ID: 1\n"
     ]
    },
    {
     "name": "stderr",
     "output_type": "stream",
     "text": [
      "/var/folders/ft/tdx4j_ks1s33pn4xyp1nq6km0000gn/T/ipykernel_93420/3843766324.py:109: UserWarning: /Volumes/图图/DMID-kaggle/archive/sementic-mask/IMG407_mask.png is a low contrast image\n",
      "  io.imsave(output_mask_path, mask)\n"
     ]
    },
    {
     "name": "stdout",
     "output_type": "stream",
     "text": [
      "Image IMG407, Center Point (4313, 1747), Test Result: -1.0\n",
      "Image IMG407, Center Point (4313, 1747), Test Result: 1.0\n",
      "Abnormality: CIRC, Class ID: 1\n",
      "Image IMG407, Center Point (4697, 3826), Test Result: 1.0\n",
      "Abnormality: CIRC, Class ID: 1\n",
      "Image IMG408, Center Point (1581, 3123), Test Result: 1.0\n",
      "Abnormality: CIRC, Class ID: 1\n"
     ]
    },
    {
     "name": "stderr",
     "output_type": "stream",
     "text": [
      "/var/folders/ft/tdx4j_ks1s33pn4xyp1nq6km0000gn/T/ipykernel_93420/3843766324.py:109: UserWarning: /Volumes/图图/DMID-kaggle/archive/sementic-mask/IMG408_mask.png is a low contrast image\n",
      "  io.imsave(output_mask_path, mask)\n"
     ]
    },
    {
     "name": "stdout",
     "output_type": "stream",
     "text": [
      "Image IMG408, Center Point (350, 3144), Test Result: -1.0\n",
      "Image IMG408, Center Point (350, 3144), Test Result: 1.0\n",
      "Abnormality: CIRC, Class ID: 1\n",
      "Image IMG408, Center Point (523, 2873), Test Result: -1.0\n",
      "Image IMG408, Center Point (523, 2873), Test Result: 1.0\n",
      "Abnormality: CIRC, Class ID: 1\n",
      "Image IMG409, Center Point (1795, 3781), Test Result: -1.0\n",
      "Image IMG409, Center Point (1795, 3781), Test Result: -1.0\n",
      "Image IMG409, Center Point (1795, 3781), Test Result: 1.0\n",
      "Abnormality: CIRC, Class ID: 1\n"
     ]
    },
    {
     "name": "stderr",
     "output_type": "stream",
     "text": [
      "/var/folders/ft/tdx4j_ks1s33pn4xyp1nq6km0000gn/T/ipykernel_93420/3843766324.py:109: UserWarning: /Volumes/图图/DMID-kaggle/archive/sementic-mask/IMG409_mask.png is a low contrast image\n",
      "  io.imsave(output_mask_path, mask)\n"
     ]
    },
    {
     "name": "stdout",
     "output_type": "stream",
     "text": [
      "Image IMG409, Center Point (365, 4315), Test Result: -1.0\n",
      "Image IMG409, Center Point (365, 4315), Test Result: 1.0\n",
      "Abnormality: CIRC, Class ID: 1\n",
      "Image IMG409, Center Point (527, 4152), Test Result: -1.0\n",
      "Image IMG409, Center Point (527, 4152), Test Result: 1.0\n",
      "Abnormality: CIRC, Class ID: 1\n",
      "Image IMG409, Center Point (773, 4194), Test Result: 1.0\n",
      "Abnormality: CIRC, Class ID: 1\n",
      "Image IMG410, Center Point (2687, 2994), Test Result: 1.0\n",
      "Abnormality: CIRC, Class ID: 1\n"
     ]
    },
    {
     "name": "stderr",
     "output_type": "stream",
     "text": [
      "/var/folders/ft/tdx4j_ks1s33pn4xyp1nq6km0000gn/T/ipykernel_93420/3843766324.py:109: UserWarning: /Volumes/图图/DMID-kaggle/archive/sementic-mask/IMG410_mask.png is a low contrast image\n",
      "  io.imsave(output_mask_path, mask)\n"
     ]
    },
    {
     "name": "stdout",
     "output_type": "stream",
     "text": [
      "Image IMG410, Center Point (3200, 2413), Test Result: -1.0\n",
      "Image IMG410, Center Point (3200, 2413), Test Result: -1.0\n",
      "Image IMG410, Center Point (3200, 2413), Test Result: -1.0\n",
      "Image IMG410, Center Point (3200, 2413), Test Result: 1.0\n",
      "Abnormality: CIRC, Class ID: 1\n",
      "Image IMG410, Center Point (4409, 2445), Test Result: -1.0\n",
      "Image IMG410, Center Point (4409, 2445), Test Result: -1.0\n",
      "Image IMG410, Center Point (4409, 2445), Test Result: 1.0\n",
      "Abnormality: CIRC, Class ID: 1\n",
      "Image IMG410, Center Point (4655, 2858), Test Result: -1.0\n",
      "Image IMG410, Center Point (4655, 2858), Test Result: 1.0\n",
      "Abnormality: CIRC, Class ID: 1\n",
      "Image IMG411, Center Point (801, 3374), Test Result: 1.0\n",
      "Abnormality: MISC, Class ID: 4\n"
     ]
    },
    {
     "name": "stderr",
     "output_type": "stream",
     "text": [
      "/var/folders/ft/tdx4j_ks1s33pn4xyp1nq6km0000gn/T/ipykernel_93420/3843766324.py:109: UserWarning: /Volumes/图图/DMID-kaggle/archive/sementic-mask/IMG411_mask.png is a low contrast image\n",
      "  io.imsave(output_mask_path, mask)\n"
     ]
    },
    {
     "name": "stdout",
     "output_type": "stream",
     "text": [
      "Image IMG411, Center Point (1465, 3170), Test Result: 1.0\n",
      "Abnormality: CIRC, Class ID: 1\n",
      "Image IMG412, Center Point (488, 4089), Test Result: -1.0\n",
      "Image IMG412, Center Point (488, 4089), Test Result: 1.0\n",
      "Abnormality: MISC, Class ID: 4\n"
     ]
    },
    {
     "name": "stderr",
     "output_type": "stream",
     "text": [
      "/var/folders/ft/tdx4j_ks1s33pn4xyp1nq6km0000gn/T/ipykernel_93420/3843766324.py:109: UserWarning: /Volumes/图图/DMID-kaggle/archive/sementic-mask/IMG412_mask.png is a low contrast image\n",
      "  io.imsave(output_mask_path, mask)\n"
     ]
    },
    {
     "name": "stdout",
     "output_type": "stream",
     "text": [
      "Image IMG412, Center Point (1260, 3648), Test Result: -1.0\n",
      "Image IMG412, Center Point (1260, 3648), Test Result: -1.0\n",
      "Image IMG412, Center Point (1260, 3648), Test Result: 1.0\n",
      "Abnormality: MISC, Class ID: 4\n",
      "Image IMG412, Center Point (1197, 4082), Test Result: 1.0\n",
      "Abnormality: MISC, Class ID: 4\n",
      "Image IMG413, Center Point (4269, 3557), Test Result: 1.0\n",
      "Abnormality: SPIC, Class ID: 2\n"
     ]
    },
    {
     "name": "stderr",
     "output_type": "stream",
     "text": [
      "/var/folders/ft/tdx4j_ks1s33pn4xyp1nq6km0000gn/T/ipykernel_93420/3843766324.py:109: UserWarning: /Volumes/图图/DMID-kaggle/archive/sementic-mask/IMG413_mask.png is a low contrast image\n",
      "  io.imsave(output_mask_path, mask)\n"
     ]
    },
    {
     "name": "stdout",
     "output_type": "stream",
     "text": [
      "Image IMG413, Center Point (3857, 3184), Test Result: -1.0\n",
      "Image IMG413, Center Point (3857, 3184), Test Result: 1.0\n",
      "Abnormality: CIRC, Class ID: 1\n",
      "Image IMG414, Center Point (4414, 3117), Test Result: 1.0\n",
      "Abnormality: SPIC, Class ID: 2\n"
     ]
    },
    {
     "name": "stderr",
     "output_type": "stream",
     "text": [
      "/var/folders/ft/tdx4j_ks1s33pn4xyp1nq6km0000gn/T/ipykernel_93420/3843766324.py:109: UserWarning: /Volumes/图图/DMID-kaggle/archive/sementic-mask/IMG414_mask.png is a low contrast image\n",
      "  io.imsave(output_mask_path, mask)\n"
     ]
    },
    {
     "name": "stdout",
     "output_type": "stream",
     "text": [
      "Image IMG414, Center Point (3801, 3033), Test Result: 1.0\n",
      "Abnormality: CIRC, Class ID: 1\n",
      "Image IMG415, Center Point (3584, 2763), Test Result: -1.0\n",
      "Image IMG415, Center Point (3584, 2763), Test Result: 1.0\n",
      "Abnormality: CIRC, Class ID: 1\n"
     ]
    },
    {
     "name": "stderr",
     "output_type": "stream",
     "text": [
      "/var/folders/ft/tdx4j_ks1s33pn4xyp1nq6km0000gn/T/ipykernel_93420/3843766324.py:109: UserWarning: /Volumes/图图/DMID-kaggle/archive/sementic-mask/IMG415_mask.png is a low contrast image\n",
      "  io.imsave(output_mask_path, mask)\n"
     ]
    },
    {
     "name": "stdout",
     "output_type": "stream",
     "text": [
      "Image IMG416, Center Point (3205, 3273), Test Result: -1.0\n",
      "Image IMG416, Center Point (3205, 3273), Test Result: 1.0\n",
      "Abnormality: CIRC, Class ID: 1\n"
     ]
    },
    {
     "name": "stderr",
     "output_type": "stream",
     "text": [
      "/var/folders/ft/tdx4j_ks1s33pn4xyp1nq6km0000gn/T/ipykernel_93420/3843766324.py:109: UserWarning: /Volumes/图图/DMID-kaggle/archive/sementic-mask/IMG416_mask.png is a low contrast image\n",
      "  io.imsave(output_mask_path, mask)\n"
     ]
    },
    {
     "name": "stdout",
     "output_type": "stream",
     "text": [
      "Image IMG417, Center Point (806, 3256), Test Result: 1.0\n",
      "Abnormality: SPIC, Class ID: 2\n"
     ]
    },
    {
     "name": "stderr",
     "output_type": "stream",
     "text": [
      "/var/folders/ft/tdx4j_ks1s33pn4xyp1nq6km0000gn/T/ipykernel_93420/3843766324.py:109: UserWarning: /Volumes/图图/DMID-kaggle/archive/sementic-mask/IMG417_mask.png is a low contrast image\n",
      "  io.imsave(output_mask_path, mask)\n"
     ]
    },
    {
     "name": "stdout",
     "output_type": "stream",
     "text": [
      "Image IMG417, Center Point (988, 2855), Test Result: -1.0\n",
      "Image IMG417, Center Point (988, 2855), Test Result: 1.0\n",
      "Abnormality: MISC, Class ID: 4\n",
      "Image IMG418, Center Point (342, 3620), Test Result: 1.0\n",
      "Abnormality: SPIC, Class ID: 2\n"
     ]
    },
    {
     "name": "stderr",
     "output_type": "stream",
     "text": [
      "/var/folders/ft/tdx4j_ks1s33pn4xyp1nq6km0000gn/T/ipykernel_93420/3843766324.py:109: UserWarning: /Volumes/图图/DMID-kaggle/archive/sementic-mask/IMG418_mask.png is a low contrast image\n",
      "  io.imsave(output_mask_path, mask)\n"
     ]
    },
    {
     "name": "stdout",
     "output_type": "stream",
     "text": [
      "Image IMG419, Center Point (792, 4453), Test Result: 1.0\n",
      "Abnormality: CIRC, Class ID: 1\n"
     ]
    },
    {
     "name": "stderr",
     "output_type": "stream",
     "text": [
      "/var/folders/ft/tdx4j_ks1s33pn4xyp1nq6km0000gn/T/ipykernel_93420/3843766324.py:109: UserWarning: /Volumes/图图/DMID-kaggle/archive/sementic-mask/IMG419_mask.png is a low contrast image\n",
      "  io.imsave(output_mask_path, mask)\n"
     ]
    },
    {
     "name": "stdout",
     "output_type": "stream",
     "text": [
      "Image IMG419, Center Point (1177, 3286), Test Result: -1.0\n",
      "Image IMG419, Center Point (1177, 3286), Test Result: 1.0\n",
      "Abnormality: CIRC, Class ID: 1\n",
      "Image IMG419, Center Point (816, 3857), Test Result: 1.0\n",
      "Abnormality: CALC, Class ID: 3\n",
      "Image IMG420, Center Point (3661, 3877), Test Result: 1.0\n",
      "Abnormality: CIRC, Class ID: 1\n"
     ]
    },
    {
     "name": "stderr",
     "output_type": "stream",
     "text": [
      "/var/folders/ft/tdx4j_ks1s33pn4xyp1nq6km0000gn/T/ipykernel_93420/3843766324.py:109: UserWarning: /Volumes/图图/DMID-kaggle/archive/sementic-mask/IMG420_mask.png is a low contrast image\n",
      "  io.imsave(output_mask_path, mask)\n"
     ]
    },
    {
     "name": "stdout",
     "output_type": "stream",
     "text": [
      "Image IMG421, Center Point (497, 3854), Test Result: 1.0\n",
      "Abnormality: MISC, Class ID: 4\n"
     ]
    },
    {
     "name": "stderr",
     "output_type": "stream",
     "text": [
      "/var/folders/ft/tdx4j_ks1s33pn4xyp1nq6km0000gn/T/ipykernel_93420/3843766324.py:109: UserWarning: /Volumes/图图/DMID-kaggle/archive/sementic-mask/IMG421_mask.png is a low contrast image\n",
      "  io.imsave(output_mask_path, mask)\n"
     ]
    },
    {
     "name": "stdout",
     "output_type": "stream",
     "text": [
      "Image IMG421, Center Point (960, 3548), Test Result: 1.0\n",
      "Abnormality: CALC, Class ID: 3\n",
      "Image IMG422, Center Point (3246, 3504), Test Result: 1.0\n",
      "Abnormality: CIRC, Class ID: 1\n"
     ]
    },
    {
     "name": "stderr",
     "output_type": "stream",
     "text": [
      "/var/folders/ft/tdx4j_ks1s33pn4xyp1nq6km0000gn/T/ipykernel_93420/3843766324.py:109: UserWarning: /Volumes/图图/DMID-kaggle/archive/sementic-mask/IMG422_mask.png is a low contrast image\n",
      "  io.imsave(output_mask_path, mask)\n"
     ]
    },
    {
     "name": "stdout",
     "output_type": "stream",
     "text": [
      "Image IMG423, Center Point (3845, 4409), Test Result: 1.0\n",
      "Abnormality: CIRC, Class ID: 1\n"
     ]
    },
    {
     "name": "stderr",
     "output_type": "stream",
     "text": [
      "/var/folders/ft/tdx4j_ks1s33pn4xyp1nq6km0000gn/T/ipykernel_93420/3843766324.py:109: UserWarning: /Volumes/图图/DMID-kaggle/archive/sementic-mask/IMG423_mask.png is a low contrast image\n",
      "  io.imsave(output_mask_path, mask)\n"
     ]
    },
    {
     "name": "stdout",
     "output_type": "stream",
     "text": [
      "Image IMG424, Center Point (4281, 4072), Test Result: 1.0\n",
      "Abnormality: CIRC, Class ID: 1\n"
     ]
    },
    {
     "name": "stderr",
     "output_type": "stream",
     "text": [
      "/var/folders/ft/tdx4j_ks1s33pn4xyp1nq6km0000gn/T/ipykernel_93420/3843766324.py:109: UserWarning: /Volumes/图图/DMID-kaggle/archive/sementic-mask/IMG424_mask.png is a low contrast image\n",
      "  io.imsave(output_mask_path, mask)\n"
     ]
    },
    {
     "name": "stdout",
     "output_type": "stream",
     "text": [
      "Image IMG425, Center Point (596, 1944), Test Result: 1.0\n",
      "Abnormality: CIRC, Class ID: 1\n"
     ]
    },
    {
     "name": "stderr",
     "output_type": "stream",
     "text": [
      "/var/folders/ft/tdx4j_ks1s33pn4xyp1nq6km0000gn/T/ipykernel_93420/3843766324.py:109: UserWarning: /Volumes/图图/DMID-kaggle/archive/sementic-mask/IMG425_mask.png is a low contrast image\n",
      "  io.imsave(output_mask_path, mask)\n"
     ]
    },
    {
     "name": "stdout",
     "output_type": "stream",
     "text": [
      "Image IMG426, Center Point (1577, 2362), Test Result: 1.0\n",
      "Abnormality: CIRC, Class ID: 1\n"
     ]
    },
    {
     "name": "stderr",
     "output_type": "stream",
     "text": [
      "/var/folders/ft/tdx4j_ks1s33pn4xyp1nq6km0000gn/T/ipykernel_93420/3843766324.py:109: UserWarning: /Volumes/图图/DMID-kaggle/archive/sementic-mask/IMG426_mask.png is a low contrast image\n",
      "  io.imsave(output_mask_path, mask)\n"
     ]
    },
    {
     "name": "stdout",
     "output_type": "stream",
     "text": [
      "Image IMG427, Center Point (322, 4285), Test Result: 1.0\n",
      "Abnormality: MISC, Class ID: 4\n"
     ]
    },
    {
     "name": "stderr",
     "output_type": "stream",
     "text": [
      "/var/folders/ft/tdx4j_ks1s33pn4xyp1nq6km0000gn/T/ipykernel_93420/3843766324.py:109: UserWarning: /Volumes/图图/DMID-kaggle/archive/sementic-mask/IMG427_mask.png is a low contrast image\n",
      "  io.imsave(output_mask_path, mask)\n"
     ]
    },
    {
     "name": "stdout",
     "output_type": "stream",
     "text": [
      "Image IMG428, Center Point (477, 3501), Test Result: 1.0\n",
      "Abnormality: MISC, Class ID: 4\n"
     ]
    },
    {
     "name": "stderr",
     "output_type": "stream",
     "text": [
      "/var/folders/ft/tdx4j_ks1s33pn4xyp1nq6km0000gn/T/ipykernel_93420/3843766324.py:109: UserWarning: /Volumes/图图/DMID-kaggle/archive/sementic-mask/IMG428_mask.png is a low contrast image\n",
      "  io.imsave(output_mask_path, mask)\n"
     ]
    },
    {
     "name": "stdout",
     "output_type": "stream",
     "text": [
      "Image IMG429, Center Point (953, 2778), Test Result: 1.0\n",
      "Abnormality: CALC, Class ID: 3\n"
     ]
    },
    {
     "name": "stderr",
     "output_type": "stream",
     "text": [
      "/var/folders/ft/tdx4j_ks1s33pn4xyp1nq6km0000gn/T/ipykernel_93420/3843766324.py:109: UserWarning: /Volumes/图图/DMID-kaggle/archive/sementic-mask/IMG429_mask.png is a low contrast image\n",
      "  io.imsave(output_mask_path, mask)\n"
     ]
    },
    {
     "name": "stdout",
     "output_type": "stream",
     "text": [
      "Image IMG429, Center Point (911, 2377), Test Result: -1.0\n",
      "Image IMG429, Center Point (911, 2377), Test Result: 1.0\n",
      "Abnormality: CALC, Class ID: 3\n",
      "Image IMG430, Center Point (1015, 2813), Test Result: 1.0\n",
      "Abnormality: CALC, Class ID: 3\n"
     ]
    },
    {
     "name": "stderr",
     "output_type": "stream",
     "text": [
      "/var/folders/ft/tdx4j_ks1s33pn4xyp1nq6km0000gn/T/ipykernel_93420/3843766324.py:109: UserWarning: /Volumes/图图/DMID-kaggle/archive/sementic-mask/IMG430_mask.png is a low contrast image\n",
      "  io.imsave(output_mask_path, mask)\n"
     ]
    },
    {
     "name": "stdout",
     "output_type": "stream",
     "text": [
      "Image IMG431, Center Point (398, 3658), Test Result: 1.0\n",
      "Abnormality: CIRC, Class ID: 1\n"
     ]
    },
    {
     "name": "stderr",
     "output_type": "stream",
     "text": [
      "/var/folders/ft/tdx4j_ks1s33pn4xyp1nq6km0000gn/T/ipykernel_93420/3843766324.py:109: UserWarning: /Volumes/图图/DMID-kaggle/archive/sementic-mask/IMG431_mask.png is a low contrast image\n",
      "  io.imsave(output_mask_path, mask)\n"
     ]
    },
    {
     "name": "stdout",
     "output_type": "stream",
     "text": [
      "Image IMG432, Center Point (4320, 3282), Test Result: 1.0\n",
      "Abnormality: CIRC, Class ID: 1\n"
     ]
    },
    {
     "name": "stderr",
     "output_type": "stream",
     "text": [
      "/var/folders/ft/tdx4j_ks1s33pn4xyp1nq6km0000gn/T/ipykernel_93420/3843766324.py:109: UserWarning: /Volumes/图图/DMID-kaggle/archive/sementic-mask/IMG432_mask.png is a low contrast image\n",
      "  io.imsave(output_mask_path, mask)\n"
     ]
    },
    {
     "name": "stdout",
     "output_type": "stream",
     "text": [
      "Image IMG433, Center Point (311, 3334), Test Result: 1.0\n",
      "Abnormality: CIRC, Class ID: 1\n"
     ]
    },
    {
     "name": "stderr",
     "output_type": "stream",
     "text": [
      "/var/folders/ft/tdx4j_ks1s33pn4xyp1nq6km0000gn/T/ipykernel_93420/3843766324.py:109: UserWarning: /Volumes/图图/DMID-kaggle/archive/sementic-mask/IMG433_mask.png is a low contrast image\n",
      "  io.imsave(output_mask_path, mask)\n"
     ]
    },
    {
     "name": "stdout",
     "output_type": "stream",
     "text": [
      "Image IMG433, Center Point (604, 2831), Test Result: 1.0\n",
      "Abnormality: CIRC, Class ID: 1\n",
      "Image IMG434, Center Point (3981, 3358), Test Result: 1.0\n",
      "Abnormality: CIRC, Class ID: 1\n"
     ]
    },
    {
     "name": "stderr",
     "output_type": "stream",
     "text": [
      "/var/folders/ft/tdx4j_ks1s33pn4xyp1nq6km0000gn/T/ipykernel_93420/3843766324.py:109: UserWarning: /Volumes/图图/DMID-kaggle/archive/sementic-mask/IMG434_mask.png is a low contrast image\n",
      "  io.imsave(output_mask_path, mask)\n"
     ]
    },
    {
     "name": "stdout",
     "output_type": "stream",
     "text": [
      "Image IMG436, Center Point (84, 872), Test Result: 1.0\n",
      "Abnormality: SPIC, Class ID: 2\n"
     ]
    },
    {
     "name": "stderr",
     "output_type": "stream",
     "text": [
      "/var/folders/ft/tdx4j_ks1s33pn4xyp1nq6km0000gn/T/ipykernel_93420/3843766324.py:109: UserWarning: /Volumes/图图/DMID-kaggle/archive/sementic-mask/IMG436_mask.png is a low contrast image\n",
      "  io.imsave(output_mask_path, mask)\n"
     ]
    },
    {
     "name": "stdout",
     "output_type": "stream",
     "text": [
      "Image IMG437, Center Point (242, 1885), Test Result: 1.0\n",
      "Abnormality: CIRC, Class ID: 1\n"
     ]
    },
    {
     "name": "stderr",
     "output_type": "stream",
     "text": [
      "/var/folders/ft/tdx4j_ks1s33pn4xyp1nq6km0000gn/T/ipykernel_93420/3843766324.py:109: UserWarning: /Volumes/图图/DMID-kaggle/archive/sementic-mask/IMG437_mask.png is a low contrast image\n",
      "  io.imsave(output_mask_path, mask)\n"
     ]
    },
    {
     "name": "stdout",
     "output_type": "stream",
     "text": [
      "Image IMG438, Center Point (2873, 2410), Test Result: 1.0\n",
      "Abnormality: CIRC, Class ID: 1\n"
     ]
    },
    {
     "name": "stderr",
     "output_type": "stream",
     "text": [
      "/var/folders/ft/tdx4j_ks1s33pn4xyp1nq6km0000gn/T/ipykernel_93420/3843766324.py:109: UserWarning: /Volumes/图图/DMID-kaggle/archive/sementic-mask/IMG438_mask.png is a low contrast image\n",
      "  io.imsave(output_mask_path, mask)\n"
     ]
    },
    {
     "name": "stdout",
     "output_type": "stream",
     "text": [
      "Image IMG439, Center Point (1322, 1837), Test Result: 1.0\n",
      "Abnormality: CIRC, Class ID: 1\n"
     ]
    },
    {
     "name": "stderr",
     "output_type": "stream",
     "text": [
      "/var/folders/ft/tdx4j_ks1s33pn4xyp1nq6km0000gn/T/ipykernel_93420/3843766324.py:109: UserWarning: /Volumes/图图/DMID-kaggle/archive/sementic-mask/IMG439_mask.png is a low contrast image\n",
      "  io.imsave(output_mask_path, mask)\n"
     ]
    },
    {
     "name": "stdout",
     "output_type": "stream",
     "text": [
      "Image IMG440, Center Point (3563, 3390), Test Result: 1.0\n",
      "Abnormality: CIRC, Class ID: 1\n"
     ]
    },
    {
     "name": "stderr",
     "output_type": "stream",
     "text": [
      "/var/folders/ft/tdx4j_ks1s33pn4xyp1nq6km0000gn/T/ipykernel_93420/3843766324.py:109: UserWarning: /Volumes/图图/DMID-kaggle/archive/sementic-mask/IMG440_mask.png is a low contrast image\n",
      "  io.imsave(output_mask_path, mask)\n"
     ]
    },
    {
     "name": "stdout",
     "output_type": "stream",
     "text": [
      "Image IMG441, Center Point (604, 3032), Test Result: 1.0\n",
      "Abnormality: CIRC, Class ID: 1\n"
     ]
    },
    {
     "name": "stderr",
     "output_type": "stream",
     "text": [
      "/var/folders/ft/tdx4j_ks1s33pn4xyp1nq6km0000gn/T/ipykernel_93420/3843766324.py:109: UserWarning: /Volumes/图图/DMID-kaggle/archive/sementic-mask/IMG441_mask.png is a low contrast image\n",
      "  io.imsave(output_mask_path, mask)\n"
     ]
    },
    {
     "name": "stdout",
     "output_type": "stream",
     "text": [
      "Image IMG441, Center Point (646, 2551), Test Result: -1.0\n",
      "Image IMG441, Center Point (646, 2551), Test Result: 1.0\n",
      "Abnormality: CIRC, Class ID: 1\n",
      "Image IMG442, Center Point (295, 3934), Test Result: 1.0\n",
      "Abnormality: CIRC, Class ID: 1\n"
     ]
    },
    {
     "name": "stderr",
     "output_type": "stream",
     "text": [
      "/var/folders/ft/tdx4j_ks1s33pn4xyp1nq6km0000gn/T/ipykernel_93420/3843766324.py:109: UserWarning: /Volumes/图图/DMID-kaggle/archive/sementic-mask/IMG442_mask.png is a low contrast image\n",
      "  io.imsave(output_mask_path, mask)\n"
     ]
    },
    {
     "name": "stdout",
     "output_type": "stream",
     "text": [
      "Image IMG442, Center Point (448, 3534), Test Result: 1.0\n",
      "Abnormality: CIRC, Class ID: 1\n",
      "Image IMG445, Center Point (4547, 1082), Test Result: -1.0\n",
      "Image IMG445, Center Point (4547, 1082), Test Result: -1.0\n",
      "No contour found for image IMG445 with center point (4547, 1082)\n"
     ]
    },
    {
     "name": "stderr",
     "output_type": "stream",
     "text": [
      "/var/folders/ft/tdx4j_ks1s33pn4xyp1nq6km0000gn/T/ipykernel_93420/3843766324.py:109: UserWarning: /Volumes/图图/DMID-kaggle/archive/sementic-mask/IMG445_mask.png is a low contrast image\n",
      "  io.imsave(output_mask_path, mask)\n"
     ]
    },
    {
     "name": "stdout",
     "output_type": "stream",
     "text": [
      "Image IMG445, Center Point (3395, 3413), Test Result: 1.0\n",
      "Abnormality: CIRC, Class ID: 1\n",
      "Image IMG446, Center Point (4282, 2909), Test Result: -1.0\n",
      "Image IMG446, Center Point (4282, 2909), Test Result: 1.0\n",
      "Abnormality: SPIC, Class ID: 2\n"
     ]
    },
    {
     "name": "stderr",
     "output_type": "stream",
     "text": [
      "/var/folders/ft/tdx4j_ks1s33pn4xyp1nq6km0000gn/T/ipykernel_93420/3843766324.py:109: UserWarning: /Volumes/图图/DMID-kaggle/archive/sementic-mask/IMG446_mask.png is a low contrast image\n",
      "  io.imsave(output_mask_path, mask)\n"
     ]
    },
    {
     "name": "stdout",
     "output_type": "stream",
     "text": [
      "Image IMG446, Center Point (3695, 4292), Test Result: 1.0\n",
      "Abnormality: CIRC, Class ID: 1\n",
      "Image IMG446, Center Point (3766, 2198), Test Result: -1.0\n",
      "Image IMG446, Center Point (3766, 2198), Test Result: -1.0\n",
      "Image IMG446, Center Point (3766, 2198), Test Result: 1.0\n",
      "Abnormality: CIRC, Class ID: 1\n",
      "Image IMG450, Center Point (1324, 2604), Test Result: 1.0\n",
      "Abnormality: SPIC, Class ID: 2\n"
     ]
    },
    {
     "name": "stderr",
     "output_type": "stream",
     "text": [
      "/var/folders/ft/tdx4j_ks1s33pn4xyp1nq6km0000gn/T/ipykernel_93420/3843766324.py:109: UserWarning: /Volumes/图图/DMID-kaggle/archive/sementic-mask/IMG450_mask.png is a low contrast image\n",
      "  io.imsave(output_mask_path, mask)\n"
     ]
    },
    {
     "name": "stdout",
     "output_type": "stream",
     "text": [
      "Image IMG451, Center Point (943, 2168), Test Result: 1.0\n",
      "Abnormality: SPIC, Class ID: 2\n"
     ]
    },
    {
     "name": "stderr",
     "output_type": "stream",
     "text": [
      "/var/folders/ft/tdx4j_ks1s33pn4xyp1nq6km0000gn/T/ipykernel_93420/3843766324.py:109: UserWarning: /Volumes/图图/DMID-kaggle/archive/sementic-mask/IMG451_mask.png is a low contrast image\n",
      "  io.imsave(output_mask_path, mask)\n"
     ]
    },
    {
     "name": "stdout",
     "output_type": "stream",
     "text": [
      "Image IMG452, Center Point (28, 3503), Test Result: 1.0\n",
      "Abnormality: SPIC, Class ID: 2\n"
     ]
    },
    {
     "name": "stderr",
     "output_type": "stream",
     "text": [
      "/var/folders/ft/tdx4j_ks1s33pn4xyp1nq6km0000gn/T/ipykernel_93420/3843766324.py:109: UserWarning: /Volumes/图图/DMID-kaggle/archive/sementic-mask/IMG452_mask.png is a low contrast image\n",
      "  io.imsave(output_mask_path, mask)\n"
     ]
    },
    {
     "name": "stdout",
     "output_type": "stream",
     "text": [
      "Image IMG453, Center Point (108, 3409), Test Result: 1.0\n",
      "Abnormality: SPIC, Class ID: 2\n"
     ]
    },
    {
     "name": "stderr",
     "output_type": "stream",
     "text": [
      "/var/folders/ft/tdx4j_ks1s33pn4xyp1nq6km0000gn/T/ipykernel_93420/3843766324.py:109: UserWarning: /Volumes/图图/DMID-kaggle/archive/sementic-mask/IMG453_mask.png is a low contrast image\n",
      "  io.imsave(output_mask_path, mask)\n"
     ]
    },
    {
     "name": "stdout",
     "output_type": "stream",
     "text": [
      "Image IMG454, Center Point (1251, 2618), Test Result: 1.0\n",
      "Abnormality: SPIC, Class ID: 2\n"
     ]
    },
    {
     "name": "stderr",
     "output_type": "stream",
     "text": [
      "/var/folders/ft/tdx4j_ks1s33pn4xyp1nq6km0000gn/T/ipykernel_93420/3843766324.py:109: UserWarning: /Volumes/图图/DMID-kaggle/archive/sementic-mask/IMG454_mask.png is a low contrast image\n",
      "  io.imsave(output_mask_path, mask)\n"
     ]
    },
    {
     "name": "stdout",
     "output_type": "stream",
     "text": [
      "Image IMG455, Center Point (140, 2364), Test Result: 1.0\n",
      "Abnormality: SPIC, Class ID: 2\n"
     ]
    },
    {
     "name": "stderr",
     "output_type": "stream",
     "text": [
      "/var/folders/ft/tdx4j_ks1s33pn4xyp1nq6km0000gn/T/ipykernel_93420/3843766324.py:109: UserWarning: /Volumes/图图/DMID-kaggle/archive/sementic-mask/IMG455_mask.png is a low contrast image\n",
      "  io.imsave(output_mask_path, mask)\n"
     ]
    },
    {
     "name": "stdout",
     "output_type": "stream",
     "text": [
      "Image IMG456, Center Point (424, 2602), Test Result: 1.0\n",
      "Abnormality: SPIC, Class ID: 2\n"
     ]
    },
    {
     "name": "stderr",
     "output_type": "stream",
     "text": [
      "/var/folders/ft/tdx4j_ks1s33pn4xyp1nq6km0000gn/T/ipykernel_93420/3843766324.py:109: UserWarning: /Volumes/图图/DMID-kaggle/archive/sementic-mask/IMG456_mask.png is a low contrast image\n",
      "  io.imsave(output_mask_path, mask)\n"
     ]
    },
    {
     "name": "stdout",
     "output_type": "stream",
     "text": [
      "Image IMG457, Center Point (688, 2662), Test Result: 1.0\n",
      "Abnormality: CIRC, Class ID: 1\n"
     ]
    },
    {
     "name": "stderr",
     "output_type": "stream",
     "text": [
      "/var/folders/ft/tdx4j_ks1s33pn4xyp1nq6km0000gn/T/ipykernel_93420/3843766324.py:109: UserWarning: /Volumes/图图/DMID-kaggle/archive/sementic-mask/IMG457_mask.png is a low contrast image\n",
      "  io.imsave(output_mask_path, mask)\n"
     ]
    },
    {
     "name": "stdout",
     "output_type": "stream",
     "text": [
      "Image IMG458, Center Point (608, 2958), Test Result: 1.0\n",
      "Abnormality: CIRC, Class ID: 1\n"
     ]
    },
    {
     "name": "stderr",
     "output_type": "stream",
     "text": [
      "/var/folders/ft/tdx4j_ks1s33pn4xyp1nq6km0000gn/T/ipykernel_93420/3843766324.py:109: UserWarning: /Volumes/图图/DMID-kaggle/archive/sementic-mask/IMG458_mask.png is a low contrast image\n",
      "  io.imsave(output_mask_path, mask)\n"
     ]
    },
    {
     "name": "stdout",
     "output_type": "stream",
     "text": [
      "Image IMG465, Center Point (714, 3420), Test Result: 1.0\n",
      "Abnormality: CIRC, Class ID: 1\n"
     ]
    },
    {
     "name": "stderr",
     "output_type": "stream",
     "text": [
      "/var/folders/ft/tdx4j_ks1s33pn4xyp1nq6km0000gn/T/ipykernel_93420/3843766324.py:109: UserWarning: /Volumes/图图/DMID-kaggle/archive/sementic-mask/IMG465_mask.png is a low contrast image\n",
      "  io.imsave(output_mask_path, mask)\n"
     ]
    },
    {
     "name": "stdout",
     "output_type": "stream",
     "text": [
      "Image IMG466, Center Point (736, 2454), Test Result: 1.0\n",
      "Abnormality: CIRC, Class ID: 1\n"
     ]
    },
    {
     "name": "stderr",
     "output_type": "stream",
     "text": [
      "/var/folders/ft/tdx4j_ks1s33pn4xyp1nq6km0000gn/T/ipykernel_93420/3843766324.py:109: UserWarning: /Volumes/图图/DMID-kaggle/archive/sementic-mask/IMG466_mask.png is a low contrast image\n",
      "  io.imsave(output_mask_path, mask)\n"
     ]
    },
    {
     "name": "stdout",
     "output_type": "stream",
     "text": [
      "Image IMG467, Center Point (1523, 3270), Test Result: 1.0\n",
      "Abnormality: CIRC, Class ID: 1\n"
     ]
    },
    {
     "name": "stderr",
     "output_type": "stream",
     "text": [
      "/var/folders/ft/tdx4j_ks1s33pn4xyp1nq6km0000gn/T/ipykernel_93420/3843766324.py:109: UserWarning: /Volumes/图图/DMID-kaggle/archive/sementic-mask/IMG467_mask.png is a low contrast image\n",
      "  io.imsave(output_mask_path, mask)\n"
     ]
    },
    {
     "name": "stdout",
     "output_type": "stream",
     "text": [
      "Image IMG468, Center Point (620, 2060), Test Result: 1.0\n",
      "Abnormality: CIRC, Class ID: 1\n"
     ]
    },
    {
     "name": "stderr",
     "output_type": "stream",
     "text": [
      "/var/folders/ft/tdx4j_ks1s33pn4xyp1nq6km0000gn/T/ipykernel_93420/3843766324.py:109: UserWarning: /Volumes/图图/DMID-kaggle/archive/sementic-mask/IMG468_mask.png is a low contrast image\n",
      "  io.imsave(output_mask_path, mask)\n"
     ]
    },
    {
     "name": "stdout",
     "output_type": "stream",
     "text": [
      "Image IMG469, Center Point (873, 3796), Test Result: 1.0\n",
      "Abnormality: CIRC, Class ID: 1\n"
     ]
    },
    {
     "name": "stderr",
     "output_type": "stream",
     "text": [
      "/var/folders/ft/tdx4j_ks1s33pn4xyp1nq6km0000gn/T/ipykernel_93420/3843766324.py:109: UserWarning: /Volumes/图图/DMID-kaggle/archive/sementic-mask/IMG469_mask.png is a low contrast image\n",
      "  io.imsave(output_mask_path, mask)\n"
     ]
    },
    {
     "name": "stdout",
     "output_type": "stream",
     "text": [
      "Image IMG469, Center Point (933, 2976), Test Result: -1.0\n",
      "Image IMG469, Center Point (933, 2976), Test Result: -1.0\n",
      "Image IMG469, Center Point (933, 2976), Test Result: 1.0\n",
      "Abnormality: CIRC, Class ID: 1\n",
      "Image IMG469, Center Point (441, 3332), Test Result: -1.0\n",
      "Image IMG469, Center Point (441, 3332), Test Result: 1.0\n",
      "Abnormality: CALC, Class ID: 3\n",
      "Image IMG470, Center Point (966, 3472), Test Result: -1.0\n",
      "Image IMG470, Center Point (966, 3472), Test Result: 1.0\n",
      "Abnormality: CIRC, Class ID: 1\n"
     ]
    },
    {
     "name": "stderr",
     "output_type": "stream",
     "text": [
      "/var/folders/ft/tdx4j_ks1s33pn4xyp1nq6km0000gn/T/ipykernel_93420/3843766324.py:109: UserWarning: /Volumes/图图/DMID-kaggle/archive/sementic-mask/IMG470_mask.png is a low contrast image\n",
      "  io.imsave(output_mask_path, mask)\n"
     ]
    },
    {
     "name": "stdout",
     "output_type": "stream",
     "text": [
      "Image IMG470, Center Point (462, 3259), Test Result: -1.0\n",
      "Image IMG470, Center Point (462, 3259), Test Result: -1.0\n",
      "Image IMG470, Center Point (462, 3259), Test Result: 1.0\n",
      "Abnormality: CIRC, Class ID: 1\n",
      "Image IMG470, Center Point (771, 3898), Test Result: 1.0\n",
      "Abnormality: CIRC, Class ID: 1\n",
      "Image IMG470, Center Point (282, 2704), Test Result: -1.0\n",
      "Image IMG470, Center Point (282, 2704), Test Result: -1.0\n",
      "Image IMG470, Center Point (282, 2704), Test Result: -1.0\n",
      "Image IMG470, Center Point (282, 2704), Test Result: 1.0\n",
      "Abnormality: CALC, Class ID: 3\n",
      "Image IMG471, Center Point (516, 3416), Test Result: 1.0\n",
      "Abnormality: SPIC, Class ID: 2\n"
     ]
    },
    {
     "name": "stderr",
     "output_type": "stream",
     "text": [
      "/var/folders/ft/tdx4j_ks1s33pn4xyp1nq6km0000gn/T/ipykernel_93420/3843766324.py:109: UserWarning: /Volumes/图图/DMID-kaggle/archive/sementic-mask/IMG471_mask.png is a low contrast image\n",
      "  io.imsave(output_mask_path, mask)\n"
     ]
    },
    {
     "name": "stdout",
     "output_type": "stream",
     "text": [
      "Image IMG472, Center Point (520, 4156), Test Result: 1.0\n",
      "Abnormality: SPIC, Class ID: 2\n"
     ]
    },
    {
     "name": "stderr",
     "output_type": "stream",
     "text": [
      "/var/folders/ft/tdx4j_ks1s33pn4xyp1nq6km0000gn/T/ipykernel_93420/3843766324.py:109: UserWarning: /Volumes/图图/DMID-kaggle/archive/sementic-mask/IMG472_mask.png is a low contrast image\n",
      "  io.imsave(output_mask_path, mask)\n"
     ]
    },
    {
     "name": "stdout",
     "output_type": "stream",
     "text": [
      "Image IMG473, Center Point (2843, 3186), Test Result: 1.0\n",
      "Abnormality: MISC, Class ID: 4\n"
     ]
    },
    {
     "name": "stderr",
     "output_type": "stream",
     "text": [
      "/var/folders/ft/tdx4j_ks1s33pn4xyp1nq6km0000gn/T/ipykernel_93420/3843766324.py:109: UserWarning: /Volumes/图图/DMID-kaggle/archive/sementic-mask/IMG473_mask.png is a low contrast image\n",
      "  io.imsave(output_mask_path, mask)\n"
     ]
    },
    {
     "name": "stdout",
     "output_type": "stream",
     "text": [
      "Image IMG474, Center Point (2265, 2442), Test Result: 1.0\n",
      "Abnormality: MISC, Class ID: 4\n"
     ]
    },
    {
     "name": "stderr",
     "output_type": "stream",
     "text": [
      "/var/folders/ft/tdx4j_ks1s33pn4xyp1nq6km0000gn/T/ipykernel_93420/3843766324.py:109: UserWarning: /Volumes/图图/DMID-kaggle/archive/sementic-mask/IMG474_mask.png is a low contrast image\n",
      "  io.imsave(output_mask_path, mask)\n"
     ]
    },
    {
     "name": "stdout",
     "output_type": "stream",
     "text": [
      "Image IMG475, Center Point (2003, 3744), Test Result: 1.0\n",
      "Abnormality: MISC, Class ID: 4\n"
     ]
    },
    {
     "name": "stderr",
     "output_type": "stream",
     "text": [
      "/var/folders/ft/tdx4j_ks1s33pn4xyp1nq6km0000gn/T/ipykernel_93420/3843766324.py:109: UserWarning: /Volumes/图图/DMID-kaggle/archive/sementic-mask/IMG475_mask.png is a low contrast image\n",
      "  io.imsave(output_mask_path, mask)\n"
     ]
    },
    {
     "name": "stdout",
     "output_type": "stream",
     "text": [
      "Image IMG475, Center Point (831, 2716), Test Result: -1.0\n",
      "Image IMG475, Center Point (831, 2716), Test Result: 1.0\n",
      "Abnormality: CIRC, Class ID: 1\n",
      "Image IMG476, Center Point (1802, 3052), Test Result: 1.0\n",
      "Abnormality: MISC, Class ID: 4\n"
     ]
    },
    {
     "name": "stderr",
     "output_type": "stream",
     "text": [
      "/var/folders/ft/tdx4j_ks1s33pn4xyp1nq6km0000gn/T/ipykernel_93420/3843766324.py:109: UserWarning: /Volumes/图图/DMID-kaggle/archive/sementic-mask/IMG476_mask.png is a low contrast image\n",
      "  io.imsave(output_mask_path, mask)\n"
     ]
    },
    {
     "name": "stdout",
     "output_type": "stream",
     "text": [
      "Image IMG477, Center Point (732, 2616), Test Result: 1.0\n",
      "Abnormality: CIRC, Class ID: 1\n"
     ]
    },
    {
     "name": "stderr",
     "output_type": "stream",
     "text": [
      "/var/folders/ft/tdx4j_ks1s33pn4xyp1nq6km0000gn/T/ipykernel_93420/3843766324.py:109: UserWarning: /Volumes/图图/DMID-kaggle/archive/sementic-mask/IMG477_mask.png is a low contrast image\n",
      "  io.imsave(output_mask_path, mask)\n"
     ]
    },
    {
     "name": "stdout",
     "output_type": "stream",
     "text": [
      "Image IMG478, Center Point (714, 1542), Test Result: -1.0\n",
      "Image IMG478, Center Point (714, 1542), Test Result: 1.0\n",
      "Abnormality: CIRC, Class ID: 1\n"
     ]
    },
    {
     "name": "stderr",
     "output_type": "stream",
     "text": [
      "/var/folders/ft/tdx4j_ks1s33pn4xyp1nq6km0000gn/T/ipykernel_93420/3843766324.py:109: UserWarning: /Volumes/图图/DMID-kaggle/archive/sementic-mask/IMG478_mask.png is a low contrast image\n",
      "  io.imsave(output_mask_path, mask)\n"
     ]
    },
    {
     "name": "stdout",
     "output_type": "stream",
     "text": [
      "Image IMG478, Center Point (348, 2886), Test Result: 1.0\n",
      "Abnormality: CIRC, Class ID: 1\n",
      "Image IMG479, Center Point (3956, 2098), Test Result: 1.0\n",
      "Abnormality: SPIC, Class ID: 2\n"
     ]
    },
    {
     "name": "stderr",
     "output_type": "stream",
     "text": [
      "/var/folders/ft/tdx4j_ks1s33pn4xyp1nq6km0000gn/T/ipykernel_93420/3843766324.py:109: UserWarning: /Volumes/图图/DMID-kaggle/archive/sementic-mask/IMG479_mask.png is a low contrast image\n",
      "  io.imsave(output_mask_path, mask)\n"
     ]
    },
    {
     "name": "stdout",
     "output_type": "stream",
     "text": [
      "Image IMG480, Center Point (4334, 2408), Test Result: 1.0\n",
      "Abnormality: SPIC, Class ID: 2\n"
     ]
    },
    {
     "name": "stderr",
     "output_type": "stream",
     "text": [
      "/var/folders/ft/tdx4j_ks1s33pn4xyp1nq6km0000gn/T/ipykernel_93420/3843766324.py:109: UserWarning: /Volumes/图图/DMID-kaggle/archive/sementic-mask/IMG480_mask.png is a low contrast image\n",
      "  io.imsave(output_mask_path, mask)\n"
     ]
    },
    {
     "name": "stdout",
     "output_type": "stream",
     "text": [
      "Image IMG481, Center Point (4120, 3744), Test Result: 1.0\n",
      "Abnormality: CIRC, Class ID: 1\n"
     ]
    },
    {
     "name": "stderr",
     "output_type": "stream",
     "text": [
      "/var/folders/ft/tdx4j_ks1s33pn4xyp1nq6km0000gn/T/ipykernel_93420/3843766324.py:109: UserWarning: /Volumes/图图/DMID-kaggle/archive/sementic-mask/IMG481_mask.png is a low contrast image\n",
      "  io.imsave(output_mask_path, mask)\n"
     ]
    },
    {
     "name": "stdout",
     "output_type": "stream",
     "text": [
      "Image IMG482, Center Point (4061, 2514), Test Result: 1.0\n",
      "Abnormality: CIRC, Class ID: 1\n"
     ]
    },
    {
     "name": "stderr",
     "output_type": "stream",
     "text": [
      "/var/folders/ft/tdx4j_ks1s33pn4xyp1nq6km0000gn/T/ipykernel_93420/3843766324.py:109: UserWarning: /Volumes/图图/DMID-kaggle/archive/sementic-mask/IMG482_mask.png is a low contrast image\n",
      "  io.imsave(output_mask_path, mask)\n"
     ]
    },
    {
     "name": "stdout",
     "output_type": "stream",
     "text": [
      "Image IMG483, Center Point (1182, 2889), Test Result: 1.0\n",
      "Abnormality: SPIC, Class ID: 2\n"
     ]
    },
    {
     "name": "stderr",
     "output_type": "stream",
     "text": [
      "/var/folders/ft/tdx4j_ks1s33pn4xyp1nq6km0000gn/T/ipykernel_93420/3843766324.py:109: UserWarning: /Volumes/图图/DMID-kaggle/archive/sementic-mask/IMG483_mask.png is a low contrast image\n",
      "  io.imsave(output_mask_path, mask)\n"
     ]
    },
    {
     "name": "stdout",
     "output_type": "stream",
     "text": [
      "Image IMG484, Center Point (1070, 3540), Test Result: 1.0\n",
      "Abnormality: SPIC, Class ID: 2\n"
     ]
    },
    {
     "name": "stderr",
     "output_type": "stream",
     "text": [
      "/var/folders/ft/tdx4j_ks1s33pn4xyp1nq6km0000gn/T/ipykernel_93420/3843766324.py:109: UserWarning: /Volumes/图图/DMID-kaggle/archive/sementic-mask/IMG484_mask.png is a low contrast image\n",
      "  io.imsave(output_mask_path, mask)\n"
     ]
    },
    {
     "name": "stdout",
     "output_type": "stream",
     "text": [
      "Image IMG486, Center Point (748, 3616), Test Result: 1.0\n",
      "Abnormality: SPIC, Class ID: 2\n"
     ]
    },
    {
     "name": "stderr",
     "output_type": "stream",
     "text": [
      "/var/folders/ft/tdx4j_ks1s33pn4xyp1nq6km0000gn/T/ipykernel_93420/3843766324.py:109: UserWarning: /Volumes/图图/DMID-kaggle/archive/sementic-mask/IMG486_mask.png is a low contrast image\n",
      "  io.imsave(output_mask_path, mask)\n"
     ]
    },
    {
     "name": "stdout",
     "output_type": "stream",
     "text": [
      "Image IMG487, Center Point (913, 3318), Test Result: 1.0\n",
      "Abnormality: SPIC, Class ID: 2\n"
     ]
    },
    {
     "name": "stderr",
     "output_type": "stream",
     "text": [
      "/var/folders/ft/tdx4j_ks1s33pn4xyp1nq6km0000gn/T/ipykernel_93420/3843766324.py:109: UserWarning: /Volumes/图图/DMID-kaggle/archive/sementic-mask/IMG487_mask.png is a low contrast image\n",
      "  io.imsave(output_mask_path, mask)\n"
     ]
    },
    {
     "name": "stdout",
     "output_type": "stream",
     "text": [
      "Image IMG488, Center Point (910, 2760), Test Result: 1.0\n",
      "Abnormality: SPIC, Class ID: 2\n"
     ]
    },
    {
     "name": "stderr",
     "output_type": "stream",
     "text": [
      "/var/folders/ft/tdx4j_ks1s33pn4xyp1nq6km0000gn/T/ipykernel_93420/3843766324.py:109: UserWarning: /Volumes/图图/DMID-kaggle/archive/sementic-mask/IMG488_mask.png is a low contrast image\n",
      "  io.imsave(output_mask_path, mask)\n"
     ]
    },
    {
     "name": "stdout",
     "output_type": "stream",
     "text": [
      "Image IMG489, Center Point (1277, 2603), Test Result: 1.0\n",
      "Abnormality: SPIC, Class ID: 2\n"
     ]
    },
    {
     "name": "stderr",
     "output_type": "stream",
     "text": [
      "/var/folders/ft/tdx4j_ks1s33pn4xyp1nq6km0000gn/T/ipykernel_93420/3843766324.py:109: UserWarning: /Volumes/图图/DMID-kaggle/archive/sementic-mask/IMG489_mask.png is a low contrast image\n",
      "  io.imsave(output_mask_path, mask)\n"
     ]
    },
    {
     "name": "stdout",
     "output_type": "stream",
     "text": [
      "Image IMG492, Center Point (1141, 2929), Test Result: 1.0\n",
      "Abnormality: MISC, Class ID: 4\n"
     ]
    },
    {
     "name": "stderr",
     "output_type": "stream",
     "text": [
      "/var/folders/ft/tdx4j_ks1s33pn4xyp1nq6km0000gn/T/ipykernel_93420/3843766324.py:109: UserWarning: /Volumes/图图/DMID-kaggle/archive/sementic-mask/IMG492_mask.png is a low contrast image\n",
      "  io.imsave(output_mask_path, mask)\n"
     ]
    },
    {
     "name": "stdout",
     "output_type": "stream",
     "text": [
      "Image IMG493, Center Point (1292, 3093), Test Result: 1.0\n",
      "Abnormality: MISC, Class ID: 4\n"
     ]
    },
    {
     "name": "stderr",
     "output_type": "stream",
     "text": [
      "/var/folders/ft/tdx4j_ks1s33pn4xyp1nq6km0000gn/T/ipykernel_93420/3843766324.py:109: UserWarning: /Volumes/图图/DMID-kaggle/archive/sementic-mask/IMG493_mask.png is a low contrast image\n",
      "  io.imsave(output_mask_path, mask)\n"
     ]
    },
    {
     "name": "stdout",
     "output_type": "stream",
     "text": [
      "Image IMG496, Center Point (4232, 2028), Test Result: 1.0\n",
      "Abnormality: MISC, Class ID: 4\n"
     ]
    },
    {
     "name": "stderr",
     "output_type": "stream",
     "text": [
      "/var/folders/ft/tdx4j_ks1s33pn4xyp1nq6km0000gn/T/ipykernel_93420/3843766324.py:109: UserWarning: /Volumes/图图/DMID-kaggle/archive/sementic-mask/IMG496_mask.png is a low contrast image\n",
      "  io.imsave(output_mask_path, mask)\n"
     ]
    },
    {
     "name": "stdout",
     "output_type": "stream",
     "text": [
      "Image IMG497, Center Point (3411, 3283), Test Result: 1.0\n",
      "Abnormality: CALC, Class ID: 3\n"
     ]
    },
    {
     "name": "stderr",
     "output_type": "stream",
     "text": [
      "/var/folders/ft/tdx4j_ks1s33pn4xyp1nq6km0000gn/T/ipykernel_93420/3843766324.py:109: UserWarning: /Volumes/图图/DMID-kaggle/archive/sementic-mask/IMG497_mask.png is a low contrast image\n",
      "  io.imsave(output_mask_path, mask)\n"
     ]
    },
    {
     "name": "stdout",
     "output_type": "stream",
     "text": [
      "Image IMG497, Center Point (3744, 2321), Test Result: -1.0\n",
      "Image IMG497, Center Point (3744, 2321), Test Result: 1.0\n",
      "Abnormality: CIRC, Class ID: 1\n",
      "Image IMG498, Center Point (3211, 3613), Test Result: 1.0\n",
      "Abnormality: CALC, Class ID: 3\n"
     ]
    },
    {
     "name": "stderr",
     "output_type": "stream",
     "text": [
      "/var/folders/ft/tdx4j_ks1s33pn4xyp1nq6km0000gn/T/ipykernel_93420/3843766324.py:109: UserWarning: /Volumes/图图/DMID-kaggle/archive/sementic-mask/IMG498_mask.png is a low contrast image\n",
      "  io.imsave(output_mask_path, mask)\n"
     ]
    },
    {
     "name": "stdout",
     "output_type": "stream",
     "text": [
      "Image IMG498, Center Point (3548, 2932), Test Result: -1.0\n",
      "Image IMG498, Center Point (3548, 2932), Test Result: 1.0\n",
      "Abnormality: CIRC, Class ID: 1\n",
      "Image IMG499, Center Point (3333, 2874), Test Result: 1.0\n",
      "Abnormality: CIRC, Class ID: 1\n"
     ]
    },
    {
     "name": "stderr",
     "output_type": "stream",
     "text": [
      "/var/folders/ft/tdx4j_ks1s33pn4xyp1nq6km0000gn/T/ipykernel_93420/3843766324.py:109: UserWarning: /Volumes/图图/DMID-kaggle/archive/sementic-mask/IMG499_mask.png is a low contrast image\n",
      "  io.imsave(output_mask_path, mask)\n"
     ]
    },
    {
     "name": "stdout",
     "output_type": "stream",
     "text": [
      "Image IMG500, Center Point (3279, 3913), Test Result: 1.0\n",
      "Abnormality: CIRC, Class ID: 1\n"
     ]
    },
    {
     "name": "stderr",
     "output_type": "stream",
     "text": [
      "/var/folders/ft/tdx4j_ks1s33pn4xyp1nq6km0000gn/T/ipykernel_93420/3843766324.py:109: UserWarning: /Volumes/图图/DMID-kaggle/archive/sementic-mask/IMG500_mask.png is a low contrast image\n",
      "  io.imsave(output_mask_path, mask)\n"
     ]
    },
    {
     "name": "stdout",
     "output_type": "stream",
     "text": [
      "未检测到: ['IMG059', 'IMG068', 'IMG070', 'IMG103', 'IMG125', 'IMG125', 'IMG125', 'IMG156', 'IMG356', 'IMG445']\n",
      "生成的类别字典: {'background': 0, 'CIRC': 1, 'SPIC': 2, 'CALC': 3, 'MISC': 4}\n"
     ]
    }
   ],
   "source": [
    "import os\n",
    "import cv2\n",
    "import numpy as np\n",
    "import pandas as pd\n",
    "from skimage import io\n",
    "from PIL import Image\n",
    "\n",
    "# 读取Excel文件\n",
    "excel_path = '/Volumes/图图/DMID-kaggle/archive/Metadata.xlsx'\n",
    "df = pd.read_excel(excel_path)\n",
    "\n",
    "# 定义路径\n",
    "base_image_path = '/Volumes/图图/DMID-kaggle/archive/Pixel-level-annotation/Pixel-level-annotation'\n",
    "output_path = '/Volumes/图图/DMID-kaggle/archive/sementic-mask'\n",
    "\n",
    "# 创建输出目录\n",
    "if not os.path.exists(output_path):\n",
    "    os.makedirs(output_path)\n",
    "\n",
    "# 初始化类别字典\n",
    "classes = {'background': 0}\n",
    "\n",
    "def determine_class(abnormality):\n",
    "    \"\"\"\n",
    "    将abnormality映射到类别索引。新的类别将自动分配一个新的索引。\n",
    "\n",
    "    参数:\n",
    "    abnormality: 异常类型\n",
    "    \n",
    "    返回:\n",
    "    class_id: 类别索引\n",
    "    \"\"\"\n",
    "    if abnormality not in classes:\n",
    "        classes[abnormality] = len(classes)  # 为新类别分配新的索引\n",
    "    print(f\"Abnormality: {abnormality}, Class ID: {classes[abnormality]}\")\n",
    "    return classes[abnormality]\n",
    "not_detect=[]\n",
    "# 遍历所有ID\n",
    "for index, row in df.iterrows():\n",
    "    img_id = row['ID'].strip()  # 假设ID列名为'ID'\n",
    "    x_value = row['x']\n",
    "    abnormality = row['abnormality'].strip()\n",
    "    \n",
    "    # 如果abnormality中包含+号，跳过此行\n",
    "    if '+' in str(abnormality):\n",
    "        continue\n",
    "    \n",
    "    if pd.notna(x_value):  # 检查x列是否为空\n",
    "        # 加载图像\n",
    "        img_path = os.path.join(base_image_path, f'{img_id}.tif')\n",
    "        \n",
    "        try:\n",
    "            image = Image.open(img_path)\n",
    "        except:\n",
    "            continue\n",
    "        image = np.array(image)\n",
    "\n",
    "        # 创建空白掩码\n",
    "        mask = np.zeros((image.shape[0], image.shape[1]), dtype=np.uint8)\n",
    "\n",
    "        hsv_image = cv2.cvtColor(image, cv2.COLOR_BGR2HSV)\n",
    "\n",
    "        # 定义红色和绿色的HSV范围\n",
    "        lower_red1 = np.array([0, 15, 15])\n",
    "        upper_red1 = np.array([200, 255, 255])\n",
    "        lower_red2 = np.array([160, 30, 30])\n",
    "        upper_red2 = np.array([180, 255, 255])\n",
    "        lower_green = np.array([30, 30, 30])\n",
    "        upper_green = np.array([90, 255, 255])\n",
    "\n",
    "        # 过滤红色和绿色\n",
    "        mask_red1 = cv2.inRange(hsv_image, lower_red1, upper_red1)\n",
    "        mask_red2 = cv2.inRange(hsv_image, lower_red2, upper_red2)\n",
    "        mask_red = mask_red1 | mask_red2  # Combine red masks\n",
    "        mask_green = cv2.inRange(hsv_image, lower_green, upper_green)\n",
    "\n",
    "        # 合并红色和绿色的掩码\n",
    "        combined_mask = mask_red | mask_green\n",
    "\n",
    "        # 使用形态学操作去噪\n",
    "        kernel = np.ones((5, 5), np.uint8)\n",
    "        cleaned_mask = cv2.morphologyEx(combined_mask, cv2.MORPH_CLOSE, kernel)\n",
    "\n",
    "        # 查找轮廓\n",
    "        contours, _ = cv2.findContours(cleaned_mask, cv2.RETR_EXTERNAL, cv2.CHAIN_APPROX_SIMPLE)\n",
    "\n",
    "        # 计算x, y中心点\n",
    "        center_x = int(row['x'])\n",
    "        center_y = int(row['y'])\n",
    "\n",
    "        # 检查哪个边缘包围了中心点，并生成mask\n",
    "        found_contour = False\n",
    "        for contour in contours:\n",
    "            test_result = cv2.pointPolygonTest(contour, (center_x, center_y), False)\n",
    "            print(f\"Image {img_id}, Center Point ({center_x}, {center_y}), Test Result: {test_result}\")\n",
    "            if test_result >= 0:\n",
    "                abnormality_class = determine_class(abnormality)\n",
    "                # 使用cv2.fillPoly将边缘内部的所有像素设置为类别值\n",
    "                cv2.fillPoly(mask, [contour], abnormality_class)\n",
    "                found_contour = True\n",
    "                break  # 一旦找到包围中心点的边缘，就跳出循环\n",
    "        \n",
    "        if not found_contour:\n",
    "            not_detect.append(img_id)\n",
    "            print(f\"No contour found for image {img_id} with center point ({center_x}, {center_y})\")\n",
    "\n",
    "        # 保存生成的mask\n",
    "        output_mask_path = os.path.join(output_path, f'{img_id}_mask.png')\n",
    "        io.imsave(output_mask_path, mask)\n",
    "\n",
    "# 打印生成的类别字典\n",
    "print('未检测到:',not_detect)\n",
    "print(\"生成的类别字典:\", classes)\n"
   ]
  },
  {
   "cell_type": "code",
   "execution_count": null,
   "metadata": {},
   "outputs": [],
   "source": []
  }
 ],
 "metadata": {
  "kernelspec": {
   "display_name": "base",
   "language": "python",
   "name": "python3"
  },
  "language_info": {
   "codemirror_mode": {
    "name": "ipython",
    "version": 3
   },
   "file_extension": ".py",
   "mimetype": "text/x-python",
   "name": "python",
   "nbconvert_exporter": "python",
   "pygments_lexer": "ipython3",
   "version": "3.8.18"
  }
 },
 "nbformat": 4,
 "nbformat_minor": 2
}
